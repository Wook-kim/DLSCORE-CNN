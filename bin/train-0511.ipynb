{
 "cells": [
  {
   "cell_type": "code",
   "execution_count": 1,
   "metadata": {},
   "outputs": [
    {
     "name": "stderr",
     "output_type": "stream",
     "text": [
      "/usr/local/anaconda3/envs/deeplearning/lib/python3.6/site-packages/h5py/__init__.py:34: FutureWarning: Conversion of the second argument of issubdtype from `float` to `np.floating` is deprecated. In future, it will be treated as `np.float64 == np.dtype(float).type`.\n",
      "  from ._conv import register_converters as _register_converters\n",
      "Using TensorFlow backend.\n"
     ]
    },
    {
     "name": "stdout",
     "output_type": "stream",
     "text": [
      "\n",
      "Please cite HTMD: Doerr et al.(2016)JCTC,12,1845. \n",
      "https://dx.doi.org/10.1021/acs.jctc.6b00049\n",
      "Documentation: http://software.acellera.com/\n",
      "To update: conda update htmd -c acellera -c psi4\n",
      "\n",
      "New devel HTMD version (1.12.3 python[3.6,<3.7.0a0,3.5,<3.6.0a0]) is available. You are currently on (1.9.10). Use 'conda update -c acellera htmd' to update to the new version. You might need to update your python version as well if there is no release for your current version.\n",
      "\n",
      "Deprecation warning: \"from htmd import *\" will be deprecated. \n",
      "To import all HTMD shortcuts please from now on use \"from htmd.ui import *\"\n"
     ]
    }
   ],
   "source": [
    "from keras.models import Sequential\n",
    "from keras.layers import Dropout, Flatten, Dense\n",
    "from keras.layers.convolutional import Conv3D\n",
    "from keras.layers.pooling import MaxPooling3D, GlobalAveragePooling3D, AveragePooling3D\n",
    "from keras import metrics\n",
    "from keras import optimizers\n",
    "from keras import backend as K\n",
    "from keras.utils.training_utils import multi_gpu_model\n",
    "from keras.utils.data_utils import Sequence\n",
    "from keras.callbacks import ModelCheckpoint\n",
    "from keras.initializers import he_uniform\n",
    "import htmd.ui as ht\n",
    "import htmd.molecule.voxeldescriptors as vd\n",
    "import htmd.vmdviewer as vmdviewer\n",
    "import csv\n",
    "import pickle\n",
    "import numpy as np\n",
    "from tqdm import *\n",
    "import bcolz as bc\n",
    "import glob\n",
    "import os\n",
    "import random\n",
    "from sklearn.metrics import r2_score\n",
    "import matplotlib.pyplot as plt"
   ]
  },
  {
   "cell_type": "code",
   "execution_count": 20,
   "metadata": {},
   "outputs": [],
   "source": [
    "%matplotlib inline\n",
    "bc.set_nthreads = 8"
   ]
  },
  {
   "cell_type": "code",
   "execution_count": 3,
   "metadata": {},
   "outputs": [],
   "source": [
    "def get_model1(summary=False):\n",
    "    \"\"\" Return the Keras model of the network\n",
    "    \"\"\"\n",
    "    model = Sequential()\n",
    "    \n",
    "    # 1st layer group\n",
    "    model.add(Conv3D(filters=32,\n",
    "                     kernel_size=(3, 3, 3),\n",
    "                     strides = (1, 1, 1),\n",
    "                     input_shape=(24, 24, 24, 16),\n",
    "                     padding='same',\n",
    "                     activation='relu',\n",
    "                     kernel_initializer=he_uniform(seed=9876),\n",
    "                     bias_initializer='zeros'))\n",
    "    \n",
    "    model.add(Conv3D(filters=32,\n",
    "                     kernel_size=(3, 3, 3),\n",
    "                     strides = (1, 1, 1),\n",
    "                     activation='relu',\n",
    "                     padding='same'))\n",
    "    \n",
    "    model.add(MaxPooling3D(pool_size=(2, 2, 2),\n",
    "                           padding='valid'))\n",
    "    \n",
    "    # 2nd layer group\n",
    "    model.add(Conv3D(filters=64,\n",
    "                     kernel_size=(3, 3, 3),\n",
    "                     strides = (1, 1, 1),\n",
    "                     activation='relu',\n",
    "                     padding='same'))\n",
    "    \n",
    "    model.add(Conv3D(filters=64,\n",
    "                     kernel_size=(3, 3, 3),\n",
    "                     strides = (1, 1, 1),\n",
    "                     activation='relu',\n",
    "                     padding='same'))\n",
    "    \n",
    "    model.add(MaxPooling3D(pool_size=(2, 2, 2),\n",
    "                           padding='valid'))\n",
    "    \n",
    "    # 3rd layer group\n",
    "    model.add(Conv3D(filters=128,\n",
    "                     kernel_size=(3, 3, 3),\n",
    "                     strides = (1, 1, 1),\n",
    "                     activation='relu',\n",
    "                     padding='same'))\n",
    "    \n",
    "    model.add(Conv3D(filters=128,\n",
    "                     kernel_size=(3, 3, 3),\n",
    "                     strides = (1, 1, 1),\n",
    "                     activation='relu',\n",
    "                     padding='same'))\n",
    "    \n",
    "    model.add(MaxPooling3D(pool_size=(2, 2, 2),\n",
    "                           padding='valid'))\n",
    "    \n",
    "    # 4th layer group\n",
    "#     model.add(Conv3D(filters=128,\n",
    "#                      kernel_size=(3, 3, 3),\n",
    "#                      activation='relu',\n",
    "#                      padding='valid'))\n",
    "    \n",
    "#     model.add(MaxPooling3D(pool_size=(2, 2, 2),\n",
    "#                            #strides=(1, 1, 1),\n",
    "#                            padding='valid'))\n",
    "    \n",
    "    #model.add(AveragePooling3D(pool_size=(2, 2, 2), \n",
    "    #                           padding='valid'))\n",
    "                           \n",
    "    model.add(Flatten())\n",
    "#     model.add(Dense(512, activation='relu'))\n",
    "#     model.add(Dropout(.5))\n",
    "    model.add(Dense(256, activation='relu'))\n",
    "#     model.add(Dropout(.5))\n",
    "    model.add(Dense(1, activation='linear'))\n",
    "    if summary:\n",
    "        print(model.summary())\n",
    "    return model"
   ]
  },
  {
   "cell_type": "code",
   "execution_count": 4,
   "metadata": {},
   "outputs": [],
   "source": [
    "def get_model2(summary=False):\n",
    "    \"\"\" Return the Keras model of the network\n",
    "    \"\"\"\n",
    "    model = Sequential()\n",
    "    \n",
    "    # 1st layer group\n",
    "    model.add(Conv3D(filters=32,\n",
    "                     kernel_size=(3, 3, 3),\n",
    "                     strides = (1, 1, 1),\n",
    "                     input_shape=(24, 24, 24, 16),\n",
    "                     padding='same',\n",
    "                     activation='relu',\n",
    "                     kernel_initializer=he_uniform(seed=9876),\n",
    "                     bias_initializer='zeros'))\n",
    "    \n",
    "    model.add(Conv3D(filters=32,\n",
    "                     kernel_size=(3, 3, 3),\n",
    "                     strides = (1, 1, 1),\n",
    "                     activation='relu',\n",
    "                     padding='same'))\n",
    "    \n",
    "    model.add(MaxPooling3D(pool_size=(2, 2, 2),\n",
    "                           padding='valid'))\n",
    "    \n",
    "    # 2nd layer group\n",
    "    model.add(Conv3D(filters=64,\n",
    "                     kernel_size=(3, 3, 3),\n",
    "                     strides = (1, 1, 1),\n",
    "                     activation='relu',\n",
    "                     padding='same'))\n",
    "    \n",
    "    model.add(Conv3D(filters=64,\n",
    "                     kernel_size=(3, 3, 3),\n",
    "                     strides = (1, 1, 1),\n",
    "                     activation='relu',\n",
    "                     padding='same'))\n",
    "    \n",
    "    model.add(MaxPooling3D(pool_size=(2, 2, 2),\n",
    "                           padding='valid'))\n",
    "    \n",
    "    # 3rd layer group\n",
    "    model.add(Conv3D(filters=128,\n",
    "                     kernel_size=(3, 3, 3),\n",
    "                     strides = (1, 1, 1),\n",
    "                     activation='relu',\n",
    "                     padding='same'))\n",
    "    \n",
    "    model.add(Conv3D(filters=128,\n",
    "                     kernel_size=(3, 3, 3),\n",
    "                     strides = (1, 1, 1),\n",
    "                     activation='relu',\n",
    "                     padding='same'))\n",
    "    \n",
    "    model.add(Conv3D(filters=32,\n",
    "                    kernel_size=(1, 1, 1),\n",
    "                    strides = (1, 1, 1), \n",
    "                    activation = 'relu',\n",
    "                    padding = 'same'))\n",
    "                           \n",
    "    model.add(Flatten())\n",
    "    model.add(Dense(256, activation='relu'))\n",
    "    model.add(Dense(1, activation='linear'))\n",
    "    if summary:\n",
    "        print(model.summary())\n",
    "    return model"
   ]
  },
  {
   "cell_type": "code",
   "execution_count": 5,
   "metadata": {},
   "outputs": [],
   "source": [
    "def get_model3(summary=False):\n",
    "    \"\"\" Return the Keras model of the network\n",
    "    \"\"\"\n",
    "    model = Sequential()\n",
    "    \n",
    "    # 1st layer group\n",
    "    model.add(Conv3D(filters=32,\n",
    "                     kernel_size=(3, 3, 3),\n",
    "                     strides = (1, 1, 1),\n",
    "                     input_shape=(50, 50, 50, 16),\n",
    "                     padding='same',\n",
    "                     activation='relu',\n",
    "                     kernel_initializer=he_uniform(seed=9876),\n",
    "                     bias_initializer='zeros'))\n",
    "    \n",
    "    model.add(Conv3D(filters=32,\n",
    "                     kernel_size=(3, 3, 3),\n",
    "                     strides = (1, 1, 1),\n",
    "                     activation='relu',\n",
    "                     padding='same'))\n",
    "    \n",
    "    model.add(MaxPooling3D(pool_size=(2, 2, 2),\n",
    "                           padding='valid'))\n",
    "    \n",
    "    # 2nd layer group\n",
    "    model.add(Conv3D(filters=64,\n",
    "                     kernel_size=(3, 3, 3),\n",
    "                     strides = (1, 1, 1),\n",
    "                     activation='relu',\n",
    "                     padding='same'))\n",
    "    \n",
    "    model.add(Conv3D(filters=64,\n",
    "                     kernel_size=(3, 3, 3),\n",
    "                     strides = (1, 1, 1),\n",
    "                     activation='relu',\n",
    "                     padding='same'))\n",
    "    \n",
    "    model.add(MaxPooling3D(pool_size=(2, 2, 2),\n",
    "                           padding='valid'))\n",
    "    \n",
    "    # 3rd layer group\n",
    "    model.add(Conv3D(filters=128,\n",
    "                     kernel_size=(3, 3, 3),\n",
    "                     strides = (1, 1, 1),\n",
    "                     activation='relu',\n",
    "                     padding='same'))\n",
    "    \n",
    "    model.add(Conv3D(filters=128,\n",
    "                     kernel_size=(3, 3, 3),\n",
    "                     strides = (1, 1, 1),\n",
    "                     activation='relu',\n",
    "                     padding='same'))\n",
    "    \n",
    "    model.add(MaxPooling3D(pool_size=(2, 2, 2),\n",
    "                           padding='valid'))\n",
    "    \n",
    "    # 4th layer group\n",
    "#     model.add(Conv3D(filters=128,\n",
    "#                      kernel_size=(3, 3, 3),\n",
    "#                      activation='relu',\n",
    "#                      padding='valid'))\n",
    "    \n",
    "#     model.add(MaxPooling3D(pool_size=(2, 2, 2),\n",
    "#                            #strides=(1, 1, 1),\n",
    "#                            padding='valid'))\n",
    "    \n",
    "    #model.add(AveragePooling3D(pool_size=(2, 2, 2), \n",
    "    #                           padding='valid'))\n",
    "                           \n",
    "    model.add(Flatten())\n",
    "#     model.add(Dense(512, activation='relu'))\n",
    "#     model.add(Dropout(.5))\n",
    "    model.add(Dense(256, activation='relu'))\n",
    "#     model.add(Dropout(.5))\n",
    "    model.add(Dense(1, activation='linear'))\n",
    "    if summary:\n",
    "        print(model.summary())\n",
    "    return model"
   ]
  },
  {
   "cell_type": "code",
   "execution_count": 6,
   "metadata": {},
   "outputs": [
    {
     "name": "stdout",
     "output_type": "stream",
     "text": [
      "_________________________________________________________________\n",
      "Layer (type)                 Output Shape              Param #   \n",
      "=================================================================\n",
      "conv3d_1 (Conv3D)            (None, 50, 50, 50, 32)    13856     \n",
      "_________________________________________________________________\n",
      "conv3d_2 (Conv3D)            (None, 50, 50, 50, 32)    27680     \n",
      "_________________________________________________________________\n",
      "max_pooling3d_1 (MaxPooling3 (None, 25, 25, 25, 32)    0         \n",
      "_________________________________________________________________\n",
      "conv3d_3 (Conv3D)            (None, 25, 25, 25, 64)    55360     \n",
      "_________________________________________________________________\n",
      "conv3d_4 (Conv3D)            (None, 25, 25, 25, 64)    110656    \n",
      "_________________________________________________________________\n",
      "max_pooling3d_2 (MaxPooling3 (None, 12, 12, 12, 64)    0         \n",
      "_________________________________________________________________\n",
      "conv3d_5 (Conv3D)            (None, 12, 12, 12, 128)   221312    \n",
      "_________________________________________________________________\n",
      "conv3d_6 (Conv3D)            (None, 12, 12, 12, 128)   442496    \n",
      "_________________________________________________________________\n",
      "max_pooling3d_3 (MaxPooling3 (None, 6, 6, 6, 128)      0         \n",
      "_________________________________________________________________\n",
      "flatten_1 (Flatten)          (None, 27648)             0         \n",
      "_________________________________________________________________\n",
      "dense_1 (Dense)              (None, 256)               7078144   \n",
      "_________________________________________________________________\n",
      "dense_2 (Dense)              (None, 1)                 257       \n",
      "=================================================================\n",
      "Total params: 7,949,761\n",
      "Trainable params: 7,949,761\n",
      "Non-trainable params: 0\n",
      "_________________________________________________________________\n",
      "None\n"
     ]
    },
    {
     "data": {
      "text/plain": [
       "<keras.models.Sequential at 0x7f3f1dd1fe80>"
      ]
     },
     "execution_count": 6,
     "metadata": {},
     "output_type": "execute_result"
    }
   ],
   "source": [
    "get_model3(summary=True)"
   ]
  },
  {
   "cell_type": "code",
   "execution_count": 7,
   "metadata": {},
   "outputs": [
    {
     "data": {
      "text/plain": [
       "((3794, 24, 24, 24, 16), (3794,))"
      ]
     },
     "execution_count": 7,
     "metadata": {},
     "output_type": "execute_result"
    }
   ],
   "source": [
    "with open('data_x.pickle', 'rb') as f:\n",
    "    data_x = pickle.load(f)\n",
    "with open('data_y.pickle', 'rb') as f:\n",
    "    data_y = pickle.load(f)\n",
    "\n",
    "data_x.shape, data_y.shape"
   ]
  },
  {
   "cell_type": "code",
   "execution_count": 7,
   "metadata": {},
   "outputs": [
    {
     "data": {
      "text/plain": [
       "((3658, 50, 50, 50, 16), (3658,))"
      ]
     },
     "execution_count": 7,
     "metadata": {},
     "output_type": "execute_result"
    }
   ],
   "source": [
    "bc_data_x = bc.open(\"data_x_50/\")\n",
    "with open(\"data_y_50.pickle\", \"rb\") as f:\n",
    "    bc_data_y = pickle.load(f)\n",
    "bc_data_x.shape, bc_data_y.shape"
   ]
  },
  {
   "cell_type": "code",
   "execution_count": 8,
   "metadata": {},
   "outputs": [],
   "source": [
    "def batch_generator(batch_size):\n",
    "    global bc_data_x, bc_data_y\n",
    "    \n",
    "    while True:\n",
    "        rand_ids = np.random.choice(bc_data_x.shape[0] - 1000, batch_size) # Saving last 1000 for test\n",
    "        yield bc_data_x[rand_ids], bc_data_y[rand_ids]"
   ]
  },
  {
   "cell_type": "code",
   "execution_count": 16,
   "metadata": {},
   "outputs": [
    {
     "name": "stdout",
     "output_type": "stream",
     "text": [
      "CPU times: user 255 ms, sys: 340 ms, total: 594 ms\n",
      "Wall time: 244 ms\n"
     ]
    },
    {
     "data": {
      "text/plain": [
       "(10, 50, 50, 50, 16)"
      ]
     },
     "execution_count": 16,
     "metadata": {},
     "output_type": "execute_result"
    }
   ],
   "source": [
    "%time bx, by = next(batch_generator(10))\n",
    "bx.shape"
   ]
  },
  {
   "cell_type": "code",
   "execution_count": 8,
   "metadata": {},
   "outputs": [
    {
     "data": {
      "text/plain": [
       "((3500, 24, 24, 24, 16), (3500,), (100, 24, 24, 24, 16), (100,))"
      ]
     },
     "execution_count": 8,
     "metadata": {},
     "output_type": "execute_result"
    }
   ],
   "source": [
    "limit = 3500\n",
    "train_x, train_y = data_x[:limit], data_y[:limit]\n",
    "test_x, test_y = data_x[-100:], data_y[-100:]\n",
    "train_x.shape, train_y.shape, test_x.shape, test_y.shape"
   ]
  },
  {
   "cell_type": "code",
   "execution_count": 22,
   "metadata": {},
   "outputs": [],
   "source": [
    "nb_gpus = 8\n",
    "nb_batch = nb_gpus*32\n",
    "nb_epochs = 100\n",
    "l_rate = 0.00001"
   ]
  },
  {
   "cell_type": "code",
   "execution_count": 23,
   "metadata": {},
   "outputs": [],
   "source": [
    "model = get_model3()\n",
    "model = multi_gpu_model(model, gpus=nb_gpus)\n",
    "model.compile(optimizer=optimizers.rmsprop(lr=l_rate),\n",
    "              loss='mean_squared_error',\n",
    "              metrics=[metrics.mse])"
   ]
  },
  {
   "cell_type": "code",
   "execution_count": 24,
   "metadata": {},
   "outputs": [
    {
     "name": "stdout",
     "output_type": "stream",
     "text": [
      "Epoch 1/100\n",
      "14/14 [==============================] - 51s 4s/step - loss: 28.3830 - mean_squared_error: 28.3830\n",
      "Epoch 2/100\n",
      "14/14 [==============================] - 48s 3s/step - loss: 4.4050 - mean_squared_error: 4.4050\n",
      "Epoch 3/100\n",
      "14/14 [==============================] - 47s 3s/step - loss: 3.2533 - mean_squared_error: 3.2533\n",
      "Epoch 4/100\n",
      "14/14 [==============================] - 46s 3s/step - loss: 3.2563 - mean_squared_error: 3.2563\n",
      "Epoch 5/100\n",
      "14/14 [==============================] - 47s 3s/step - loss: 3.2907 - mean_squared_error: 3.2907\n",
      "Epoch 6/100\n",
      "14/14 [==============================] - 47s 3s/step - loss: 3.2661 - mean_squared_error: 3.2661\n",
      "Epoch 7/100\n",
      "14/14 [==============================] - 46s 3s/step - loss: 3.2528 - mean_squared_error: 3.2528\n",
      "Epoch 8/100\n",
      "14/14 [==============================] - 47s 3s/step - loss: 3.2058 - mean_squared_error: 3.2058\n",
      "Epoch 9/100\n",
      "14/14 [==============================] - 47s 3s/step - loss: 3.1964 - mean_squared_error: 3.1964\n",
      "Epoch 10/100\n",
      "14/14 [==============================] - 47s 3s/step - loss: 3.1946 - mean_squared_error: 3.1946\n",
      "Epoch 11/100\n",
      "14/14 [==============================] - 47s 3s/step - loss: 3.1650 - mean_squared_error: 3.1650\n",
      "Epoch 12/100\n",
      "14/14 [==============================] - 47s 3s/step - loss: 3.1084 - mean_squared_error: 3.1084\n",
      "Epoch 13/100\n",
      "14/14 [==============================] - 48s 3s/step - loss: 3.1605 - mean_squared_error: 3.1605\n",
      "Epoch 14/100\n",
      "14/14 [==============================] - 48s 3s/step - loss: 3.0574 - mean_squared_error: 3.0574\n",
      "Epoch 15/100\n",
      "14/14 [==============================] - 48s 3s/step - loss: 3.0484 - mean_squared_error: 3.0484\n",
      "Epoch 16/100\n",
      "14/14 [==============================] - 47s 3s/step - loss: 3.0165 - mean_squared_error: 3.0165\n",
      "Epoch 17/100\n",
      "14/14 [==============================] - 47s 3s/step - loss: 3.0485 - mean_squared_error: 3.0485\n",
      "Epoch 18/100\n",
      "14/14 [==============================] - 47s 3s/step - loss: 2.9922 - mean_squared_error: 2.9922\n",
      "Epoch 19/100\n",
      "14/14 [==============================] - 47s 3s/step - loss: 2.9727 - mean_squared_error: 2.9727\n",
      "Epoch 20/100\n",
      "14/14 [==============================] - 47s 3s/step - loss: 3.0367 - mean_squared_error: 3.0367\n",
      "Epoch 21/100\n",
      "14/14 [==============================] - 47s 3s/step - loss: 3.0417 - mean_squared_error: 3.0417\n",
      "Epoch 22/100\n",
      "14/14 [==============================] - 47s 3s/step - loss: 2.9041 - mean_squared_error: 2.9041\n",
      "Epoch 23/100\n",
      "14/14 [==============================] - 46s 3s/step - loss: 2.9446 - mean_squared_error: 2.9446\n",
      "Epoch 24/100\n",
      "14/14 [==============================] - 47s 3s/step - loss: 3.0134 - mean_squared_error: 3.0134\n",
      "Epoch 25/100\n",
      "14/14 [==============================] - 48s 3s/step - loss: 2.9194 - mean_squared_error: 2.9194\n",
      "Epoch 26/100\n",
      "14/14 [==============================] - 48s 3s/step - loss: 2.7893 - mean_squared_error: 2.7893\n",
      "Epoch 27/100\n",
      "14/14 [==============================] - 47s 3s/step - loss: 2.9456 - mean_squared_error: 2.9456\n",
      "Epoch 28/100\n",
      "14/14 [==============================] - 47s 3s/step - loss: 2.9278 - mean_squared_error: 2.9278\n",
      "Epoch 29/100\n",
      "14/14 [==============================] - 48s 3s/step - loss: 2.7578 - mean_squared_error: 2.7578\n",
      "Epoch 30/100\n",
      "14/14 [==============================] - 48s 3s/step - loss: 2.8828 - mean_squared_error: 2.8828\n",
      "Epoch 31/100\n",
      "14/14 [==============================] - 47s 3s/step - loss: 2.8439 - mean_squared_error: 2.8439\n",
      "Epoch 32/100\n",
      "14/14 [==============================] - 47s 3s/step - loss: 2.8737 - mean_squared_error: 2.8737\n",
      "Epoch 33/100\n",
      "14/14 [==============================] - 47s 3s/step - loss: 2.8333 - mean_squared_error: 2.8333\n",
      "Epoch 34/100\n",
      "14/14 [==============================] - 47s 3s/step - loss: 2.7411 - mean_squared_error: 2.7411\n",
      "Epoch 35/100\n",
      "14/14 [==============================] - 47s 3s/step - loss: 2.9179 - mean_squared_error: 2.9179\n",
      "Epoch 36/100\n",
      "14/14 [==============================] - 47s 3s/step - loss: 2.8541 - mean_squared_error: 2.8541\n",
      "Epoch 37/100\n",
      "14/14 [==============================] - 47s 3s/step - loss: 2.7318 - mean_squared_error: 2.7318\n",
      "Epoch 38/100\n",
      "14/14 [==============================] - 47s 3s/step - loss: 2.7880 - mean_squared_error: 2.7880\n",
      "Epoch 39/100\n",
      "14/14 [==============================] - 47s 3s/step - loss: 2.8681 - mean_squared_error: 2.8681\n",
      "Epoch 40/100\n",
      "14/14 [==============================] - 47s 3s/step - loss: 2.7799 - mean_squared_error: 2.7799\n",
      "Epoch 41/100\n",
      "14/14 [==============================] - 48s 3s/step - loss: 2.7227 - mean_squared_error: 2.7227\n",
      "Epoch 42/100\n",
      "14/14 [==============================] - 47s 3s/step - loss: 2.8359 - mean_squared_error: 2.8359\n",
      "Epoch 43/100\n",
      "14/14 [==============================] - 47s 3s/step - loss: 2.6848 - mean_squared_error: 2.6848\n",
      "Epoch 44/100\n",
      "14/14 [==============================] - 48s 3s/step - loss: 2.7025 - mean_squared_error: 2.7025\n",
      "Epoch 45/100\n",
      "14/14 [==============================] - 48s 3s/step - loss: 2.5463 - mean_squared_error: 2.5463\n",
      "Epoch 46/100\n",
      "14/14 [==============================] - 47s 3s/step - loss: 2.7634 - mean_squared_error: 2.7634\n",
      "Epoch 47/100\n",
      "14/14 [==============================] - 47s 3s/step - loss: 2.6085 - mean_squared_error: 2.6085\n",
      "Epoch 48/100\n",
      "14/14 [==============================] - 47s 3s/step - loss: 2.7393 - mean_squared_error: 2.7393\n",
      "Epoch 49/100\n",
      "14/14 [==============================] - 47s 3s/step - loss: 2.6496 - mean_squared_error: 2.6496\n",
      "Epoch 50/100\n",
      "14/14 [==============================] - 47s 3s/step - loss: 2.6000 - mean_squared_error: 2.6000\n",
      "Epoch 51/100\n",
      "14/14 [==============================] - 47s 3s/step - loss: 2.6842 - mean_squared_error: 2.6842\n",
      "Epoch 52/100\n",
      "14/14 [==============================] - 47s 3s/step - loss: 2.4867 - mean_squared_error: 2.4867\n",
      "Epoch 53/100\n",
      "14/14 [==============================] - 47s 3s/step - loss: 2.6687 - mean_squared_error: 2.6687\n",
      "Epoch 54/100\n",
      "14/14 [==============================] - 47s 3s/step - loss: 2.6433 - mean_squared_error: 2.6433\n",
      "Epoch 55/100\n",
      "14/14 [==============================] - 47s 3s/step - loss: 2.7181 - mean_squared_error: 2.7181\n",
      "Epoch 56/100\n",
      "14/14 [==============================] - 47s 3s/step - loss: 2.7132 - mean_squared_error: 2.7132\n",
      "Epoch 57/100\n",
      "14/14 [==============================] - 47s 3s/step - loss: 2.5466 - mean_squared_error: 2.5466\n",
      "Epoch 58/100\n",
      "14/14 [==============================] - 48s 3s/step - loss: 2.4671 - mean_squared_error: 2.4671\n",
      "Epoch 59/100\n",
      "14/14 [==============================] - 47s 3s/step - loss: 2.7338 - mean_squared_error: 2.7338\n",
      "Epoch 60/100\n",
      "14/14 [==============================] - 47s 3s/step - loss: 2.6756 - mean_squared_error: 2.6756\n",
      "Epoch 61/100\n",
      "14/14 [==============================] - 47s 3s/step - loss: 2.5929 - mean_squared_error: 2.5929\n",
      "Epoch 62/100\n",
      "14/14 [==============================] - 47s 3s/step - loss: 2.6245 - mean_squared_error: 2.6245\n",
      "Epoch 63/100\n",
      "14/14 [==============================] - 48s 3s/step - loss: 2.5402 - mean_squared_error: 2.5402\n",
      "Epoch 64/100\n",
      "14/14 [==============================] - 47s 3s/step - loss: 2.5594 - mean_squared_error: 2.5594\n",
      "Epoch 65/100\n",
      "14/14 [==============================] - 47s 3s/step - loss: 2.4263 - mean_squared_error: 2.4263\n",
      "Epoch 66/100\n",
      "14/14 [==============================] - 47s 3s/step - loss: 2.6353 - mean_squared_error: 2.6353\n",
      "Epoch 67/100\n",
      "14/14 [==============================] - 47s 3s/step - loss: 2.5554 - mean_squared_error: 2.5554\n",
      "Epoch 68/100\n",
      "14/14 [==============================] - 47s 3s/step - loss: 2.6500 - mean_squared_error: 2.6500\n",
      "Epoch 69/100\n",
      "14/14 [==============================] - 47s 3s/step - loss: 2.4660 - mean_squared_error: 2.4660\n",
      "Epoch 70/100\n",
      "14/14 [==============================] - 47s 3s/step - loss: 2.5351 - mean_squared_error: 2.5351\n",
      "Epoch 71/100\n",
      "14/14 [==============================] - 47s 3s/step - loss: 2.5907 - mean_squared_error: 2.5907\n",
      "Epoch 72/100\n",
      "14/14 [==============================] - 48s 3s/step - loss: 2.5636 - mean_squared_error: 2.5636\n",
      "Epoch 73/100\n",
      "14/14 [==============================] - 47s 3s/step - loss: 2.4916 - mean_squared_error: 2.4916\n",
      "Epoch 74/100\n",
      "14/14 [==============================] - 47s 3s/step - loss: 2.6321 - mean_squared_error: 2.6321\n",
      "Epoch 75/100\n"
     ]
    },
    {
     "name": "stdout",
     "output_type": "stream",
     "text": [
      "14/14 [==============================] - 47s 3s/step - loss: 2.4615 - mean_squared_error: 2.4615\n",
      "Epoch 76/100\n",
      "14/14 [==============================] - 48s 3s/step - loss: 2.4995 - mean_squared_error: 2.4995\n",
      "Epoch 77/100\n",
      "14/14 [==============================] - 48s 3s/step - loss: 2.5099 - mean_squared_error: 2.5099\n",
      "Epoch 78/100\n",
      "14/14 [==============================] - 47s 3s/step - loss: 2.5035 - mean_squared_error: 2.5035\n",
      "Epoch 79/100\n",
      "14/14 [==============================] - 48s 3s/step - loss: 2.4037 - mean_squared_error: 2.4037\n",
      "Epoch 80/100\n",
      "14/14 [==============================] - 47s 3s/step - loss: 2.4558 - mean_squared_error: 2.4558\n",
      "Epoch 81/100\n",
      "14/14 [==============================] - 48s 3s/step - loss: 2.4934 - mean_squared_error: 2.4934\n",
      "Epoch 82/100\n",
      "14/14 [==============================] - 47s 3s/step - loss: 2.4984 - mean_squared_error: 2.4984\n",
      "Epoch 83/100\n",
      "14/14 [==============================] - 47s 3s/step - loss: 2.4267 - mean_squared_error: 2.4267\n",
      "Epoch 84/100\n",
      "14/14 [==============================] - 47s 3s/step - loss: 2.3090 - mean_squared_error: 2.3090\n",
      "Epoch 85/100\n",
      "14/14 [==============================] - 47s 3s/step - loss: 2.4892 - mean_squared_error: 2.4892\n",
      "Epoch 86/100\n",
      "14/14 [==============================] - 48s 3s/step - loss: 2.4842 - mean_squared_error: 2.4842\n",
      "Epoch 87/100\n",
      "14/14 [==============================] - 48s 3s/step - loss: 2.3999 - mean_squared_error: 2.3999\n",
      "Epoch 88/100\n",
      "14/14 [==============================] - 48s 3s/step - loss: 2.3516 - mean_squared_error: 2.3516\n",
      "Epoch 89/100\n",
      "14/14 [==============================] - 47s 3s/step - loss: 2.3964 - mean_squared_error: 2.3964\n",
      "Epoch 90/100\n",
      "14/14 [==============================] - 48s 3s/step - loss: 2.4040 - mean_squared_error: 2.4040\n",
      "Epoch 91/100\n",
      "14/14 [==============================] - 47s 3s/step - loss: 2.3555 - mean_squared_error: 2.3555\n",
      "Epoch 92/100\n",
      "14/14 [==============================] - 47s 3s/step - loss: 2.4421 - mean_squared_error: 2.4421\n",
      "Epoch 93/100\n",
      "14/14 [==============================] - 47s 3s/step - loss: 2.4162 - mean_squared_error: 2.4162\n",
      "Epoch 94/100\n",
      "14/14 [==============================] - 47s 3s/step - loss: 2.4417 - mean_squared_error: 2.4417\n",
      "Epoch 95/100\n",
      "14/14 [==============================] - 47s 3s/step - loss: 2.3612 - mean_squared_error: 2.3612\n",
      "Epoch 96/100\n",
      "14/14 [==============================] - 47s 3s/step - loss: 2.4463 - mean_squared_error: 2.4463\n",
      "Epoch 97/100\n",
      "14/14 [==============================] - 47s 3s/step - loss: 2.4298 - mean_squared_error: 2.4298\n",
      "Epoch 98/100\n",
      "14/14 [==============================] - 47s 3s/step - loss: 2.4320 - mean_squared_error: 2.4320\n",
      "Epoch 99/100\n",
      "14/14 [==============================] - 48s 3s/step - loss: 2.3034 - mean_squared_error: 2.3034\n",
      "Epoch 100/100\n",
      "14/14 [==============================] - 47s 3s/step - loss: 2.4015 - mean_squared_error: 2.4015\n"
     ]
    }
   ],
   "source": [
    "history3 = model.fit_generator(generator=batch_generator(batch_size=nb_batch), \n",
    "                               epochs=nb_epochs, \n",
    "                               steps_per_epoch=bc_data_x.shape[0]//nb_batch, \n",
    "                               verbose=1)"
   ]
  },
  {
   "cell_type": "code",
   "execution_count": 24,
   "metadata": {},
   "outputs": [],
   "source": [
    "# history2 = model.fit(x=bc_data_x, y=bc_data_y, epochs=nb_epochs, batch_size=nb_batch, verbose=1)"
   ]
  },
  {
   "cell_type": "code",
   "execution_count": 25,
   "metadata": {},
   "outputs": [],
   "source": [
    "weight_file = 'weights_3_50.h5'\n",
    "model.save_weights(weight_file)"
   ]
  },
  {
   "cell_type": "code",
   "execution_count": 26,
   "metadata": {},
   "outputs": [],
   "source": [
    "with open(\"history_3.pickle\", \"wb\") as f:\n",
    "    pickle.dump(history3.history, f)\n",
    "mdl = get_model3()\n",
    "mdl.save(\"model_3.model\")"
   ]
  },
  {
   "cell_type": "code",
   "execution_count": 27,
   "metadata": {},
   "outputs": [
    {
     "data": {
      "image/png": "[encoded data removed]",
      "text/plain": [
       "<Figure size 432x288 with 1 Axes>"
      ]
     },
     "metadata": {},
     "output_type": "display_data"
    }
   ],
   "source": [
    "plt.figure()\n",
    "plt.plot(history3.history['mean_squared_error'])\n",
    "plt.xlabel(\"Epochs\")\n",
    "plt.ylabel(\"MSE\")\n",
    "plt.legend(['Train'])\n",
    "plt.show()"
   ]
  },
  {
   "cell_type": "code",
   "execution_count": 61,
   "metadata": {},
   "outputs": [
    {
     "data": {
      "image/png": "[encoded data removed]",
      "text/plain": [
       "<Figure size 432x288 with 1 Axes>"
      ]
     },
     "metadata": {},
     "output_type": "display_data"
    }
   ],
   "source": [
    "plt.figure()\n",
    "plt.plot(history.history['mean_squared_error'])\n",
    "plt.xlabel(\"Epochs\")\n",
    "plt.ylabel(\"MSE\")\n",
    "plt.legend(['Train'])\n",
    "plt.show()"
   ]
  },
  {
   "cell_type": "code",
   "execution_count": 28,
   "metadata": {},
   "outputs": [],
   "source": [
    "eval_model = get_model3()\n",
    "eval_model = multi_gpu_model(eval_model, gpus=4)\n",
    "eval_model.load_weights(weight_file)\n",
    "eval_model.compile(optimizer=optimizers.rmsprop(lr=l_rate),\n",
    "              loss='mean_squared_error',\n",
    "              metrics=[metrics.mse])"
   ]
  },
  {
   "cell_type": "code",
   "execution_count": 29,
   "metadata": {},
   "outputs": [
    {
     "name": "stdout",
     "output_type": "stream",
     "text": [
      "(1000, 50, 50, 50, 16) (1000,)\n",
      "Train R2: 0.439 , Test R2: 0.277\n"
     ]
    }
   ],
   "source": [
    "train_x, train_y = bc_data_x[:1000], bc_data_y[:1000]\n",
    "test_x, test_y = bc_data_x[-1000:], bc_data_y[-1000:]\n",
    "print(test_x.shape, test_y.shape)\n",
    "train_r2 = r2_score(y_pred=eval_model.predict(train_x), y_true=train_y)\n",
    "test_r2 = r2_score(y_pred=eval_model.predict(test_x), y_true=test_y)\n",
    "print(\"Train R2: %0.3f , Test R2: %0.3f\" % (train_r2, test_r2))"
   ]
  },
  {
   "cell_type": "code",
   "execution_count": 64,
   "metadata": {},
   "outputs": [
    {
     "name": "stdout",
     "output_type": "stream",
     "text": [
      "Train R2: 0.741 , Test R2: 0.327\n"
     ]
    }
   ],
   "source": [
    "train_r2 = r2_score(y_pred=eval_model.predict(train_x), y_true=train_y)\n",
    "test_r2 = r2_score(y_pred=eval_model.predict(test_x), y_true=test_y)\n",
    "print(\"Train R2: %0.3f , Test R2: %0.3f\" % (train_r2, test_r2))"
   ]
  },
  {
   "cell_type": "markdown",
   "metadata": {},
   "source": [
    "### Best result so far <br>\n",
    "500 epochs<br>\n",
    "l_rate = 0.0001"
   ]
  },
  {
   "cell_type": "code",
   "execution_count": 45,
   "metadata": {},
   "outputs": [],
   "source": [
    "l_rate = 0.00001\n",
    "eval_model = get_model1()\n",
    "eval_model = multi_gpu_model(eval_model, gpus=4)\n",
    "eval_model.load_weights('weights_2.h5')\n",
    "eval_model.compile(optimizer=optimizers.rmsprop(lr=l_rate),\n",
    "              loss='mean_squared_error',\n",
    "              metrics=[metrics.mse])"
   ]
  },
  {
   "cell_type": "code",
   "execution_count": 46,
   "metadata": {},
   "outputs": [
    {
     "name": "stdout",
     "output_type": "stream",
     "text": [
      "Train R2: 0.789 , Test R2: 0.454\n"
     ]
    }
   ],
   "source": [
    "train_r2 = r2_score(y_pred=eval_model.predict(train_x), y_true=train_y)\n",
    "test_r2 = r2_score(y_pred=eval_model.predict(test_x), y_true=test_y)\n",
    "print(\"Train R2: %0.3f , Test R2: %0.3f\" % (train_r2, test_r2))"
   ]
  },
  {
   "cell_type": "markdown",
   "metadata": {},
   "source": [
    "# Report"
   ]
  },
  {
   "cell_type": "markdown",
   "metadata": {},
   "source": [
    "### Model 1:\n",
    "\n",
    "Weights file: \"weights_2.h5\" <br>\n",
    "Epochs: 500 <br>\n",
    "Learning rate: 0.00001 <br>\n",
    "Without coordinate transformation<br>\n",
    "data_shape = (3500, 24, 24, 24, 16)<br>\n",
    "\n",
    "#### Architecture\n",
    "\n",
    "```\n",
    "Layer (type)                 Output Shape              Param #   \n",
    "=================================================================\n",
    "conv3d_106 (Conv3D)          (None, 24, 24, 24, 32)    13856     \n",
    "_________________________________________________________________\n",
    "conv3d_107 (Conv3D)          (None, 24, 24, 24, 32)    27680     \n",
    "_________________________________________________________________\n",
    "max_pooling3d_40 (MaxPooling (None, 12, 12, 12, 32)    0         \n",
    "_________________________________________________________________\n",
    "conv3d_108 (Conv3D)          (None, 12, 12, 12, 64)    55360     \n",
    "_________________________________________________________________\n",
    "conv3d_109 (Conv3D)          (None, 12, 12, 12, 64)    110656    \n",
    "_________________________________________________________________\n",
    "max_pooling3d_41 (MaxPooling (None, 6, 6, 6, 64)       0         \n",
    "_________________________________________________________________\n",
    "conv3d_110 (Conv3D)          (None, 6, 6, 6, 128)      221312    \n",
    "_________________________________________________________________\n",
    "conv3d_111 (Conv3D)          (None, 6, 6, 6, 128)      442496    \n",
    "_________________________________________________________________\n",
    "max_pooling3d_42 (MaxPooling (None, 3, 3, 3, 128)      0         \n",
    "_________________________________________________________________\n",
    "flatten_14 (Flatten)         (None, 3456)              0         \n",
    "_________________________________________________________________\n",
    "dense_36 (Dense)             (None, 256)               884992    \n",
    "_________________________________________________________________\n",
    "dense_37 (Dense)             (None, 1)                 257       \n",
    "=================================================================\n",
    "Total params: 1,756,609\n",
    "Trainable params: 1,756,609\n",
    "Non-trainable params: 0\n",
    "```\n",
    "\n",
    "\n",
    "#### Results\n",
    "Train R2: <b>0.789</b> , Test R2: <b>0.454</b>\n",
    "\n",
    "### Model 2\n",
    "Modifications: <br>\n",
    "<ul>\n",
    "    <li>Replacing the last max-pooling layer by 1-1 conv. layer</li>\n",
    "</ul>\n",
    "\n",
    "Weights file: 'weights_2-conv-1-1.h5'<br>\n",
    "Without coordinate transformation<br>\n",
    "data_shape = (3500, 24, 24, 24, 16)<br>\n",
    "\n",
    "#### Architecture:\n",
    "```\n",
    "_________________________________________________________________\n",
    "Layer (type)                 Output Shape              Param #   \n",
    "=================================================================\n",
    "conv3d_112 (Conv3D)          (None, 24, 24, 24, 16)    6928      \n",
    "_________________________________________________________________\n",
    "conv3d_113 (Conv3D)          (None, 24, 24, 24, 16)    6928      \n",
    "_________________________________________________________________\n",
    "max_pooling3d_43 (MaxPooling (None, 12, 12, 12, 16)    0         \n",
    "_________________________________________________________________\n",
    "conv3d_114 (Conv3D)          (None, 12, 12, 12, 32)    13856     \n",
    "_________________________________________________________________\n",
    "conv3d_115 (Conv3D)          (None, 12, 12, 12, 32)    27680     \n",
    "_________________________________________________________________\n",
    "max_pooling3d_44 (MaxPooling (None, 6, 6, 6, 32)       0         \n",
    "_________________________________________________________________\n",
    "conv3d_116 (Conv3D)          (None, 6, 6, 6, 64)       55360     \n",
    "_________________________________________________________________\n",
    "conv3d_117 (Conv3D)          (None, 6, 6, 6, 64)       110656    \n",
    "_________________________________________________________________\n",
    "max_pooling3d_45 (MaxPooling (None, 3, 3, 3, 64)       0         \n",
    "_________________________________________________________________\n",
    "conv3d_118 (Conv3D)          (None, 3, 3, 3, 128)      221312    \n",
    "_________________________________________________________________\n",
    "conv3d_119 (Conv3D)          (None, 3, 3, 3, 128)      442496    \n",
    "_________________________________________________________________\n",
    "conv3d_120 (Conv3D)          (None, 3, 3, 3, 32)       4128      \n",
    "_________________________________________________________________\n",
    "flatten_15 (Flatten)         (None, 864)               0         \n",
    "_________________________________________________________________\n",
    "dense_38 (Dense)             (None, 512)               442880    \n",
    "_________________________________________________________________\n",
    "dense_39 (Dense)             (None, 256)               131328    \n",
    "_________________________________________________________________\n",
    "dense_40 (Dense)             (None, 1)                 257       \n",
    "=================================================================\n",
    "Total params: 1,463,809\n",
    "Trainable params: 1,463,809\n",
    "Non-trainable params: 0\n",
    "_________________________________________________________________\n",
    "```\n",
    "\n",
    "#### Results:\n",
    "Train R2: 0.741 , Test R2: 0.327\n",
    "\n",
    "\n",
    "### Model 3\n",
    "\n",
    "Weights file: 'weights_3_50.h5'<br>\n",
    "Without coordinate transformation<br>\n",
    "data_shape = (50, 50, 50, 16)<br>\n",
    "\n",
    "#### Architecture: <br>\n",
    "```\n",
    "Layer (type)                 Output Shape              Param #   \n",
    "=================================================================\n",
    "conv3d_1 (Conv3D)            (None, 50, 50, 50, 32)    13856     \n",
    "_________________________________________________________________\n",
    "conv3d_2 (Conv3D)            (None, 50, 50, 50, 32)    27680     \n",
    "_________________________________________________________________\n",
    "max_pooling3d_1 (MaxPooling3 (None, 25, 25, 25, 32)    0         \n",
    "_________________________________________________________________\n",
    "conv3d_3 (Conv3D)            (None, 25, 25, 25, 64)    55360     \n",
    "_________________________________________________________________\n",
    "conv3d_4 (Conv3D)            (None, 25, 25, 25, 64)    110656    \n",
    "_________________________________________________________________\n",
    "max_pooling3d_2 (MaxPooling3 (None, 12, 12, 12, 64)    0         \n",
    "_________________________________________________________________\n",
    "conv3d_5 (Conv3D)            (None, 12, 12, 12, 128)   221312    \n",
    "_________________________________________________________________\n",
    "conv3d_6 (Conv3D)            (None, 12, 12, 12, 128)   442496    \n",
    "_________________________________________________________________\n",
    "max_pooling3d_3 (MaxPooling3 (None, 6, 6, 6, 128)      0         \n",
    "_________________________________________________________________\n",
    "flatten_1 (Flatten)          (None, 27648)             0         \n",
    "_________________________________________________________________\n",
    "dense_1 (Dense)              (None, 256)               7078144   \n",
    "_________________________________________________________________\n",
    "dense_2 (Dense)              (None, 1)                 257       \n",
    "=================================================================\n",
    "Total params: 7,949,761\n",
    "Trainable params: 7,949,761\n",
    "Non-trainable params: 0\n",
    "```\n",
    "\n",
    "\n",
    "#### Results:\n",
    "Train R2: 0.439, Test R2: 0.277\n"
   ]
  },
  {
   "cell_type": "code",
   "execution_count": null,
   "metadata": {},
   "outputs": [],
   "source": []
  }
 ],
 "metadata": {
  "kernelspec": {
   "display_name": "Python 3",
   "language": "python",
   "name": "python3"
  },
  "language_info": {
   "codemirror_mode": {
    "name": "ipython",
    "version": 3
   },
   "file_extension": ".py",
   "mimetype": "text/x-python",
   "name": "python",
   "nbconvert_exporter": "python",
   "pygments_lexer": "ipython3",
   "version": "3.6.4"
  }
 },
 "nbformat": 4,
 "nbformat_minor": 2
}
