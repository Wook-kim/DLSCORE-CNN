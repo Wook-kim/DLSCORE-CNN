{
 "cells": [
  {
   "cell_type": "code",
   "execution_count": 1,
   "metadata": {},
   "outputs": [],
   "source": [
    "from __future__ import print_function, absolute_import\n",
    "import numpy as np\n",
    "import os"
   ]
  },
  {
   "cell_type": "code",
   "execution_count": 2,
   "metadata": {},
   "outputs": [],
   "source": [
    "class Molecule:\n",
    "    coords = []\n",
    "    charges = []\n",
    "    elements = []\n",
    "    filename = \"\"\n",
    "    _dir_name = \"\"\n",
    "    \n",
    "    def __init__(self, file):\n",
    "        self.filename = file\n",
    "        self._read_file()\n",
    "    \n",
    "    def _read_file(self):\n",
    "        with open(self.filename, 'r') as f:\n",
    "            content = f.readlines()\n",
    "        \n",
    "        # Split lines for space character\n",
    "        content = [s.split() for s in content]\n",
    "        # Choose only those that start with \"ATOM\"\n",
    "        content = [line for line in content if line[0]==\"ATOM\"]\n",
    "        # Get the attributes\n",
    "        self.coords = np.array([line[-7:-4] for line in content], dtype=np.float32)\n",
    "        self.charges = np.array([line[-2] for line in content], dtype=np.float32)\n",
    "        self.elements = np.array([line[-1] for line in content], dtype=object)"
   ]
  },
  {
   "cell_type": "code",
   "execution_count": 3,
   "metadata": {},
   "outputs": [],
   "source": [
    "import glob"
   ]
  },
  {
   "cell_type": "code",
   "execution_count": 4,
   "metadata": {},
   "outputs": [
    {
     "name": "stdout",
     "output_type": "stream",
     "text": [
      "Number of files 4057\n"
     ]
    }
   ],
   "source": [
    "files = glob.glob(\"../../pdbbind_data/refined-set-2016/*/*_pocket.pdbqt\")\n",
    "print(\"Number of files {}\".format(len(files)))"
   ]
  },
  {
   "cell_type": "code",
   "execution_count": 5,
   "metadata": {},
   "outputs": [],
   "source": [
    "# Get a Molecule object\n",
    "mol = Molecule(files[0])"
   ]
  },
  {
   "cell_type": "code",
   "execution_count": 6,
   "metadata": {},
   "outputs": [
    {
     "name": "stdout",
     "output_type": "stream",
     "text": [
      "[ 0.241 -0.297  0.15  -0.273  0.149  0.241 -0.273 -0.295  0.15   0.176\n",
      "  0.243 -0.273 -0.298  0.15   0.137  0.227 -0.286  0.028  0.002  0.\n",
      "  0.     0.029  0.002  0.     0.     0.149  0.241 -0.297  0.15  -0.273\n",
      "  0.242 -0.273 -0.272  0.094  0.024  0.031  0.152  0.156 -0.238  0.142\n",
      "  0.14   0.367 -0.246 -0.246  0.027  0.002  0.002  0.     0.149  0.243\n",
      " -0.297  0.15  -0.273  0.176  0.238 -0.296  0.15  -0.274  0.145 -0.238\n",
      "  0.142  0.026  0.002  0.     0.     0.241 -0.273 -0.295  0.15   0.176\n",
      "  0.243 -0.298  0.15  -0.273  0.137  0.026  0.002  0.002  0.227 -0.286\n",
      "  0.027  0.002  0.002  0.     0.178  0.24  -0.295  0.15  -0.274  0.169\n",
      " -0.236  0.142  0.243 -0.296  0.15  -0.273  0.163  0.229 -0.286  0.166\n",
      " -0.38   0.211  0.133 -0.239  0.142  0.224 -0.287  0.025  0.002  0.\n",
      "  0.     0.244 -0.272  0.152  0.031  0.024  0.094 -0.273  0.241 -0.273\n",
      " -0.297  0.15   0.158  0.241 -0.273 -0.298  0.15   0.143  0.227 -0.286\n",
      "  0.075  0.082  0.115 -0.221  0.199 -0.227  0.114  0.222 -0.275 -0.329\n",
      "  0.145  0.145  0.153  0.241 -0.297  0.15  -0.274  0.174 -0.236  0.142\n",
      "  0.163 -0.38   0.211  0.057 -0.002  0.013  0.001  0.     0.001  0.017\n",
      "  0.056 -0.352  0.166  0.068  0.154  0.242 -0.273 -0.273  0.094  0.024\n",
      "  0.03   0.14   0.227 -0.286 -0.238  0.142  0.111  0.221 -0.329  0.145\n",
      "  0.145 -0.275  0.141  0.238 -0.274 -0.298  0.15   0.145  0.028 -0.238\n",
      "  0.142  0.227 -0.286  0.054 -0.02  -0.001  0.036  0.134  0.036 -0.001\n",
      " -0.506  0.292  0.163 -0.237  0.142  0.227 -0.287  0.162 -0.38   0.211\n",
      "  0.384 -0.084 -0.084 -0.07   0.064  0.01   0.093 -0.246  0.094  0.055\n",
      "  0.188 -0.29   0.178 -0.266  0.533 -0.115 -0.115 -0.222 -0.082 -0.023\n",
      " -0.     0.028  0.137  0.241 -0.274 -0.298  0.15   0.174 -0.236  0.142\n",
      "  0.163 -0.38   0.211  0.227 -0.286 -0.02  -0.001  0.036  0.134  0.036\n",
      " -0.001 -0.506  0.292  0.051  0.137 -0.239  0.142  0.224 -0.287 -0.265\n",
      "  0.259  0.342 -0.292  0.255  0.255 -0.292  0.255  0.255  0.174  0.045\n",
      "  0.029  0.133 -0.239  0.142  0.224 -0.287  0.238 -0.274 -0.298  0.15\n",
      "  0.146 -0.238  0.142  0.038  0.06  -0.139  0.069  0.141  0.227 -0.286\n",
      "  0.054 -0.02  -0.004 -0.    -0.    -0.    -0.004  0.133  0.023  0.002\n",
      "  0.002 -0.239  0.142  0.224 -0.287 -0.265  0.342 -0.292  0.255  0.255\n",
      " -0.292  0.255  0.255  0.259  0.174  0.045  0.029  0.133 -0.239  0.142\n",
      "  0.224 -0.287  0.11   0.221 -0.275 -0.329  0.145  0.145  0.142 -0.239\n",
      "  0.142  0.225 -0.287 -0.02  -0.001  0.036  0.134  0.036 -0.001 -0.506\n",
      "  0.292  0.051  0.137 -0.239  0.142  0.224 -0.287  0.133 -0.239  0.142\n",
      "  0.224 -0.287  0.023  0.002  0.002  0.    -0.265  0.342 -0.292  0.255\n",
      "  0.255 -0.292  0.255  0.255  0.259  0.174  0.045  0.029  0.133 -0.239\n",
      "  0.142  0.224 -0.287  0.239 -0.295  0.15  -0.274  0.149 -0.238  0.142\n",
      "  0.053 -0.02  -0.001  0.036  0.134  0.036 -0.001 -0.506  0.292  0.178\n",
      "  0.243 -0.296  0.15  -0.273  0.166  0.229 -0.286  0.165 -0.38   0.211\n",
      "  0.166 -0.38   0.211  0.     0.     0.     0.     0.     0.     0.\n",
      "  0.     0.     0.     0.     0.     0.     0.     0.     0.     0.   ]\n"
     ]
    }
   ],
   "source": [
    "print(mol.charges)"
   ]
  },
  {
   "cell_type": "code",
   "execution_count": 7,
   "metadata": {},
   "outputs": [
    {
     "name": "stdout",
     "output_type": "stream",
     "text": [
      "[[26.13  25.302  9.259]\n",
      " [26.992 25.415 10.271]\n",
      " [27.728 26.148 10.227]\n",
      " ...\n",
      " [28.048 17.962 10.491]\n",
      " [28.211 21.059 13.735]\n",
      " [31.981 27.383 13.796]]\n"
     ]
    }
   ],
   "source": [
    "print(mol.coords)"
   ]
  },
  {
   "cell_type": "code",
   "execution_count": 8,
   "metadata": {},
   "outputs": [
    {
     "name": "stdout",
     "output_type": "stream",
     "text": [
      "['C' 'N' 'HD' 'OA' 'C' 'C' 'OA' 'N' 'HD' 'C' 'C' 'OA' 'N' 'HD' 'C' 'C'\n",
      " 'OA' 'C' 'C' 'C' 'C' 'C' 'C' 'C' 'C' 'C' 'C' 'N' 'HD' 'OA' 'C' 'OA' 'N'\n",
      " 'C' 'C' 'C' 'C' 'C' 'NA' 'HD' 'C' 'C' 'OA' 'OA' 'C' 'C' 'C' 'C' 'C' 'C'\n",
      " 'N' 'HD' 'OA' 'C' 'C' 'N' 'HD' 'OA' 'C' 'NA' 'HD' 'C' 'C' 'C' 'C' 'C'\n",
      " 'OA' 'N' 'HD' 'C' 'C' 'N' 'HD' 'OA' 'C' 'C' 'C' 'C' 'C' 'OA' 'C' 'C' 'C'\n",
      " 'C' 'C' 'C' 'N' 'HD' 'OA' 'C' 'NA' 'HD' 'C' 'N' 'HD' 'OA' 'C' 'C' 'OA'\n",
      " 'C' 'OA' 'HD' 'C' 'NA' 'HD' 'C' 'OA' 'C' 'C' 'C' 'C' 'C' 'N' 'C' 'C' 'C'\n",
      " 'C' 'OA' 'C' 'OA' 'N' 'HD' 'C' 'C' 'OA' 'N' 'HD' 'C' 'C' 'OA' 'C' 'A' 'A'\n",
      " 'NA' 'A' 'NA' 'C' 'C' 'OA' 'N' 'HD' 'HD' 'C' 'C' 'N' 'HD' 'OA' 'C' 'NA'\n",
      " 'HD' 'C' 'OA' 'HD' 'C' 'A' 'A' 'A' 'A' 'A' 'A' 'A' 'N' 'HD' 'A' 'C' 'C'\n",
      " 'OA' 'N' 'C' 'C' 'C' 'C' 'C' 'OA' 'NA' 'HD' 'C' 'C' 'N' 'HD' 'HD' 'OA'\n",
      " 'C' 'C' 'OA' 'N' 'HD' 'C' 'C' 'NA' 'HD' 'C' 'OA' 'C' 'A' 'A' 'A' 'A' 'A'\n",
      " 'A' 'OA' 'HD' 'C' 'NA' 'HD' 'C' 'OA' 'C' 'OA' 'HD' 'N' 'HD' 'HD' 'C' 'C'\n",
      " 'C' 'C' 'NA' 'C' 'C' 'C' 'OA' 'C' 'OA' 'P' 'OA' 'OA' 'OA' 'C' 'C' 'C' 'C'\n",
      " 'C' 'C' 'OA' 'N' 'HD' 'C' 'NA' 'HD' 'C' 'OA' 'HD' 'C' 'OA' 'A' 'A' 'A'\n",
      " 'A' 'A' 'A' 'OA' 'HD' 'C' 'C' 'NA' 'HD' 'C' 'OA' 'N' 'HD' 'C' 'N' 'HD'\n",
      " 'HD' 'N' 'HD' 'HD' 'C' 'C' 'C' 'C' 'NA' 'HD' 'C' 'OA' 'C' 'OA' 'N' 'HD'\n",
      " 'C' 'NA' 'HD' 'C' 'C' 'S' 'C' 'C' 'C' 'OA' 'C' 'A' 'A' 'A' 'A' 'A' 'A'\n",
      " 'C' 'C' 'C' 'C' 'NA' 'HD' 'C' 'OA' 'N' 'C' 'N' 'HD' 'HD' 'N' 'HD' 'HD'\n",
      " 'HD' 'C' 'C' 'C' 'C' 'NA' 'HD' 'C' 'OA' 'C' 'C' 'OA' 'N' 'HD' 'HD' 'C'\n",
      " 'NA' 'HD' 'C' 'OA' 'A' 'A' 'A' 'A' 'A' 'A' 'OA' 'HD' 'C' 'C' 'NA' 'HD'\n",
      " 'C' 'OA' 'C' 'NA' 'HD' 'C' 'OA' 'C' 'C' 'C' 'C' 'N' 'C' 'N' 'HD' 'HD' 'N'\n",
      " 'HD' 'HD' 'HD' 'C' 'C' 'C' 'C' 'NA' 'HD' 'C' 'OA' 'C' 'N' 'HD' 'OA' 'C'\n",
      " 'NA' 'HD' 'C' 'A' 'A' 'A' 'A' 'A' 'A' 'OA' 'HD' 'C' 'C' 'N' 'HD' 'OA' 'C'\n",
      " 'C' 'OA' 'C' 'OA' 'HD' 'C' 'OA' 'HD' 'OA' 'OA' 'OA' 'OA' 'OA' 'OA' 'OA'\n",
      " 'OA' 'OA' 'OA' 'OA' 'OA' 'OA' 'OA' 'OA' 'OA' 'OA']\n"
     ]
    }
   ],
   "source": [
    "print(mol.elements)"
   ]
  },
  {
   "cell_type": "code",
   "execution_count": 9,
   "metadata": {},
   "outputs": [
    {
     "name": "stdout",
     "output_type": "stream",
     "text": [
      "<class 'numpy.ndarray'> <class 'numpy.ndarray'> <class 'numpy.ndarray'>\n"
     ]
    }
   ],
   "source": [
    "print(type(mol.coords), type(mol.charges), type(mol.elements))"
   ]
  },
  {
   "cell_type": "code",
   "execution_count": 10,
   "metadata": {},
   "outputs": [
    {
     "name": "stdout",
     "output_type": "stream",
     "text": [
      "(420, 3) (420,) (420,)\n"
     ]
    }
   ],
   "source": [
    "print(mol.coords.shape, mol.charges.shape, mol.elements.shape)"
   ]
  }
 ],
 "metadata": {
  "kernelspec": {
   "display_name": "Python 3",
   "language": "python",
   "name": "python3"
  },
  "language_info": {
   "codemirror_mode": {
    "name": "ipython",
    "version": 3
   },
   "file_extension": ".py",
   "mimetype": "text/x-python",
   "name": "python",
   "nbconvert_exporter": "python",
   "pygments_lexer": "ipython3",
   "version": "3.6.4"
  }
 },
 "nbformat": 4,
 "nbformat_minor": 2
}
