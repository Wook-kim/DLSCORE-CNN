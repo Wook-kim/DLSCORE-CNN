{
 "cells": [
  {
   "cell_type": "code",
   "execution_count": 1,
   "metadata": {},
   "outputs": [
    {
     "name": "stdout",
     "output_type": "stream",
     "text": [
      "\n",
      "Please cite HTMD: Doerr et al.(2016)JCTC,12,1845. \n",
      "https://dx.doi.org/10.1021/acs.jctc.6b00049\n",
      "Documentation: http://software.acellera.com/\n",
      "To update: conda update htmd -c acellera -c psi4\n",
      "\n",
      "New devel HTMD version (1.12.3 python[3.6,<3.7.0a0,3.5,<3.6.0a0]) is available. You are currently on (1.9.10). Use 'conda update -c acellera htmd' to update to the new version. You might need to update your python version as well if there is no release for your current version.\n",
      "\n",
      "Deprecation warning: \"from htmd import *\" will be deprecated. \n",
      "To import all HTMD shortcuts please from now on use \"from htmd.ui import *\"\n"
     ]
    }
   ],
   "source": [
    "import numpy as np\n",
    "import csv\n",
    "import glob\n",
    "import pickle\n",
    "import htmd.ui as ht\n",
    "import htmd.molecule.voxeldescriptors as vd\n",
    "from tqdm import *\n",
    "import os\n",
    "from sklearn.decomposition import PCA\n",
    "import bcolz as bc"
   ]
  },
  {
   "cell_type": "code",
   "execution_count": 2,
   "metadata": {},
   "outputs": [],
   "source": [
    "bc.set_nthreads = 56"
   ]
  },
  {
   "cell_type": "code",
   "execution_count": 3,
   "metadata": {},
   "outputs": [],
   "source": [
    "def _findDonors(mol, bonds):\n",
    "    donors = np.zeros(mol.numAtoms, dtype=bool)\n",
    "    hydrogens = np.where((mol.element == 'HD') | (mol.element == 'HS'))[0]\n",
    "    for h in hydrogens:\n",
    "        partners = bonds[bonds[:, 0] == h, 1]\n",
    "        partners = np.hstack((partners, bonds[bonds[:, 1] == h, 0]))\n",
    "        for p in partners:\n",
    "            if mol.name[p][0] == 'N' or mol.name[p][0] == 'O':\n",
    "                donors[p] = True\n",
    "    return donors"
   ]
  },
  {
   "cell_type": "code",
   "execution_count": 4,
   "metadata": {},
   "outputs": [],
   "source": [
    "def get_all_channels(mol):\n",
    "    from collections import OrderedDict\n",
    "    props = OrderedDict()\n",
    "    _order = ('p_hydrophobic', 'p_aromatic', 'p_hbond_acceptor', 'p_hbond_donor',\n",
    "              'p_positive_ionizable', 'p_negative_ionizable', 'p_metal', 'p_occupancies',\n",
    "              'l_hydrophobic', 'l_aromatic', 'l_hbond_acceptor', 'l_hbond_donor',\n",
    "              'l_positive_ionizable', 'l_negative_ionizable', 'l_metal', 'l_occupancies')\n",
    "    elements = np.array([el.upper() for el in mol.element])\n",
    "\n",
    "    # Proteins\n",
    "    _map = (elements == 'C') | (elements == 'A')\n",
    "    props['p_hydrophobic'] = np.array([i and j for (i, j) in zip(_map, mol.atomselect('protein'))])\n",
    "    \n",
    "    _map = elements == 'A'\n",
    "    props['p_aromatic'] = np.array([i and j for (i, j) in zip(_map, mol.atomselect('protein'))])\n",
    "    \n",
    "    _map = (elements == 'NA') | (elements == 'NS') | (elements == 'OA') | (elements == 'OS') | (\n",
    "    elements == 'SA')    \n",
    "    props['p_hbond_acceptor'] = np.array([i and j for (i, j) in zip(_map, mol.atomselect('protein'))])\n",
    "    \n",
    "    _map = _findDonors(mol, mol._getBonds())\n",
    "    props['p_hbond_donor'] = np.array([i and j for (i, j) in zip(_map, mol.atomselect('protein'))])\n",
    "    \n",
    "    _map = mol.charge > 0\n",
    "    props['p_positive_ionizable'] = np.array([i and j for (i, j) in zip(_map, mol.atomselect('protein'))])\n",
    "    \n",
    "    _map = mol.charge < 0\n",
    "    props['p_negative_ionizable'] = np.array([i and j for (i, j) in zip(_map, mol.atomselect('protein'))])\n",
    "    \n",
    "    _map = (elements == 'MG') | (elements == 'ZN') | (elements == 'MN') | \\\n",
    "                     (elements == 'CA') | (elements == 'FE')\n",
    "    props['p_metal'] = np.array([i and j for (i, j) in zip(_map, mol.atomselect('protein'))])\n",
    "    \n",
    "    _map = (elements != 'H') & (elements != 'HS') & (elements != 'HD')\n",
    "    props['p_occupancies'] = np.array([i and j for (i, j) in zip(_map, mol.atomselect('protein'))])\n",
    "    \n",
    "    # Ligands\n",
    "    _map = (elements == 'C') | (elements == 'A')\n",
    "    props['l_hydrophobic'] = np.array([i and j for (i, j) in zip(_map, mol.atomselect('not protein'))])\n",
    "    \n",
    "    _map = elements == 'A'\n",
    "    props['l_aromatic'] = np.array([i and j for (i, j) in zip(_map, mol.atomselect('not protein'))])\n",
    "    \n",
    "    _map = (elements == 'NA') | (elements == 'NS') | (elements == 'OA') | (elements == 'OS') | (\n",
    "    elements == 'SA')    \n",
    "    props['l_hbond_acceptor'] = np.array([i and j for (i, j) in zip(_map, mol.atomselect('not protein'))])\n",
    "    \n",
    "    _map = _findDonors(mol, mol._getBonds())\n",
    "    props['l_hbond_donor'] = np.array([i and j for (i, j) in zip(_map, mol.atomselect('not protein'))])\n",
    "    \n",
    "    _map = mol.charge > 0\n",
    "    props['l_positive_ionizable'] = np.array([i and j for (i, j) in zip(_map, mol.atomselect('not protein'))])\n",
    "    \n",
    "    _map = mol.charge < 0\n",
    "    props['l_negative_ionizable'] = np.array([i and j for (i, j) in zip(_map, mol.atomselect('not protein'))])\n",
    "    \n",
    "    _map = (elements == 'MG') | (elements == 'ZN') | (elements == 'MN') | \\\n",
    "                     (elements == 'CA') | (elements == 'FE')\n",
    "    props['l_metal'] = np.array([i and j for (i, j) in zip(_map, mol.atomselect('not protein'))])\n",
    "    \n",
    "    _map = (elements != 'H') & (elements != 'HS') & (elements != 'HD')\n",
    "    props['l_occupancies'] = np.array([i and j for (i, j) in zip(_map, mol.atomselect('not protein'))])\n",
    "    \n",
    "\n",
    "    channels = np.zeros((len(elements), len(props)), dtype=bool)\n",
    "    for i, p in enumerate(_order):\n",
    "        channels[:, i] = props[p]\n",
    "    return channels"
   ]
  },
  {
   "cell_type": "code",
   "execution_count": 5,
   "metadata": {},
   "outputs": [],
   "source": [
    "# Read the data file and get all the pdb ids\n",
    "def read_score():\n",
    "    pdb_ids = []\n",
    "    scores = {}\n",
    "    with open('pdbbind_refined_set.csv', 'r') as csvfile:\n",
    "        reader = csv.reader(csvfile)\n",
    "        next(reader, None) # Skip the header\n",
    "        for row in reader:\n",
    "            pdb_ids.append(row[1])\n",
    "            scores[row[1]]= float(row[5])\n",
    "\n",
    "    return pdb_ids, scores"
   ]
  },
  {
   "cell_type": "code",
   "execution_count": 6,
   "metadata": {},
   "outputs": [],
   "source": [
    "def _reshape(x):\n",
    "    new_shape = [50, 50, 50, 16]\n",
    "    dim_diff = np.array([i-j for i, j in zip(new_shape, x.shape)])\n",
    "    pad_dim = np.round(dim_diff / 2).astype(int)\n",
    "    x = np.pad(x, [(pad_dim[0], dim_diff[0]-pad_dim[0]),\n",
    "                   (pad_dim[1], dim_diff[1]-pad_dim[1]),\n",
    "                   (pad_dim[2], dim_diff[2]-pad_dim[2]),\n",
    "                   (0, 0)],\n",
    "               'constant')\n",
    "    \n",
    "#     return x\n",
    "    return x[13:37, 13:37, 13:37, :]"
   ]
  },
  {
   "cell_type": "code",
   "execution_count": 7,
   "metadata": {},
   "outputs": [
    {
     "data": {
      "text/plain": [
       "4154"
      ]
     },
     "execution_count": 7,
     "metadata": {},
     "output_type": "execute_result"
    }
   ],
   "source": [
    "exp_pdb_ids, scores = read_score()\n",
    "len(exp_pdb_ids)"
   ]
  },
  {
   "cell_type": "code",
   "execution_count": 8,
   "metadata": {},
   "outputs": [
    {
     "data": {
      "text/plain": [
       "4057"
      ]
     },
     "execution_count": 8,
     "metadata": {},
     "output_type": "execute_result"
    }
   ],
   "source": [
    "data_dir = \"../../pdbbind_data/\"\n",
    "files = glob.glob(data_dir + \"*/*/*_pocket.pdbqt\", recursive=True)\n",
    "len(files)"
   ]
  },
  {
   "cell_type": "code",
   "execution_count": 9,
   "metadata": {},
   "outputs": [
    {
     "data": {
      "text/plain": [
       "3794"
      ]
     },
     "execution_count": 9,
     "metadata": {},
     "output_type": "execute_result"
    }
   ],
   "source": [
    "valid_files = []\n",
    "for file in files:\n",
    "    _id = os.path.split(file)[0][-4:]\n",
    "    if _id in exp_pdb_ids:\n",
    "        valid_files.append(file)\n",
    "len(valid_files)"
   ]
  },
  {
   "cell_type": "code",
   "execution_count": 10,
   "metadata": {},
   "outputs": [],
   "source": [
    "def transform_coordinates(molecule, verbose=False):\n",
    "    \"\"\"\n",
    "    Method for reorientation of the protein-ligand complex.\n",
    "    INPUT: Molecule object\n",
    "    OUTPUT: Molecule object with reoriented coordinates.\n",
    "        New axes are:\n",
    "            x-axis = Along the first principal component of the ligand coordinates\n",
    "            y-axis = Centroid vector of the protein which is orthogonalized to the x-axis.\n",
    "            z-axis = Orthogonal to both x and y axis.\n",
    "    \"\"\"\n",
    "    # Select protein and ligands\n",
    "    if verbose: print(\"INFO: SELECTING PROTEINS AND LIGANDS\", end='...')\n",
    "    p_map = molecule.atomselect('protein')\n",
    "    l_map = molecule.atomselect('not protein')\n",
    "    if verbose: print(\"DONE\")\n",
    "    if verbose: print(\"INFO: RESHAPING COORDINATES\", end='...')\n",
    "    p_points = molecule.coords[p_map].reshape(-1, 3)\n",
    "    l_points = molecule.coords[l_map].reshape(-1, 3)\n",
    "    if verbose: print(\"DONE\")\n",
    "\n",
    "    #Find the centroid of the ligand structure and move the points around that.\n",
    "    if verbose: print(\"INFO: FINDING THE CENTER OF THE LIGAND AND CENTERING\", end='...')\n",
    "    l_centroid = np.mean(l_points, axis=0)\n",
    "    l_points = l_points - l_centroid\n",
    "    p_points = p_points - l_centroid\n",
    "    if verbose: print(\"DONE\")\n",
    "    \n",
    "    # Perform PCA on ligand points\n",
    "    if verbose: print(\"INFO: PERFORMING PCA\", end='...')\n",
    "    pca = PCA(n_components=3)\n",
    "    pca.fit(l_points)\n",
    "    if verbose: print(\"DONE\")\n",
    "    \n",
    "    # x_axis is the first principal component\n",
    "    x_axis = pca.components_[:, 0]\n",
    "    \n",
    "    # Get the centroid of the protein points\n",
    "    p_centroid = np.mean(p_points, axis=0)\n",
    "    \n",
    "    # Projection of p_centroid vector on x_axis\n",
    "    if verbose: print(\"INFO: PROJECTING THE CENTROID OF THE PROTEIN TO THE FIRST PRINCIPAL AXIS\", end=\"...\")\n",
    "    proj_x = np.matmul(np.transpose(x_axis), p_centroid)/np.matmul(np.transpose(x_axis), x_axis) * x_axis\n",
    "    # Get y-axis\n",
    "    y_axis = p_centroid - proj_x\n",
    "    if verbose: print(\"DONE\")\n",
    "\n",
    "    #Normalize\n",
    "    if verbose: print(\"INFO: NORMALIZING Y-AXIS\", end=\"...\")\n",
    "    y_axis = y_axis / np.linalg.norm(y_axis)\n",
    "    if verbose: print(\"DONE\")\n",
    "    \n",
    "    # z_axis is perpendicular to both x_axis and y_axis. Not sure about the direction yet (+ or - ?)\n",
    "    z_axis = np.cross(x_axis, y_axis)\n",
    "    \n",
    "    # Transformation matrix (as column vector and normalized)\n",
    "    if verbose: print(\"INFO: GETTING THE TRANSFORMATION MATRIX\", end=\"...\")\n",
    "    R = np.transpose(np.array([x_axis, y_axis, z_axis]))\n",
    "    if verbose: print(\"DONE\")\n",
    "    \n",
    "    # Transform all protein and ligand points\n",
    "    if verbose: print(\"INFO: TRANSORFMING THE COORDINATES OF LIGAND AND PROTEIN\", end=\"...\")\n",
    "    mol_coords = molecule.coords.reshape((-1, 3))\n",
    "    transformed_coords = np.transpose(np.matmul(R, np.transpose(mol_coords))).reshape((-1, 3, 1))\n",
    "    #molecule.coords = transformed_coords    \n",
    "    if verbose: print(\"DONE\")\n",
    "    \n",
    "#     p_points = np.transpose(np.matmul(R, np.transpose(p_points))).reshape(-1, 3, 1)\n",
    "#     l_points = np.transpose(np.matmul(R, np.transpose(l_points))).reshape(-1, 3, 1)\n",
    "    \n",
    "#     molecule.coords[p_map] = p_points\n",
    "#     molecule.coords[l_map] = l_points\n",
    "    \n",
    "    if verbose: print(\"INFO: COORDINATE TRANSFORMATION FINISHED\")\n",
    "    return transformed_coords"
   ]
  },
  {
   "cell_type": "code",
   "execution_count": 11,
   "metadata": {},
   "outputs": [],
   "source": [
    "def get_features(files, reorient=False, verbose=False):\n",
    "    for file in files:\n",
    "        if verbose: print(\"INFO: GETTING THE MOLECULE OBJECT\", end=\"\")\n",
    "        mol = ht.Molecule(file)\n",
    "        _id = mol.viewname[:4]\n",
    "        if verbose: print(\" FOR ID: \", _id, \"...DONE\")\n",
    "        mol.renumberResidues()\n",
    "        if not reorient: \n",
    "            if verbose: print(\"INFO: CENTERING THE MOLECULE\", end=\"...\")\n",
    "            c = np.mean(mol.coords, axis=0)\n",
    "            mol.moveBy(-c) # Coordinate transformation does the centering\n",
    "            if verbose: print(\"DONE\")\n",
    "        \n",
    "        if reorient:\n",
    "            if verbose: print(\"INFO: STARTING COORDINATE TRANSFORMATION\")\n",
    "            try:\n",
    "                mol = transform_coordinates(mol, verbose=True)\n",
    "                if verbose: print(\"INFO: COORDINATE TRANSFORMATION DONE\")\n",
    "            except:\n",
    "                if verbose: print(\"INFO: COORDINATE TRANSFORMATION FAILED!\")\n",
    "                continue\n",
    "        try:\n",
    "            # Get the voxeldescriptors\n",
    "            if verbose: print(\"INFO: GETTING THE VOXEL DESCRIPTORS\", end=\"...\")\n",
    "            f, centers, natoms = vd.getVoxelDescriptors(mol, \n",
    "                                                        channels=get_all_channels(mol))#, method='CUDA')\n",
    "            if verbose: print(\"RESHAPING...\", end=\"...\")\n",
    "            f = f.reshape(natoms[0], natoms[1], natoms[2], -1)\n",
    "            if verbose: print(\"DONE\")\n",
    "        except:\n",
    "            if verbose: print(\"FAILED\")\n",
    "            continue\n",
    "        \n",
    "        if verbose: print(\"INFO: RESHAPING THE FEATURES AND RETURN\", end =\"...\")\n",
    "        f = f.reshape(natoms[0], natoms[1], natoms[2], -1)\n",
    "        if verbose: print(\"DONE\")\n",
    "            \n",
    "        if verbose: print(\"INFO: FEATURES EXTRACTION FINISHED FOR \", _id)\n",
    "        \n",
    "        yield _reshape(f), scores[_id]"
   ]
  },
  {
   "cell_type": "code",
   "execution_count": 12,
   "metadata": {},
   "outputs": [],
   "source": [
    "# Get the Molecule object of an example file\n",
    "mol = ht.Molecule(\"../../pdbbind_data/refined-set-2016/4b2i/4b2i_pocket.pdbqt\")"
   ]
  },
  {
   "cell_type": "code",
   "execution_count": 13,
   "metadata": {},
   "outputs": [],
   "source": [
    "# Extract the features\n",
    "f, centers, natoms = vd.getVoxelDescriptors(mol, channels=get_all_channels(mol))\n",
    "f1 = f.reshape(natoms[0], natoms[1], natoms[2], -1)"
   ]
  },
  {
   "cell_type": "code",
   "execution_count": 14,
   "metadata": {},
   "outputs": [
    {
     "data": {
      "text/plain": [
       "(20, 26, 26, 16)"
      ]
     },
     "execution_count": 14,
     "metadata": {},
     "output_type": "execute_result"
    }
   ],
   "source": [
    "f1.shape"
   ]
  },
  {
   "cell_type": "code",
   "execution_count": 15,
   "metadata": {},
   "outputs": [
    {
     "data": {
      "text/plain": [
       "array([0.11640091, 0.01525822, 0.04217882, 0.03735579, 0.11879581,\n",
       "       0.07506089, 0.        , 0.13661028, 0.        , 0.        ,\n",
       "       0.01378874, 0.        , 0.        , 0.        , 0.        ,\n",
       "       0.01378874])"
      ]
     },
     "execution_count": 15,
     "metadata": {},
     "output_type": "execute_result"
    }
   ],
   "source": [
    "np.var(f1.reshape((-1, 16)), axis=0)"
   ]
  },
  {
   "cell_type": "code",
   "execution_count": 16,
   "metadata": {},
   "outputs": [],
   "source": [
    "# Transform the coordinates and push them back to the Molecule object\n",
    "mol.coords = transform_coordinates(mol)"
   ]
  },
  {
   "cell_type": "code",
   "execution_count": 17,
   "metadata": {},
   "outputs": [],
   "source": [
    "# Extract the features again\n",
    "f, centers, natoms = vd.getVoxelDescriptors(mol, channels=get_all_channels(mol))\n",
    "f2 = f.reshape(natoms[0], natoms[1], natoms[2], -1)"
   ]
  },
  {
   "cell_type": "code",
   "execution_count": 18,
   "metadata": {},
   "outputs": [
    {
     "data": {
      "text/plain": [
       "(26, 27, 20, 16)"
      ]
     },
     "execution_count": 18,
     "metadata": {},
     "output_type": "execute_result"
    }
   ],
   "source": [
    "f2.shape"
   ]
  },
  {
   "cell_type": "markdown",
   "metadata": {},
   "source": [
    "Shapes are changed now!"
   ]
  },
  {
   "cell_type": "code",
   "execution_count": 19,
   "metadata": {},
   "outputs": [
    {
     "data": {
      "text/plain": [
       "array([4.68454850e-04, 0.00000000e+00, 5.98114087e-11, 3.24354878e-14,\n",
       "       4.68454850e-04, 6.72461220e-11, 0.00000000e+00, 4.68454842e-04,\n",
       "       0.00000000e+00, 0.00000000e+00, 0.00000000e+00, 0.00000000e+00,\n",
       "       0.00000000e+00, 0.00000000e+00, 0.00000000e+00, 0.00000000e+00])"
      ]
     },
     "execution_count": 19,
     "metadata": {},
     "output_type": "execute_result"
    }
   ],
   "source": [
    "np.var(f2.reshape((-1, 16)), axis=0)"
   ]
  },
  {
   "cell_type": "code",
   "execution_count": 20,
   "metadata": {},
   "outputs": [
    {
     "data": {
      "text/plain": [
       "(0.04003784700200238, 8.7889686758965e-05)"
      ]
     },
     "execution_count": 20,
     "metadata": {},
     "output_type": "execute_result"
    }
   ],
   "source": [
    "np.var(f1), np.var(f2)"
   ]
  },
  {
   "cell_type": "markdown",
   "metadata": {},
   "source": [
    "Variances are not the same!"
   ]
  },
  {
   "cell_type": "code",
   "execution_count": 21,
   "metadata": {},
   "outputs": [],
   "source": [
    "# # With coordinate transformation\n",
    "# x, y = next(get_features(valid_files[:1], reorient=True, verbose=True))\n",
    "# data_x = bc.carray(x.reshape((1,)+x.shape), rootdir='data_x_transformed')\n",
    "# data_y = np.array(y)\n",
    "# count = 0\n",
    "\n",
    "# pbar = tqdm_notebook(total = len(valid_files[1:]))\n",
    "# for x, y in get_features(valid_files[1:], reorient=True, verbose=True):\n",
    "#     print(count, end=',')\n",
    "#     count = count + 1\n",
    "#     data_x.append(x.reshape((1,)+x.shape))\n",
    "#     data_y = np.append(data_y, np.array(y))\n",
    "#     pbar.update()\n",
    "\n",
    "# data_x.flush()"
   ]
  },
  {
   "cell_type": "code",
   "execution_count": 22,
   "metadata": {},
   "outputs": [],
   "source": [
    "# # Without coordinate transformation\n",
    "\n",
    "# x, y = next(get_features(valid_files[:1]))\n",
    "# data_x = bc.carray(x.reshape((1,)+x.shape), rootdir='data_x_50')\n",
    "# data_y = np.array(y)\n",
    "\n",
    "# pbar = tqdm_notebook(total = len(valid_files[1:]))\n",
    "# for x, y in get_features(valid_files[1:]):\n",
    "#     data_x.append(x.reshape((1,)+x.shape))\n",
    "#     data_y = np.append(data_y, np.array(y))\n",
    "#     pbar.update()\n",
    "\n",
    "# data_x.flush()"
   ]
  }
 ],
 "metadata": {
  "kernelspec": {
   "display_name": "Python 3",
   "language": "python",
   "name": "python3"
  },
  "language_info": {
   "codemirror_mode": {
    "name": "ipython",
    "version": 3
   },
   "file_extension": ".py",
   "mimetype": "text/x-python",
   "name": "python",
   "nbconvert_exporter": "python",
   "pygments_lexer": "ipython3",
   "version": "3.6.4"
  }
 },
 "nbformat": 4,
 "nbformat_minor": 2
}
