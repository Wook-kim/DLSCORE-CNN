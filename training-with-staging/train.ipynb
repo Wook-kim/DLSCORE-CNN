{
 "cells": [
  {
   "cell_type": "code",
   "execution_count": 1,
   "metadata": {},
   "outputs": [
    {
     "name": "stderr",
     "output_type": "stream",
     "text": [
      "/usr/local/anaconda3/envs/deeplearning/lib/python3.6/site-packages/h5py/__init__.py:36: FutureWarning: Conversion of the second argument of issubdtype from `float` to `np.floating` is deprecated. In future, it will be treated as `np.float64 == np.dtype(float).type`.\n",
      "  from ._conv import register_converters as _register_converters\n",
      "Using TensorFlow backend.\n"
     ]
    }
   ],
   "source": [
    "# Example of using StagingAreaCallback for GPU prefetch \n",
    "#\n",
    "# https://gist.github.com/bzamecnik/b9dbd50cdc195d54513cd2f9dfb7e21b\n",
    "\n",
    "import math\n",
    "from keras.applications import ResNet50\n",
    "from keras.layers import Dense, Input, Conv2D, MaxPooling2D, Dropout, Flatten\n",
    "from keras.models import Model\n",
    "from keras.utils import to_categorical\n",
    "from keras.utils.training_utils import multi_gpu_model\n",
    "import numpy as np\n",
    "\n",
    "from callbacks import StagingAreaCallback, SamplesPerSec\n",
    "from keras_tf_multigpu.examples.datasets import create_synth_cifar10\n",
    "from keras_tf_multigpu.examples.datasets import create_synth_imagenet\n",
    "\n",
    "np.random.seed(42)"
   ]
  },
  {
   "cell_type": "markdown",
   "metadata": {},
   "source": [
    "### CIFAR-10 training"
   ]
  },
  {
   "cell_type": "code",
   "execution_count": 2,
   "metadata": {},
   "outputs": [],
   "source": [
    "def make_convnet(input, num_classes):\n",
    "    x = Conv2D(32, (3, 3), padding='same', activation='relu')(input)\n",
    "    x = Conv2D(64, (3, 3), activation='relu')(x)\n",
    "    x = Conv2D(128, (3, 3), activation='relu')(x)\n",
    "    x = MaxPooling2D(pool_size=(2, 2))(x)\n",
    "    x = Dropout(0.25)(x)\n",
    "\n",
    "    x = Conv2D(256, (3, 3), padding='same', activation='relu')(x)\n",
    "    x = Conv2D(512, (3, 3), activation='relu')(x)\n",
    "    x = MaxPooling2D(pool_size=(2, 2))(x)\n",
    "    x = Dropout(0.25)(x)\n",
    "\n",
    "    x = Flatten()(x)\n",
    "    x = Dense(1024, activation='relu')(x)\n",
    "    x = Dropout(0.5)(x)\n",
    "    output = Dense(num_classes, activation='softmax')(x)\n",
    "\n",
    "    return output"
   ]
  },
  {
   "cell_type": "code",
   "execution_count": 3,
   "metadata": {},
   "outputs": [],
   "source": [
    "def make_plain_model(input_shape, num_classes, nb_gpus):\n",
    "    input = Input(shape=input_shape)\n",
    "    model = Model(inputs=input, outputs=make_convnet(input, num_classes))\n",
    "    model = multi_gpu_model(model, gpus=nb_gpus)\n",
    "    model.compile(optimizer='sgd', loss='categorical_crossentropy')\n",
    "    return model"
   ]
  },
  {
   "cell_type": "code",
   "execution_count": 4,
   "metadata": {},
   "outputs": [],
   "source": [
    "def make_tensor_model(staging_area_callback, num_classes, nb_gpus):\n",
    "    input = Input(tensor=staging_area_callback.input_tensor)\n",
    "    model = Model(inputs=input, outputs=make_convnet(input, num_classes))\n",
    "    model = multi_gpu_model(model, gpus=nb_gpus)\n",
    "    model.compile(optimizer='sgd', loss='categorical_crossentropy',\n",
    "        target_tensors=[staging_area_callback.target_tensor],\n",
    "        fetches=staging_area_callback.extra_ops)\n",
    "    return model"
   ]
  },
  {
   "cell_type": "code",
   "execution_count": 5,
   "metadata": {},
   "outputs": [],
   "source": [
    "nb_gpus = 8\n",
    "num_classes = 10\n",
    "dataset_size = 50000\n",
    "batch_size = nb_gpus*2048\n",
    "epochs = 5"
   ]
  },
  {
   "cell_type": "code",
   "execution_count": 6,
   "metadata": {},
   "outputs": [],
   "source": [
    "x_train, y_train = create_synth_cifar10(dataset_size)\n",
    "\n",
    "x_train = x_train.astype('float32')\n",
    "y_train = y_train.astype('float32')"
   ]
  },
  {
   "cell_type": "code",
   "execution_count": 7,
   "metadata": {},
   "outputs": [],
   "source": [
    "# last batch might be smaller\n",
    "steps_per_epoch = int(math.ceil(len(x_train) / batch_size))\n",
    "gauge = SamplesPerSec(batch_size)\n",
    "staging_area_callback = StagingAreaCallback(x_train, y_train, batch_size, prefetch_count=2)"
   ]
  },
  {
   "cell_type": "code",
   "execution_count": 8,
   "metadata": {},
   "outputs": [
    {
     "name": "stdout",
     "output_type": "stream",
     "text": [
      "training plain model:\n",
      "Epoch 1/5\n",
      "50000/50000 [==============================] - 14s 287us/step - loss: 2.3075\n",
      "Samples/sec: 26696.64\n",
      "Epoch 2/5\n",
      "50000/50000 [==============================] - 2s 44us/step - loss: 2.3071\n",
      "Samples/sec: 26750.96\n",
      "Epoch 3/5\n",
      "50000/50000 [==============================] - 2s 44us/step - loss: 2.3061\n",
      "Samples/sec: 26957.27\n",
      "Epoch 4/5\n",
      "50000/50000 [==============================] - 2s 44us/step - loss: 2.3052\n",
      "Samples/sec: 27176.73\n",
      "Epoch 5/5\n",
      "50000/50000 [==============================] - 2s 44us/step - loss: 2.3056\n",
      "Samples/sec: 27331.62\n"
     ]
    }
   ],
   "source": [
    "print('training plain model:')\n",
    "plain_model = make_plain_model(x_train.shape[1:], num_classes, nb_gpus)\n",
    "history1 = plain_model.fit(x_train, y_train, batch_size, epochs=epochs, callbacks=[gauge])"
   ]
  },
  {
   "cell_type": "code",
   "execution_count": 9,
   "metadata": {},
   "outputs": [
    {
     "name": "stdout",
     "output_type": "stream",
     "text": [
      "training pipelined model:\n",
      "Epoch 1/5\n",
      "4/4 [==============================] - 4s 1s/step - loss: 2.3106\n",
      "Samples/sec: 30587.05\n",
      "Epoch 2/5\n",
      "4/4 [==============================] - 2s 532ms/step - loss: 2.3088\n",
      "Samples/sec: 31266.97\n",
      "Epoch 3/5\n",
      "4/4 [==============================] - 2s 564ms/step - loss: 2.3073\n",
      "Samples/sec: 31090.30\n",
      "Epoch 4/5\n",
      "4/4 [==============================] - 2s 552ms/step - loss: 2.3078\n",
      "Samples/sec: 31102.63\n",
      "Epoch 5/5\n",
      "4/4 [==============================] - 2s 540ms/step - loss: 2.3066\n",
      "Samples/sec: 31102.63\n"
     ]
    }
   ],
   "source": [
    "print('training pipelined model:')\n",
    "pipelined_model = make_tensor_model(staging_area_callback, num_classes, nb_gpus)\n",
    "history2 = pipelined_model.fit(steps_per_epoch=steps_per_epoch, epochs=epochs,\n",
    "                               callbacks=[staging_area_callback, gauge])"
   ]
  },
  {
   "cell_type": "markdown",
   "metadata": {},
   "source": [
    "### ImageNet Training"
   ]
  },
  {
   "cell_type": "code",
   "execution_count": 10,
   "metadata": {},
   "outputs": [],
   "source": [
    "def make_tensor_model(staging_area_callback, num_classes, nb_gpus):\n",
    "    model = ResNet50(input_tensor=staging_area_callback.input_tensor,\n",
    "        classes=num_classes, weights=None)\n",
    "    model = multi_gpu_model(model, gpus=nb_gpus)\n",
    "    model.compile(optimizer='sgd', loss='categorical_crossentropy',\n",
    "        target_tensors=[staging_area_callback.target_tensor],\n",
    "        fetches=staging_area_callback.extra_ops)\n",
    "    return model"
   ]
  },
  {
   "cell_type": "code",
   "execution_count": 11,
   "metadata": {},
   "outputs": [],
   "source": [
    "nb_gpus = 8\n",
    "num_classes = 1000\n",
    "dataset_size = 10000\n",
    "batch_size = nb_gpus*32\n",
    "epochs = 5"
   ]
  },
  {
   "cell_type": "code",
   "execution_count": 12,
   "metadata": {},
   "outputs": [],
   "source": [
    "x_train, y_train = create_synth_imagenet(224, dataset_size)\n",
    "x_train = x_train.astype('float32')\n",
    "y_train = y_train.astype('float32')"
   ]
  },
  {
   "cell_type": "code",
   "execution_count": 13,
   "metadata": {},
   "outputs": [
    {
     "data": {
      "text/plain": [
       "((10000, 224, 224, 3), (10000, 1000))"
      ]
     },
     "execution_count": 13,
     "metadata": {},
     "output_type": "execute_result"
    }
   ],
   "source": [
    "x_train.shape, y_train.shape"
   ]
  },
  {
   "cell_type": "code",
   "execution_count": 14,
   "metadata": {},
   "outputs": [],
   "source": [
    "# last batch might be smaller\n",
    "steps_per_epoch = int(math.ceil(len(x_train) / batch_size))\n",
    "\n",
    "gauge = SamplesPerSec(batch_size)\n",
    "staging_area_callback = StagingAreaCallback(x_train, y_train, batch_size, prefetch_count=5)"
   ]
  },
  {
   "cell_type": "code",
   "execution_count": 15,
   "metadata": {},
   "outputs": [
    {
     "name": "stdout",
     "output_type": "stream",
     "text": [
      "training pipelined model:\n",
      "Epoch 1/5\n",
      "40/40 [==============================] - 96s 2s/step - loss: 7.2706\n",
      "Samples/sec: 367.41\n",
      "Epoch 2/5\n",
      "40/40 [==============================] - 32s 795ms/step - loss: 7.0000\n",
      "Samples/sec: 368.29\n",
      "Epoch 3/5\n",
      "40/40 [==============================] - 32s 799ms/step - loss: 6.9331\n",
      "Samples/sec: 367.88\n",
      "Epoch 4/5\n",
      "40/40 [==============================] - 32s 804ms/step - loss: 6.9173\n",
      "Samples/sec: 367.51\n",
      "Epoch 5/5\n",
      "40/40 [==============================] - 32s 795ms/step - loss: 6.9126\n",
      "Samples/sec: 368.14\n",
      "CPU times: user 13min 3s, sys: 1min 12s, total: 14min 16s\n",
      "Wall time: 4min 2s\n"
     ]
    },
    {
     "data": {
      "text/plain": [
       "<keras.callbacks.History at 0x7fde126afa90>"
      ]
     },
     "execution_count": 15,
     "metadata": {},
     "output_type": "execute_result"
    }
   ],
   "source": [
    "print('training pipelined model:')\n",
    "pipelined_model = make_tensor_model(staging_area_callback, num_classes, nb_gpus)\n",
    "%time pipelined_model.fit(steps_per_epoch=steps_per_epoch, epochs=epochs, callbacks=[staging_area_callback, gauge])"
   ]
  },
  {
   "cell_type": "code",
   "execution_count": null,
   "metadata": {},
   "outputs": [],
   "source": []
  }
 ],
 "metadata": {
  "kernelspec": {
   "display_name": "Python 3",
   "language": "python",
   "name": "python3"
  },
  "language_info": {
   "codemirror_mode": {
    "name": "ipython",
    "version": 3
   },
   "file_extension": ".py",
   "mimetype": "text/x-python",
   "name": "python",
   "nbconvert_exporter": "python",
   "pygments_lexer": "ipython3",
   "version": "3.6.4"
  }
 },
 "nbformat": 4,
 "nbformat_minor": 2
}
