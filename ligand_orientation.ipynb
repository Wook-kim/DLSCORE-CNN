{
 "cells": [
  {
   "cell_type": "code",
   "execution_count": 1,
   "metadata": {},
   "outputs": [],
   "source": [
    "import numpy as np\n",
    "import re\n",
    "from sklearn.decomposition import PCA\n",
    "import matplotlib.pyplot as plt\n",
    "from mpl_toolkits.mplot3d import Axes3D"
   ]
  },
  {
   "cell_type": "code",
   "execution_count": 2,
   "metadata": {},
   "outputs": [],
   "source": [
    "import matplotlib.pyplot as plt\n",
    "%matplotlib inline"
   ]
  },
  {
   "cell_type": "markdown",
   "metadata": {},
   "source": [
    "## Rotation of ligand along the first principle component"
   ]
  },
  {
   "cell_type": "markdown",
   "metadata": {},
   "source": [
    "Open a ligand file and read the coordinates"
   ]
  },
  {
   "cell_type": "code",
   "execution_count": 3,
   "metadata": {},
   "outputs": [
    {
     "data": {
      "text/plain": [
       "array([[19.222, 10.125, 22.641],\n",
       "       [14.836, 11.499, 17.763],\n",
       "       [12.296, -1.485, 21.696],\n",
       "       [15.392, 13.02 , 31.056],\n",
       "       [15.898, 12.316, 28.42 ],\n",
       "       [11.227,  5.784, 23.411],\n",
       "       [13.969, 12.616, 26.601],\n",
       "       [10.16 ,  0.31 , 24.282],\n",
       "       [19.312,  2.039, 21.582],\n",
       "       [18.411,  4.734, 18.522],\n",
       "       [18.955,  4.897, 21.43 ],\n",
       "       [ 5.802, 14.337, 37.928],\n",
       "       [ 6.322, 16.122, 35.511],\n",
       "       [11.584,  2.588, 23.272],\n",
       "       [12.853,  1.052, 20.658],\n",
       "       [10.77 , 15.081, 27.119],\n",
       "       [11.028, 12.083, 23.872],\n",
       "       [ 3.874,  1.565, 28.811],\n",
       "       [ 8.6  ,  7.749, 17.971],\n",
       "       [16.415,  9.458, 28.524],\n",
       "       [ 7.037,  7.219, 26.157],\n",
       "       [13.454, 17.756, 24.597],\n",
       "       [13.508, 15.158, 25.523],\n",
       "       [17.405, 12.665, 20.396]], dtype=float32)"
      ]
     },
     "execution_count": 3,
     "metadata": {},
     "output_type": "execute_result"
    }
   ],
   "source": [
    "coords = []\n",
    "with open(\"../../pdbbind_data/refined-set/10gs/10gs_pocket.pdb\", \"r\") as f:\n",
    "    content = f.readlines()\n",
    "    for line in content:\n",
    "        words = line.split()\n",
    "        if words[0] == \"HETATM\":\n",
    "            coords.append(words[5:8])\n",
    "\n",
    "coords = np.array(coords, dtype=np.float32)\n",
    "coords"
   ]
  },
  {
   "cell_type": "markdown",
   "metadata": {},
   "source": [
    "Get the centroid and scale the coordinates around it"
   ]
  },
  {
   "cell_type": "code",
   "execution_count": 4,
   "metadata": {},
   "outputs": [
    {
     "data": {
      "text/plain": [
       "array([[ 6.3749170e+00,  1.4296665e+00, -2.2649574e+00],\n",
       "       [ 1.9889174e+00,  2.8036661e+00, -7.1429577e+00],\n",
       "       [-5.5108356e-01, -1.0180333e+01, -3.2099590e+00],\n",
       "       [ 2.5449171e+00,  4.3246670e+00,  6.1500416e+00],\n",
       "       [ 3.0509167e+00,  3.6206665e+00,  3.5140419e+00],\n",
       "       [-1.6200829e+00, -2.9113336e+00, -1.4949589e+00],\n",
       "       [ 1.1219168e+00,  3.9206667e+00,  1.6950417e+00],\n",
       "       [-2.6870832e+00, -8.3853331e+00, -6.2395859e-01],\n",
       "       [ 6.4649172e+00, -6.6563334e+00, -3.3239574e+00],\n",
       "       [ 5.5639162e+00, -3.9613333e+00, -6.3839588e+00],\n",
       "       [ 6.1079168e+00, -3.7983336e+00, -3.4759579e+00],\n",
       "       [-7.0450830e+00,  5.6416664e+00,  1.3022043e+01],\n",
       "       [-6.5250831e+00,  7.4266663e+00,  1.0605043e+01],\n",
       "       [-1.2630835e+00, -6.1073332e+00, -1.6339588e+00],\n",
       "       [ 5.9165955e-03, -7.6433334e+00, -4.2479572e+00],\n",
       "       [-2.0770826e+00,  6.3856668e+00,  2.2130413e+00],\n",
       "       [-1.8190832e+00,  3.3876667e+00, -1.0339584e+00],\n",
       "       [-8.9730835e+00, -7.1303334e+00,  3.9050426e+00],\n",
       "       [-4.2470827e+00, -9.4633341e-01, -6.9349575e+00],\n",
       "       [ 3.5679178e+00,  7.6266670e-01,  3.6180420e+00],\n",
       "       [-5.8100829e+00, -1.4763336e+00,  1.2510414e+00],\n",
       "       [ 6.0691738e-01,  9.0606670e+00, -3.0895805e-01],\n",
       "       [ 6.6091728e-01,  6.4626665e+00,  6.1704254e-01],\n",
       "       [ 4.5579176e+00,  3.9696665e+00, -4.5099583e+00]], dtype=float32)"
      ]
     },
     "execution_count": 4,
     "metadata": {},
     "output_type": "execute_result"
    }
   ],
   "source": [
    "centroid = np.mean(coords, axis=0)\n",
    "coords = coords - centroid\n",
    "coords"
   ]
  },
  {
   "cell_type": "markdown",
   "metadata": {},
   "source": [
    "Let's calculate the variance in each direction"
   ]
  },
  {
   "cell_type": "code",
   "execution_count": 5,
   "metadata": {},
   "outputs": [
    {
     "data": {
      "text/plain": [
       "array([18.745665, 30.959105, 24.73112 ], dtype=float32)"
      ]
     },
     "execution_count": 5,
     "metadata": {},
     "output_type": "execute_result"
    }
   ],
   "source": [
    "np.var(coords, axis=0)"
   ]
  },
  {
   "cell_type": "markdown",
   "metadata": {},
   "source": [
    "Perform PCA. Number of components is equal to the number of dimension."
   ]
  },
  {
   "cell_type": "code",
   "execution_count": 6,
   "metadata": {},
   "outputs": [
    {
     "data": {
      "text/plain": [
       "PCA(copy=True, iterated_power='auto', n_components=3, random_state=None,\n",
       "  svd_solver='auto', tol=0.0, whiten=False)"
      ]
     },
     "execution_count": 6,
     "metadata": {},
     "output_type": "execute_result"
    }
   ],
   "source": [
    "pca = PCA(n_components=3)\n",
    "pca.fit(coords)"
   ]
  },
  {
   "cell_type": "markdown",
   "metadata": {},
   "source": [
    "Get the eigen values (sorted in descending order)"
   ]
  },
  {
   "cell_type": "code",
   "execution_count": 7,
   "metadata": {},
   "outputs": [
    {
     "data": {
      "text/plain": [
       "array([44.45449 , 24.854885,  8.362877], dtype=float32)"
      ]
     },
     "execution_count": 7,
     "metadata": {},
     "output_type": "execute_result"
    }
   ],
   "source": [
    "pca.explained_variance_"
   ]
  },
  {
   "cell_type": "markdown",
   "metadata": {},
   "source": [
    "Get the eigen vectors (Principal Components)"
   ]
  },
  {
   "cell_type": "code",
   "execution_count": 8,
   "metadata": {},
   "outputs": [
    {
     "data": {
      "text/plain": [
       "array([[-0.2993492 ,  0.6949612 ,  0.6537731 ],\n",
       "       [-0.69489527, -0.6283331 ,  0.34974018],\n",
       "       [-0.653843  ,  0.34960935, -0.6710162 ]], dtype=float32)"
      ]
     },
     "execution_count": 8,
     "metadata": {},
     "output_type": "execute_result"
    }
   ],
   "source": [
    "pca.components_"
   ]
  },
  {
   "cell_type": "markdown",
   "metadata": {},
   "source": [
    "Get the covariance matrix. Diagonal elements are the variances along the corresponding axes."
   ]
  },
  {
   "cell_type": "code",
   "execution_count": 9,
   "metadata": {},
   "outputs": [
    {
     "data": {
      "text/plain": [
       "array([[ 19.560696  ,  -0.30752325, -11.071461  ],\n",
       "       [ -0.3075231 ,  32.30517   ,  12.773941  ],\n",
       "       [-11.071461  ,  12.773943  ,  25.806404  ]], dtype=float32)"
      ]
     },
     "execution_count": 9,
     "metadata": {},
     "output_type": "execute_result"
    }
   ],
   "source": [
    "pca.get_covariance()"
   ]
  },
  {
   "cell_type": "markdown",
   "metadata": {},
   "source": [
    "We can see that the coordinates are scattered mostly along the y axis, and then z and then x."
   ]
  },
  {
   "cell_type": "code",
   "execution_count": 10,
   "metadata": {},
   "outputs": [
    {
     "data": {
      "text/plain": [
       "array([0.5723343 , 0.31999698, 0.10766879], dtype=float32)"
      ]
     },
     "execution_count": 10,
     "metadata": {},
     "output_type": "execute_result"
    }
   ],
   "source": [
    "pca.explained_variance_ratio_"
   ]
  },
  {
   "cell_type": "markdown",
   "metadata": {},
   "source": [
    "The first principle component (pc) explains 57% of the variances, second one 32% and the 3rd one only 10%"
   ]
  },
  {
   "cell_type": "code",
   "execution_count": 11,
   "metadata": {},
   "outputs": [
    {
     "data": {
      "text/plain": [
       "array([0.5723343 , 0.89233124, 1.        ], dtype=float32)"
      ]
     },
     "execution_count": 11,
     "metadata": {},
     "output_type": "execute_result"
    }
   ],
   "source": [
    "np.cumsum(pca.explained_variance_ratio_)"
   ]
  },
  {
   "cell_type": "markdown",
   "metadata": {},
   "source": [
    "The first 2 axes explains almost 90% of the variance."
   ]
  },
  {
   "cell_type": "markdown",
   "metadata": {},
   "source": [
    "Let's transform (re-orient) the points along the principle components"
   ]
  },
  {
   "cell_type": "code",
   "execution_count": 12,
   "metadata": {},
   "outputs": [],
   "source": [
    "coords_pca = pca.transform(coords)"
   ]
  },
  {
   "cell_type": "code",
   "execution_count": 13,
   "metadata": {},
   "outputs": [
    {
     "data": {
      "text/plain": [
       "array([[-2.395532  , -6.1203527 , -2.1485462 ],\n",
       "       [-3.3168156 , -5.641905  ,  4.4727893 ],\n",
       "       [-9.008554  ,  5.6569343 , -1.0448825 ],\n",
       "       [ 6.2643886 , -2.3348656 , -4.2788095 ],\n",
       "       [ 3.9003193 , -3.1660504 , -3.0869806 ],\n",
       "       [-2.5156574 ,  2.4322278 ,  1.0445924 ],\n",
       "       [ 3.4970388 , -2.6502752 , -0.50025576],\n",
       "       [-5.431032  ,  6.9178004 , -0.7559736 ],\n",
       "       [-8.734275  , -1.4725672 , -4.323727  ],\n",
       "       [-8.592188  , -3.610029  , -0.739106  ],\n",
       "       [-6.7405825 , -3.0734258 , -2.9891272 ],\n",
       "       [14.543141  ,  5.9050813 , -2.1592443 ],\n",
       "       [14.047816  ,  3.5768394 , -0.25334406],\n",
       "       [-4.934495  ,  4.143689  , -0.21290925],\n",
       "       [-8.090792  ,  3.3127666 ,  0.17439927],\n",
       "       [ 6.5063906 , -1.7949814 ,  2.1055884 ],\n",
       "       [ 2.2228637 , -1.2261275 ,  3.067558  ],\n",
       "       [ 0.28379193, 12.081328  ,  0.7538097 ],\n",
       "       [-3.9201932 ,  1.1204572 ,  7.099548  ],\n",
       "       [ 1.8273491 , -1.6931633 , -4.493987  ],\n",
       "       [ 1.5311463 ,  5.4025674 ,  2.4432735 ],\n",
       "       [ 5.913143  , -6.2229156 ,  2.9781816 ],\n",
       "       [ 4.696863  , -4.3041706 ,  1.4132273 ],\n",
       "       [-1.5541345 , -7.2388616 ,  1.4339259 ]], dtype=float32)"
      ]
     },
     "execution_count": 13,
     "metadata": {},
     "output_type": "execute_result"
    }
   ],
   "source": [
    "coords_pca"
   ]
  },
  {
   "cell_type": "markdown",
   "metadata": {},
   "source": [
    "Let's find out the amount of variance in each of the axes."
   ]
  },
  {
   "cell_type": "code",
   "execution_count": 14,
   "metadata": {},
   "outputs": [
    {
     "data": {
      "text/plain": [
       "array([42.602222, 23.819265,  8.014424], dtype=float32)"
      ]
     },
     "execution_count": 14,
     "metadata": {},
     "output_type": "execute_result"
    }
   ],
   "source": [
    "np.var(coords_pca, axis=0)"
   ]
  },
  {
   "cell_type": "markdown",
   "metadata": {},
   "source": [
    "### 2D Plot <br>\n",
    "In xy plane only"
   ]
  },
  {
   "cell_type": "markdown",
   "metadata": {},
   "source": [
    "Before PCA"
   ]
  },
  {
   "cell_type": "code",
   "execution_count": 15,
   "metadata": {},
   "outputs": [
    {
     "data": {
      "image/png": "[encoded data removed]",
      "text/plain": [
       "<Figure size 432x288 with 1 Axes>"
      ]
     },
     "metadata": {},
     "output_type": "display_data"
    }
   ],
   "source": [
    "plt.figure()\n",
    "plt.scatter(coords[:, 0], coords[:, 1])\n",
    "plt.show()"
   ]
  },
  {
   "cell_type": "markdown",
   "metadata": {},
   "source": [
    "After PCA"
   ]
  },
  {
   "cell_type": "code",
   "execution_count": 16,
   "metadata": {},
   "outputs": [
    {
     "data": {
      "image/png": "[encoded data removed]",
      "text/plain": [
       "<Figure size 432x288 with 1 Axes>"
      ]
     },
     "metadata": {},
     "output_type": "display_data"
    }
   ],
   "source": [
    "plt.figure()\n",
    "plt.scatter(coords_pca[:, 0], coords_pca[:, 1])\n",
    "plt.show()"
   ]
  },
  {
   "cell_type": "markdown",
   "metadata": {},
   "source": [
    "### 3D Plot"
   ]
  },
  {
   "cell_type": "markdown",
   "metadata": {},
   "source": [
    "Before PCA"
   ]
  },
  {
   "cell_type": "code",
   "execution_count": 17,
   "metadata": {},
   "outputs": [
    {
     "data": {
      "image/png": "[encoded data removed]",
      "text/plain": [
       "<Figure size 432x288 with 1 Axes>"
      ]
     },
     "metadata": {},
     "output_type": "display_data"
    }
   ],
   "source": [
    "fig = plt.figure()\n",
    "ax = fig.add_subplot(111, projection='3d')\n",
    "ax.scatter(coords[:, 0], coords[:, 1], coords[:, 2], c='r', marker='o')\n",
    "\n",
    "ax.set_xlabel('X')\n",
    "ax.set_ylabel('Y')\n",
    "ax.set_zlabel('Z')\n",
    "\n",
    "plt.show()"
   ]
  },
  {
   "cell_type": "markdown",
   "metadata": {},
   "source": [
    "After PCA"
   ]
  },
  {
   "cell_type": "code",
   "execution_count": 18,
   "metadata": {},
   "outputs": [
    {
     "data": {
      "image/png": "[encoded data removed]",
      "text/plain": [
       "<Figure size 432x288 with 1 Axes>"
      ]
     },
     "metadata": {},
     "output_type": "display_data"
    }
   ],
   "source": [
    "fig = plt.figure()\n",
    "ax = fig.add_subplot(111, projection='3d')\n",
    "ax.scatter(coords_pca[:, 0], coords_pca[:, 1], coords_pca[:, 2], c='r', marker='o')\n",
    "\n",
    "ax.set_xlabel('X')\n",
    "ax.set_ylabel('Y')\n",
    "ax.set_zlabel('Z')\n",
    "\n",
    "plt.show()"
   ]
  },
  {
   "cell_type": "markdown",
   "metadata": {},
   "source": [
    "## Rotation of ligand in any direction"
   ]
  },
  {
   "cell_type": "code",
   "execution_count": 19,
   "metadata": {},
   "outputs": [],
   "source": [
    "from math import sin, cos, radians"
   ]
  },
  {
   "cell_type": "code",
   "execution_count": 20,
   "metadata": {},
   "outputs": [],
   "source": [
    "def Rx(theta):\n",
    "    return np.array([[1, 0, 0],\n",
    "                     [0, cos(radians(theta)), -sin(radians(theta))],\n",
    "                     [0, sin(radians(theta)), cos(radians(theta))]])"
   ]
  },
  {
   "cell_type": "code",
   "execution_count": 21,
   "metadata": {},
   "outputs": [],
   "source": [
    "def Ry(theta):\n",
    "    return np.array([[cos(radians(theta)), 0, sin(radians(theta))],\n",
    "                     [0, 1, 0],\n",
    "                     [-sin(radians(theta)), 0, cos(radians(theta))]])"
   ]
  },
  {
   "cell_type": "code",
   "execution_count": 22,
   "metadata": {},
   "outputs": [],
   "source": [
    "def Rz(theta):\n",
    "    return np.array([[cos(radians(theta)), -sin(radians(theta)), 0],\n",
    "                     [sin(radians(theta)), cos(radians(theta)), 0],\n",
    "                     [0, 0, 1]])"
   ]
  },
  {
   "cell_type": "code",
   "execution_count": 23,
   "metadata": {},
   "outputs": [],
   "source": [
    "def rotate(vector, x=0, y=0, z=0):\n",
    "    \"\"\"\n",
    "    Method for rotating a vector about an arbitrary axis.\n",
    "    \n",
    "    INPUT: vector = Vector to be rotated (in numpy array, row vector format)\n",
    "           x = Rotation about x axis\n",
    "           y = Rotation about y axis\n",
    "           z = Rotation about z axis\n",
    "    OUTPUT: Rotated vector. (in row vector form)\n",
    "    \"\"\"\n",
    "    # Get the rotation matrix\n",
    "    R = np.matmul(Rz(z), Ry(y), Rx(x))\n",
    "    return np.transpose(np.matmul(R, np.transpose(vector)))"
   ]
  },
  {
   "cell_type": "markdown",
   "metadata": {},
   "source": [
    "### Example"
   ]
  },
  {
   "cell_type": "markdown",
   "metadata": {},
   "source": [
    "Coordinates in xy plane"
   ]
  },
  {
   "cell_type": "code",
   "execution_count": 24,
   "metadata": {},
   "outputs": [
    {
     "data": {
      "image/png": "[encoded data removed]",
      "text/plain": [
       "<Figure size 432x288 with 1 Axes>"
      ]
     },
     "metadata": {},
     "output_type": "display_data"
    }
   ],
   "source": [
    "plt.figure()\n",
    "plt.scatter(coords_pca[:, 0], coords_pca[:, 1])\n",
    "plt.show()"
   ]
  },
  {
   "cell_type": "markdown",
   "metadata": {},
   "source": [
    "Now rotate 90 degrees about z axis"
   ]
  },
  {
   "cell_type": "code",
   "execution_count": 25,
   "metadata": {},
   "outputs": [],
   "source": [
    "rot = rotate(coords_pca, z=90)"
   ]
  },
  {
   "cell_type": "code",
   "execution_count": 26,
   "metadata": {},
   "outputs": [
    {
     "data": {
      "image/png": "[encoded data removed]",
      "text/plain": [
       "<Figure size 432x288 with 1 Axes>"
      ]
     },
     "metadata": {},
     "output_type": "display_data"
    }
   ],
   "source": [
    "plt.figure()\n",
    "plt.scatter(rot[:, 0], rot[:, 1])\n",
    "plt.show()"
   ]
  }
 ],
 "metadata": {
  "kernelspec": {
   "display_name": "Python 3",
   "language": "python",
   "name": "python3"
  },
  "language_info": {
   "codemirror_mode": {
    "name": "ipython",
    "version": 3
   },
   "file_extension": ".py",
   "mimetype": "text/x-python",
   "name": "python",
   "nbconvert_exporter": "python",
   "pygments_lexer": "ipython3",
   "version": "3.6.4"
  }
 },
 "nbformat": 4,
 "nbformat_minor": 2
}
