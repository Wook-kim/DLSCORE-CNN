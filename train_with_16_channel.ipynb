{
 "cells": [
  {
   "cell_type": "code",
   "execution_count": 1,
   "metadata": {},
   "outputs": [
    {
     "name": "stderr",
     "output_type": "stream",
     "text": [
      "/usr/local/anaconda3/envs/deeplearning/lib/python3.6/site-packages/h5py/__init__.py:34: FutureWarning: Conversion of the second argument of issubdtype from `float` to `np.floating` is deprecated. In future, it will be treated as `np.float64 == np.dtype(float).type`.\n",
      "  from ._conv import register_converters as _register_converters\n",
      "Using TensorFlow backend.\n"
     ]
    },
    {
     "name": "stdout",
     "output_type": "stream",
     "text": [
      "\n",
      "HTMD License accepted automatically. Check license here: https://raw.githubusercontent.com/Acellera/htmd/master/htmd/LICENCE.txt\n",
      "\n",
      "For advanced features (e.g. parameterize) and to remove this message, we recommend registering. Run htmd_register in your terminal.\n"
     ]
    },
    {
     "name": "stderr",
     "output_type": "stream",
     "text": [
      "2018-05-03 22:43:39,544 - binstar - INFO - Using Anaconda API: https://api.anaconda.org\n"
     ]
    },
    {
     "name": "stdout",
     "output_type": "stream",
     "text": [
      "\n",
      "Please cite HTMD: Doerr et al.(2016)JCTC,12,1845. \n",
      "https://dx.doi.org/10.1021/acs.jctc.6b00049\n",
      "Documentation: http://software.acellera.com/\n",
      "To update: conda update htmd -c acellera -c psi4\n",
      "\n",
      "You are on the latest HTMD version (1.12.3).\n",
      "\n"
     ]
    }
   ],
   "source": [
    "from keras.models import Sequential\n",
    "from keras.layers import Dropout, Flatten, Dense\n",
    "from keras.layers.convolutional import Conv3D\n",
    "from keras.layers.pooling import MaxPooling3D, GlobalAveragePooling3D, AveragePooling3D\n",
    "from keras import metrics\n",
    "from keras import optimizers\n",
    "from keras import backend as K\n",
    "from keras.utils.training_utils import multi_gpu_model\n",
    "from keras.utils.data_utils import Sequence\n",
    "from keras.callbacks import ModelCheckpoint\n",
    "from keras.initializers import he_uniform\n",
    "import htmd.ui as ht\n",
    "import htmd.molecule.voxeldescriptors as vd\n",
    "import htmd.vmdviewer as vmdviewer\n",
    "import csv\n",
    "import pickle\n",
    "import numpy as np\n",
    "from tqdm import *\n",
    "import bcolz as bc\n",
    "import glob\n",
    "import os\n",
    "import random\n",
    "from sklearn.decomposition import PCA\n",
    "from sklearn.metrics import r2_score\n",
    "import matplotlib.pyplot as plt\n",
    "\n",
    "%matplotlib inline\n",
    "\n",
    "# import pytraj as pt\n",
    "import nglview as nv"
   ]
  },
  {
   "cell_type": "code",
   "execution_count": 2,
   "metadata": {},
   "outputs": [],
   "source": [
    "np.random.seed = 3353"
   ]
  },
  {
   "cell_type": "code",
   "execution_count": 3,
   "metadata": {},
   "outputs": [],
   "source": [
    "def reorient(molecule):\n",
    "    \"\"\"\n",
    "    Method for reorientation of the protein-ligand complex.\n",
    "    INPUT: Molecule object\n",
    "    OUTPUT: Molecule object with reoriented coordinates.\n",
    "        New axes are:\n",
    "            x-axis = Along the first principal component of the ligand coordinates\n",
    "            y-axis = Centroid vector of the protein which is orthogonalized to the x-axis.\n",
    "            z-axis = Orthogonal to both x and y axis.\n",
    "    \"\"\"\n",
    "    # Select protein and ligands\n",
    "    p_map = m.atomselect('protein')\n",
    "    l_map = m.atomselect('not protein')\n",
    "    p_points = molecule.coords[p_map].reshape(-1, 3)\n",
    "    l_points = molecule.coords[l_map].reshape(-1, 3)\n",
    "\n",
    "    #Find the centroid of the ligand structure and move the points around that.\n",
    "    l_centroid = np.mean(l_points, axis=0)\n",
    "    l_points = l_points - l_centroid\n",
    "    p_points = p_points - l_centroid\n",
    "    \n",
    "    # Perform PCA on ligand points\n",
    "    pca = PCA(n_components=3)\n",
    "    pca.fit(l_points)\n",
    "    \n",
    "    # x_axis is the first principal component\n",
    "    x_axis = pca.components_[:, 0]\n",
    "    \n",
    "    # Get the centroid of the protein points\n",
    "    p_centroid = np.mean(p_points, axis=0)\n",
    "    \n",
    "    # Projection of p_centroid vector on x_axis\n",
    "    proj_x = np.matmul(np.transpose(x_axis), p_centroid)/np.matmul(np.transpose(x_axis), x_axis)\n",
    "    \n",
    "    # Get y-axis\n",
    "    y_axis = p_centroid - proj_x * x_axis\n",
    "\n",
    "    #Normalize\n",
    "    y_axis = y_axis / np.linalg.norm(y_axis)\n",
    "    \n",
    "    # z_axis is perpendicular to both x_axis and y_axis. Not sure about the direction yet (+ or - ?)\n",
    "    z_axis = np.cross(x_axis, y_axis)\n",
    "    \n",
    "    # Transformation matrix (as column vector and normalized)\n",
    "    R = np.transpose(np.array([x_axis, y_axis, z_axis]))\n",
    "    \n",
    "    # Transform all protein and ligand points\n",
    "    p_points = np.transpose(np.matmul(R, np.transpose(p_points))).reshape(-1, 3, 1)\n",
    "    l_points = np.transpose(np.matmul(R, np.transpose(l_points))).reshape(-1, 3, 1)\n",
    "    \n",
    "    molecule.coords[p_map] = p_points\n",
    "    molecule.coords[l_map] = l_points\n",
    "    \n",
    "    return molecule"
   ]
  },
  {
   "cell_type": "code",
   "execution_count": 4,
   "metadata": {},
   "outputs": [],
   "source": [
    "def split_data(length, valid_size=0.1, test_size=0.1):\n",
    "    \"\"\"\n",
    "    INPUT: length of the data\n",
    "    OUTPUT: Indices of the data.\n",
    "    \"\"\"\n",
    "    # Generate indices\n",
    "    indices = [i for i in range(length)]\n",
    "    # Get required number of test and validation indices\n",
    "    test_count = int(length*test_size)\n",
    "    valid_count = int(length*valid_size)\n",
    "    # Choose random test indices\n",
    "    test_ids = list(np.random.choice(indices, test_count))\n",
    "    # Remove test ids from indices\n",
    "    indices = list(set(indices) - set(test_ids))\n",
    "    # Choose random validation indices\n",
    "    valid_ids = list(np.random.choice(indices, valid_count))\n",
    "    # Remove valid ids from indices\n",
    "    train_ids = list(set(indices) - set(valid_ids))\n",
    "    \n",
    "    return train_ids, valid_ids, test_ids"
   ]
  },
  {
   "cell_type": "code",
   "execution_count": 5,
   "metadata": {},
   "outputs": [],
   "source": [
    "# Read the data file and get all the pdb ids\n",
    "def read_score():\n",
    "    pdb_ids = []\n",
    "    score = {}\n",
    "    with open('pdbbind_refined_set.csv', 'r') as csvfile:\n",
    "        reader = csv.reader(csvfile)\n",
    "        next(reader, None) # Skip the header\n",
    "        for row in reader:\n",
    "            pdb_ids.append(row[1])\n",
    "            score[row[1]]= float(row[5])\n",
    "\n",
    "    return pdb_ids, score"
   ]
  },
  {
   "cell_type": "markdown",
   "metadata": {},
   "source": [
    "Feature extraction (Without coordinate transformation)"
   ]
  },
  {
   "cell_type": "code",
   "execution_count": 6,
   "metadata": {
    "scrolled": true
   },
   "outputs": [
    {
     "name": "stdout",
     "output_type": "stream",
     "text": [
      "Loading features...Done\n",
      "Feature dictionary length:  3971\n"
     ]
    }
   ],
   "source": [
    "features = {}\n",
    "reorient_error_ids = []\n",
    "fextract_error_ids = []\n",
    "filepath = \"features_dict_2.pickle\"\n",
    "if os.path.isfile(filepath):\n",
    "    print(\"Loading features...\", end='')\n",
    "    with open(filepath, 'rb') as f:\n",
    "        features = pickle.load(f)\n",
    "    print(\"Done\")\n",
    "else:\n",
    "    print(\"Extracting features\", end='')\n",
    "    # Get the pocket files\n",
    "    data_dir = \"../../pdbbind_data/\"\n",
    "    files = glob.glob(data_dir + \"*/*/*_pocket.pdb\", recursive=True)\n",
    "    \n",
    "    pbar = tqdm_notebook(total=len(files))\n",
    "    for i, file in enumerate(files):\n",
    "        # Get the molecule object using HTMD\n",
    "        m = ht.Molecule(file)\n",
    "        # Get the pdb id\n",
    "        _id = m.viewname[:4] \n",
    "        # Avoid Residue insertion error\n",
    "        m.renumberResidues() \n",
    "        \n",
    "        # Get the channels\n",
    "        channel_map = m.atomselect('protein') # Proteins are selected\n",
    "        channels = np.ones([m.numAtoms, 16], dtype=np.bool)\n",
    "        for i, c_map in enumerate(channel_map):\n",
    "            if c_map:\n",
    "                channels[i, 8:] = False\n",
    "            else:\n",
    "                channels[i, :8] = False\n",
    "        try:\n",
    "            f, centers, natoms = vd.getVoxelDescriptors(m, channels=channels)\n",
    "            f = f.reshape(natoms[0], natoms[1], natoms[2], -1)\n",
    "            features[_id] = f\n",
    "        except:\n",
    "            fextract_error_ids.append(_id)\n",
    "            pbar.update()\n",
    "            #print(\"ERROR: FEATURE EXTRACTION FOR \", _id)\n",
    "            continue\n",
    "        pbar.update()\n",
    "    \n",
    "    with open(filepath, \"wb\") as f:\n",
    "        pickle.dump(features, f, pickle.HIGHEST_PROTOCOL)\n",
    "    with open(\"fextract_error_ids.pickle\", \"wb\") as f:\n",
    "        pickle.dump(fextract_error_ids, f)\n",
    "    \n",
    "    print(\"Done\")\n",
    "\n",
    "print(\"Feature dictionary length: \", len(features))"
   ]
  },
  {
   "cell_type": "code",
   "execution_count": 9,
   "metadata": {},
   "outputs": [],
   "source": [
    "# Read from the pdb bind csv file\n",
    "pdb_ids, scores = read_score()"
   ]
  },
  {
   "cell_type": "code",
   "execution_count": 10,
   "metadata": {},
   "outputs": [
    {
     "data": {
      "text/plain": [
       "3735"
      ]
     },
     "execution_count": 10,
     "metadata": {},
     "output_type": "execute_result"
    }
   ],
   "source": [
    "valid_pdb_ids = [i for i in features.keys() if i in pdb_ids]\n",
    "len(valid_pdb_ids)"
   ]
  },
  {
   "cell_type": "markdown",
   "metadata": {},
   "source": [
    "Padding"
   ]
  },
  {
   "cell_type": "code",
   "execution_count": 11,
   "metadata": {},
   "outputs": [
    {
     "name": "stdout",
     "output_type": "stream",
     "text": [
      "Reshaping x_data and saving to the disk as ' bc_data_x_2 '\n"
     ]
    },
    {
     "data": {
      "application/vnd.jupyter.widget-view+json": {
       "model_id": "2a643cfd0dd8476c89dc96695968b5a2",
       "version_major": 2,
       "version_minor": 0
      },
      "text/plain": [
       "A Jupyter Widget"
      ]
     },
     "metadata": {},
     "output_type": "display_data"
    },
    {
     "name": "stdout",
     "output_type": "stream",
     "text": [
      "(3735, 50, 50, 50, 16) (3735,)\n"
     ]
    }
   ],
   "source": [
    "data_x_path = 'bc_data_x_2'\n",
    "data_y_filename = \"data_y_2.pickle\"\n",
    "\n",
    "# Load the pdb_ids if available\n",
    "if os.path.isfile(data_y_filename):\n",
    "    with open(data_y_filename, 'rb') as f:\n",
    "        print(\"Loading y data from the disk\")\n",
    "        data_y = pickle.load(f)\n",
    "\n",
    "# Load the reshaped features if available\n",
    "if os.path.isdir(data_x_path):\n",
    "    print(\"Loading x data from the disk\")\n",
    "    data_x = bc.open(data_x_path)\n",
    "    \n",
    "else:\n",
    "    print(\"Reshaping x_data and saving to the disk as '\", data_x_path, \"'\")\n",
    "    voxel_size = 50\n",
    "    n_channels = 16\n",
    "    xdata = np.zeros([len(valid_pdb_ids), voxel_size, voxel_size, voxel_size, n_channels], dtype=np.float32)\n",
    "    data_y = np.zeros(len(valid_pdb_ids), dtype=np.float32)\n",
    "    pbar = tqdm_notebook(total=len(valid_pdb_ids))\n",
    "    count = 0\n",
    "    for i, (k, f) in enumerate(features.items()):\n",
    "        if not k in scores.keys():\n",
    "            # We don't have a y-value for this pdb_id\n",
    "            continue\n",
    "        data_y[count] = scores[k]\n",
    "        dim_diff = (xdata.shape[1:] - np.array(f.shape)).astype(int)\n",
    "        pad_dim = np.round(dim_diff / 2).astype(int)\n",
    "        f = np.pad(f, [(pad_dim[0], dim_diff[0]-pad_dim[0]),\n",
    "                       (pad_dim[1], dim_diff[1]-pad_dim[1]),\n",
    "                       (pad_dim[2], dim_diff[2]-pad_dim[2]),\n",
    "                       (0, 0)],\n",
    "                   'constant')\n",
    "        xdata[count] = f\n",
    "        count = count + 1\n",
    "        pbar.update()\n",
    "    \n",
    "    # Create a bc array   \n",
    "    data_x = bc.carray(xdata, rootdir=data_x_path)\n",
    "    del xdata\n",
    "    # Write to the disk\n",
    "    data_x.flush()\n",
    "    # Write the pdb ids\n",
    "    with open(data_y_filename, 'wb') as f:\n",
    "        pickle.dump(data_y, f)\n",
    "        \n",
    "print(data_x.shape, data_y.shape)"
   ]
  },
  {
   "cell_type": "code",
   "execution_count": 12,
   "metadata": {},
   "outputs": [],
   "source": [
    "sample = data_x"
   ]
  },
  {
   "cell_type": "code",
   "execution_count": 13,
   "metadata": {},
   "outputs": [],
   "source": [
    "reshaped = sample.reshape((-1, 16))"
   ]
  },
  {
   "cell_type": "code",
   "execution_count": 15,
   "metadata": {},
   "outputs": [
    {
     "data": {
      "text/plain": [
       "array([1., 1., 1., 1., 1., 1., 1., 1., 1., 1., 1., 1., 1., 1., 1., 1.],\n",
       "      dtype=float32)"
      ]
     },
     "execution_count": 15,
     "metadata": {},
     "output_type": "execute_result"
    }
   ],
   "source": [
    "np.amax(reshaped, axis=0)"
   ]
  },
  {
   "cell_type": "code",
   "execution_count": 16,
   "metadata": {},
   "outputs": [
    {
     "data": {
      "text/plain": [
       "array([0., 0., 0., 0., 0., 0., 0., 0., 0., 0., 0., 0., 0., 0., 0., 0.],\n",
       "      dtype=float32)"
      ]
     },
     "execution_count": 16,
     "metadata": {},
     "output_type": "execute_result"
    }
   ],
   "source": [
    "np.amin(reshaped, axis=0)"
   ]
  },
  {
   "cell_type": "code",
   "execution_count": 14,
   "metadata": {},
   "outputs": [
    {
     "data": {
      "text/plain": [
       "array([0.03278843, 0.03278843, 0.03278843, 0.03278843, 0.03278843,\n",
       "       0.03278843, 0.03278843, 0.03278843, 0.00215675, 0.00215675,\n",
       "       0.00215675, 0.00215675, 0.00215675, 0.00215675, 0.00215675,\n",
       "       0.00215675], dtype=float32)"
      ]
     },
     "execution_count": 14,
     "metadata": {},
     "output_type": "execute_result"
    }
   ],
   "source": [
    "np.var(reshaped, axis=0)"
   ]
  },
  {
   "cell_type": "code",
   "execution_count": 44,
   "metadata": {},
   "outputs": [],
   "source": [
    "v = np.var(data_y)"
   ]
  },
  {
   "cell_type": "code",
   "execution_count": 46,
   "metadata": {},
   "outputs": [],
   "source": [
    "data_y = data_y / v"
   ]
  },
  {
   "cell_type": "code",
   "execution_count": 84,
   "metadata": {},
   "outputs": [],
   "source": [
    "nb_gpus = 8\n",
    "nb_batch = nb_gpus*8\n",
    "nb_epochs = 100\n",
    "l_rate = 0.00001"
   ]
  },
  {
   "cell_type": "code",
   "execution_count": 58,
   "metadata": {},
   "outputs": [],
   "source": [
    "train_ids, valid_ids, test_ids = split_data(length=data_x.shape[0])"
   ]
  },
  {
   "cell_type": "code",
   "execution_count": 59,
   "metadata": {},
   "outputs": [],
   "source": [
    "test_x, test_y = data_x[test_ids], data_y[test_ids]"
   ]
  },
  {
   "cell_type": "code",
   "execution_count": 81,
   "metadata": {},
   "outputs": [],
   "source": [
    "train_x, train_y = data_x[train_ids], data_y[train_ids]"
   ]
  },
  {
   "cell_type": "code",
   "execution_count": 83,
   "metadata": {},
   "outputs": [
    {
     "data": {
      "text/plain": [
       "((3031, 50, 50, 50, 16), (3031,))"
      ]
     },
     "execution_count": 83,
     "metadata": {},
     "output_type": "execute_result"
    }
   ],
   "source": [
    "train_x.shape, train_y.shape"
   ]
  },
  {
   "cell_type": "code",
   "execution_count": 85,
   "metadata": {},
   "outputs": [],
   "source": [
    "model = get_model()\n",
    "model = multi_gpu_model(model, gpus=nb_gpus)\n",
    "model.compile(optimizer=optimizers.rmsprop(lr=l_rate),\n",
    "              loss='mean_squared_error',\n",
    "              metrics=[metrics.mse])"
   ]
  },
  {
   "cell_type": "code",
   "execution_count": 86,
   "metadata": {
    "scrolled": false
   },
   "outputs": [
    {
     "name": "stdout",
     "output_type": "stream",
     "text": [
      "Epoch 1/100\n",
      "3031/3031 [==============================] - 35s 12ms/step - loss: 0.2627 - mean_squared_error: 0.2627\n",
      "Epoch 2/100\n",
      "3031/3031 [==============================] - 36s 12ms/step - loss: 0.1964 - mean_squared_error: 0.1964\n",
      "Epoch 3/100\n",
      "3031/3031 [==============================] - 35s 12ms/step - loss: 0.1881 - mean_squared_error: 0.1881\n",
      "Epoch 4/100\n",
      "3031/3031 [==============================] - 36s 12ms/step - loss: 0.1794 - mean_squared_error: 0.1794\n",
      "Epoch 5/100\n",
      "3031/3031 [==============================] - 38s 12ms/step - loss: 0.1720 - mean_squared_error: 0.1720\n",
      "Epoch 6/100\n",
      "3031/3031 [==============================] - 36s 12ms/step - loss: 0.1698 - mean_squared_error: 0.1698\n",
      "Epoch 7/100\n",
      "3031/3031 [==============================] - 37s 12ms/step - loss: 0.1627 - mean_squared_error: 0.1627\n",
      "Epoch 8/100\n",
      "3031/3031 [==============================] - 36s 12ms/step - loss: 0.1578 - mean_squared_error: 0.1578\n",
      "Epoch 9/100\n",
      "3031/3031 [==============================] - 36s 12ms/step - loss: 0.1550 - mean_squared_error: 0.1550\n",
      "Epoch 10/100\n",
      "3031/3031 [==============================] - 37s 12ms/step - loss: 0.1496 - mean_squared_error: 0.1496\n",
      "Epoch 11/100\n",
      "3031/3031 [==============================] - 36s 12ms/step - loss: 0.1432 - mean_squared_error: 0.1432\n",
      "Epoch 12/100\n",
      "3031/3031 [==============================] - 37s 12ms/step - loss: 0.1412 - mean_squared_error: 0.1412\n",
      "Epoch 13/100\n",
      "3031/3031 [==============================] - 37s 12ms/step - loss: 0.1404 - mean_squared_error: 0.1404\n",
      "Epoch 14/100\n",
      "3031/3031 [==============================] - 36s 12ms/step - loss: 0.1346 - mean_squared_error: 0.1346\n",
      "Epoch 15/100\n",
      "3031/3031 [==============================] - 36s 12ms/step - loss: 0.1340 - mean_squared_error: 0.1340\n",
      "Epoch 16/100\n",
      "3031/3031 [==============================] - 36s 12ms/step - loss: 0.1270 - mean_squared_error: 0.1270\n",
      "Epoch 17/100\n",
      "3031/3031 [==============================] - 36s 12ms/step - loss: 0.1243 - mean_squared_error: 0.1243\n",
      "Epoch 18/100\n",
      "3031/3031 [==============================] - 36s 12ms/step - loss: 0.1223 - mean_squared_error: 0.1223\n",
      "Epoch 19/100\n",
      "3031/3031 [==============================] - 35s 12ms/step - loss: 0.1211 - mean_squared_error: 0.1211\n",
      "Epoch 20/100\n",
      "3031/3031 [==============================] - 36s 12ms/step - loss: 0.1172 - mean_squared_error: 0.1172\n",
      "Epoch 21/100\n",
      "3031/3031 [==============================] - 36s 12ms/step - loss: 0.1168 - mean_squared_error: 0.1168\n",
      "Epoch 22/100\n",
      "3031/3031 [==============================] - 36s 12ms/step - loss: 0.1129 - mean_squared_error: 0.1129\n",
      "Epoch 23/100\n",
      "3031/3031 [==============================] - 36s 12ms/step - loss: 0.1087 - mean_squared_error: 0.1087\n",
      "Epoch 24/100\n",
      "3031/3031 [==============================] - 36s 12ms/step - loss: 0.1018 - mean_squared_error: 0.1018\n",
      "Epoch 28/100\n",
      "3031/3031 [==============================] - 36s 12ms/step - loss: 0.0965 - mean_squared_error: 0.0965\n",
      "Epoch 29/100\n",
      "3031/3031 [==============================] - 38s 12ms/step - loss: 0.0964 - mean_squared_error: 0.0964\n",
      "Epoch 30/100\n",
      "3031/3031 [==============================] - 37s 12ms/step - loss: 0.0936 - mean_squared_error: 0.0936\n",
      "Epoch 31/100\n",
      "3031/3031 [==============================] - 37s 12ms/step - loss: 0.0891 - mean_squared_error: 0.0891\n",
      "Epoch 32/100\n",
      "3031/3031 [==============================] - 37s 12ms/step - loss: 0.0917 - mean_squared_error: 0.0917\n",
      "Epoch 33/100\n",
      "3031/3031 [==============================] - 37s 12ms/step - loss: 0.0868 - mean_squared_error: 0.0868\n",
      "Epoch 34/100\n",
      "3031/3031 [==============================] - 36s 12ms/step - loss: 0.0855 - mean_squared_error: 0.0855\n",
      "Epoch 35/100\n",
      "3031/3031 [==============================] - 36s 12ms/step - loss: 0.0829 - mean_squared_error: 0.0829\n",
      "Epoch 36/100\n",
      "3031/3031 [==============================] - 36s 12ms/step - loss: 0.0801 - mean_squared_error: 0.0801\n",
      "Epoch 37/100\n",
      "3031/3031 [==============================] - 36s 12ms/step - loss: 0.0800 - mean_squared_error: 0.0800\n",
      "Epoch 38/100\n",
      "3031/3031 [==============================] - 36s 12ms/step - loss: 0.0805 - mean_squared_error: 0.0805\n",
      "Epoch 39/100\n",
      "3031/3031 [==============================] - 37s 12ms/step - loss: 0.0737 - mean_squared_error: 0.0737\n",
      "Epoch 40/100\n",
      "3031/3031 [==============================] - 36s 12ms/step - loss: 0.0745 - mean_squared_error: 0.0745\n",
      "Epoch 41/100\n",
      "3031/3031 [==============================] - 36s 12ms/step - loss: 0.0751 - mean_squared_error: 0.0751\n",
      "Epoch 42/100\n",
      "3031/3031 [==============================] - 36s 12ms/step - loss: 0.0704 - mean_squared_error: 0.0704\n",
      "Epoch 43/100\n",
      "3031/3031 [==============================] - 35s 12ms/step - loss: 0.0706 - mean_squared_error: 0.0706\n",
      "Epoch 44/100\n",
      "3031/3031 [==============================] - 35s 12ms/step - loss: 0.0674 - mean_squared_error: 0.0674\n",
      "Epoch 45/100\n",
      "3031/3031 [==============================] - 36s 12ms/step - loss: 0.0646 - mean_squared_error: 0.0646\n",
      "Epoch 46/100\n",
      "3031/3031 [==============================] - 36s 12ms/step - loss: 0.0653 - mean_squared_error: 0.0653\n",
      "Epoch 47/100\n",
      "3031/3031 [==============================] - 37s 12ms/step - loss: 0.0630 - mean_squared_error: 0.0630\n",
      "Epoch 48/100\n",
      "3031/3031 [==============================] - 37s 12ms/step - loss: 0.0599 - mean_squared_error: 0.0599\n",
      "Epoch 49/100\n",
      "3031/3031 [==============================] - 36s 12ms/step - loss: 0.0606 - mean_squared_error: 0.0606\n",
      "Epoch 50/100\n",
      "3031/3031 [==============================] - 36s 12ms/step - loss: 0.0604 - mean_squared_error: 0.0604\n",
      "Epoch 51/100\n",
      "3031/3031 [==============================] - 36s 12ms/step - loss: 0.0592 - mean_squared_error: 0.0592\n",
      "Epoch 52/100\n",
      "3031/3031 [==============================] - 36s 12ms/step - loss: 0.0552 - mean_squared_error: 0.0552\n",
      "Epoch 53/100\n",
      "3031/3031 [==============================] - 36s 12ms/step - loss: 0.0556 - mean_squared_error: 0.0556\n",
      "Epoch 54/100\n",
      "3031/3031 [==============================] - 36s 12ms/step - loss: 0.0529 - mean_squared_error: 0.0529\n",
      "Epoch 55/100\n",
      "3031/3031 [==============================] - 37s 12ms/step - loss: 0.0509 - mean_squared_error: 0.0509\n",
      "Epoch 56/100\n",
      "3031/3031 [==============================] - 37s 12ms/step - loss: 0.0503 - mean_squared_error: 0.0503\n",
      "Epoch 57/100\n",
      "3031/3031 [==============================] - 36s 12ms/step - loss: 0.0497 - mean_squared_error: 0.0497\n",
      "Epoch 58/100\n",
      "3031/3031 [==============================] - 36s 12ms/step - loss: 0.0495 - mean_squared_error: 0.0495\n",
      "Epoch 59/100\n",
      "3031/3031 [==============================] - 36s 12ms/step - loss: 0.0451 - mean_squared_error: 0.0451\n",
      "Epoch 60/100\n",
      "3031/3031 [==============================] - 35s 12ms/step - loss: 0.0475 - mean_squared_error: 0.0475\n",
      "Epoch 61/100\n",
      "3031/3031 [==============================] - 36s 12ms/step - loss: 0.0453 - mean_squared_error: 0.0453\n",
      "Epoch 62/100\n",
      "3031/3031 [==============================] - 35s 12ms/step - loss: 0.0407 - mean_squared_error: 0.0407\n",
      "Epoch 63/100\n",
      "3031/3031 [==============================] - 36s 12ms/step - loss: 0.0433 - mean_squared_error: 0.0433\n",
      "Epoch 64/100\n",
      "3031/3031 [==============================] - 36s 12ms/step - loss: 0.0417 - mean_squared_error: 0.0417\n",
      "Epoch 65/100\n",
      "3031/3031 [==============================] - 36s 12ms/step - loss: 0.0399 - mean_squared_error: 0.0399\n",
      "Epoch 66/100\n",
      "3031/3031 [==============================] - 36s 12ms/step - loss: 0.0396 - mean_squared_error: 0.0396\n",
      "Epoch 67/100\n",
      "3031/3031 [==============================] - 37s 12ms/step - loss: 0.0397 - mean_squared_error: 0.0397\n",
      "Epoch 68/100\n",
      "3031/3031 [==============================] - 36s 12ms/step - loss: 0.0372 - mean_squared_error: 0.0372\n",
      "Epoch 69/100\n",
      "3031/3031 [==============================] - 36s 12ms/step - loss: 0.0372 - mean_squared_error: 0.0372\n",
      "Epoch 70/100\n",
      "3031/3031 [==============================] - 36s 12ms/step - loss: 0.0382 - mean_squared_error: 0.0382\n",
      "Epoch 71/100\n",
      "3031/3031 [==============================] - 37s 12ms/step - loss: 0.0334 - mean_squared_error: 0.0334\n",
      "Epoch 72/100\n",
      "3031/3031 [==============================] - 36s 12ms/step - loss: 0.0340 - mean_squared_error: 0.0340\n",
      "Epoch 73/100\n",
      "3031/3031 [==============================] - 36s 12ms/step - loss: 0.0333 - mean_squared_error: 0.0333\n",
      "Epoch 74/100\n",
      "3031/3031 [==============================] - 38s 12ms/step - loss: 0.0310 - mean_squared_error: 0.0310\n",
      "Epoch 75/100\n",
      "3031/3031 [==============================] - 37s 12ms/step - loss: 0.0326 - mean_squared_error: 0.0326\n",
      "Epoch 76/100\n",
      "3031/3031 [==============================] - 36s 12ms/step - loss: 0.0324 - mean_squared_error: 0.0324\n",
      "Epoch 77/100\n",
      "3031/3031 [==============================] - 36s 12ms/step - loss: 0.0310 - mean_squared_error: 0.0310\n",
      "Epoch 78/100\n",
      "3031/3031 [==============================] - 36s 12ms/step - loss: 0.0306 - mean_squared_error: 0.0306\n",
      "Epoch 79/100\n",
      "3031/3031 [==============================] - 36s 12ms/step - loss: 0.0284 - mean_squared_error: 0.0284\n",
      "Epoch 80/100\n",
      "3031/3031 [==============================] - 36s 12ms/step - loss: 0.0305 - mean_squared_error: 0.0305\n",
      "Epoch 81/100\n",
      "3031/3031 [==============================] - 37s 12ms/step - loss: 0.0277 - mean_squared_error: 0.0277\n",
      "Epoch 82/100\n",
      "3031/3031 [==============================] - 37s 12ms/step - loss: 0.0253 - mean_squared_error: 0.0253\n",
      "Epoch 83/100\n",
      "3031/3031 [==============================] - 36s 12ms/step - loss: 0.0280 - mean_squared_error: 0.0280\n",
      "Epoch 84/100\n",
      "3031/3031 [==============================] - 36s 12ms/step - loss: 0.0266 - mean_squared_error: 0.0266\n",
      "Epoch 85/100\n",
      "3031/3031 [==============================] - 36s 12ms/step - loss: 0.0250 - mean_squared_error: 0.0250\n",
      "Epoch 86/100\n",
      "3031/3031 [==============================] - 36s 12ms/step - loss: 0.0248 - mean_squared_error: 0.0248\n",
      "Epoch 87/100\n",
      "3031/3031 [==============================] - 37s 12ms/step - loss: 0.0267 - mean_squared_error: 0.0267\n",
      "Epoch 88/100\n",
      "2304/3031 [=====================>........] - ETA: 8s - loss: 0.0233 - mean_squared_error: 0.0233"
     ]
    },
    {
     "name": "stderr",
     "output_type": "stream",
     "text": [
      "IOPub message rate exceeded.\n",
      "The notebook server will temporarily stop sending output\n",
      "to the client in order to avoid crashing it.\n",
      "To change this limit, set the config variable\n",
      "`--NotebookApp.iopub_msg_rate_limit`.\n",
      "\n",
      "Current values:\n",
      "NotebookApp.iopub_msg_rate_limit=1000.0 (msgs/sec)\n",
      "NotebookApp.rate_limit_window=3.0 (secs)\n",
      "\n"
     ]
    }
   ],
   "source": [
    "history_sm = model.fit(x=train_x, y=train_y, epochs=100, batch_size=nb_batch, verbose=1)"
   ]
  },
  {
   "cell_type": "code",
   "execution_count": 95,
   "metadata": {},
   "outputs": [
    {
     "name": "stdout",
     "output_type": "stream",
     "text": [
      "CPU times: user 3.5 s, sys: 1.46 s, total: 4.96 s\n",
      "Wall time: 2.38 s\n"
     ]
    },
    {
     "data": {
      "text/plain": [
       "((256, 50, 50, 50, 16), (256,))"
      ]
     },
     "execution_count": 95,
     "metadata": {},
     "output_type": "execute_result"
    }
   ],
   "source": [
    "# Let's warm up the generator\n",
    "%time bx, by = next(generator(32*8), 'train')\n",
    "bx.shape, by.shape"
   ]
  },
  {
   "cell_type": "code",
   "execution_count": 96,
   "metadata": {},
   "outputs": [
    {
     "name": "stdout",
     "output_type": "stream",
     "text": [
      "Training r2: 0.9537651128595734\n"
     ]
    }
   ],
   "source": [
    "train_pred = model.predict(bx)\n",
    "train_r2 = r2_score(y_pred=train_pred, y_true=by)\n",
    "print(\"Training r2: {:4}\".format(train_r2))"
   ]
  },
  {
   "cell_type": "code",
   "execution_count": 88,
   "metadata": {},
   "outputs": [
    {
     "data": {
      "image/png": "[encoded data removed]",
      "text/plain": [
       "<Figure size 432x288 with 1 Axes>"
      ]
     },
     "metadata": {},
     "output_type": "display_data"
    }
   ],
   "source": [
    "plt.plot(history_sm.history['mean_squared_error'])\n",
    "plt.xlabel(\"Epochs\")\n",
    "plt.ylabel(\"Loss(MSE)\")\n",
    "# plt.legend([\"Validation\", \"Training\"])\n",
    "plt.show()"
   ]
  },
  {
   "cell_type": "code",
   "execution_count": 89,
   "metadata": {},
   "outputs": [
    {
     "data": {
      "text/plain": [
       "0.2982142115547154"
      ]
     },
     "execution_count": 89,
     "metadata": {},
     "output_type": "execute_result"
    }
   ],
   "source": [
    "pred = model.predict(test_x)\n",
    "r2 = r2_score(y_pred=pred, y_true=test_y)\n",
    "r2"
   ]
  },
  {
   "cell_type": "markdown",
   "metadata": {},
   "source": [
    "### With coordinate transformation"
   ]
  },
  {
   "cell_type": "code",
   "execution_count": 6,
   "metadata": {
    "scrolled": true
   },
   "outputs": [
    {
     "name": "stdout",
     "output_type": "stream",
     "text": [
      "Loading features...Done\n",
      "Feature dictionary length:  3867\n"
     ]
    }
   ],
   "source": [
    "features = {}\n",
    "reorient_error_ids = []\n",
    "fextract_error_ids = []\n",
    "filepath = \"features_dict.pickle\"\n",
    "if os.path.isfile(filepath):\n",
    "    print(\"Loading features...\", end='')\n",
    "    with open(filepath, 'rb') as f:\n",
    "        features = pickle.load(f)\n",
    "    print(\"Done\")\n",
    "else:\n",
    "    print(\"Extracting features\", end='')\n",
    "    # Get the pocket files\n",
    "    data_dir = \"../../pdbbind_data/\"\n",
    "    files = glob.glob(data_dir + \"*/*/*_pocket.pdb\", recursive=True)\n",
    "    \n",
    "    pbar = tqdm_notebook(total=len(files))\n",
    "    for i, file in enumerate(files):\n",
    "        # Get the molecule object using HTMD\n",
    "        m = ht.Molecule(file)\n",
    "        # Get the pdb id\n",
    "        _id = m.viewname[:4] \n",
    "        # Avoid Residue insertion error\n",
    "        m.renumberResidues() \n",
    "        # Re-orient the molecule object\n",
    "        try:\n",
    "            mol = reorient(m)\n",
    "        except:\n",
    "            reorient_error_ids.append(_id)\n",
    "            pbar.update()\n",
    "            continue\n",
    "            #print(\"ERROR: REORIENTATION FOR \", _id)\n",
    "        \n",
    "        # Get the channels\n",
    "        channel_map = mol.atomselect('protein') # Proteins are selected\n",
    "        channels = np.ones([mol.numAtoms, 16], dtype=np.bool)\n",
    "        for i, c_map in enumerate(channel_map):\n",
    "            if c_map:\n",
    "                channels[i, 8:] = False\n",
    "            else:\n",
    "                channels[i, :8] = False\n",
    "        try:\n",
    "            f, centers, natoms = vd.getVoxelDescriptors(mol, channels=channels)\n",
    "            f = f.reshape(natoms[0], natoms[1], natoms[2], -1)\n",
    "            features[_id] = f\n",
    "        except:\n",
    "            fextract_error_ids.append(_id)\n",
    "            pbar.update()\n",
    "            #print(\"ERROR: FEATURE EXTRACTION FOR \", _id)\n",
    "            continue\n",
    "        pbar.update()\n",
    "    \n",
    "    with open(filepath, \"wb\") as f:\n",
    "        pickle.dump(features, f, pickle.HIGHEST_PROTOCOL)\n",
    "    with open(\"reorient_error_ids.pickle\", \"wb\") as f:\n",
    "        pickle.dump(reorient_error_ids, f)\n",
    "    with open(\"fextract_error_ids.pickle\", \"wb\") as f:\n",
    "        pickle.dump(fextract_error_ids, f)\n",
    "    \n",
    "    print(\"Done\")\n",
    "\n",
    "print(\"Feature dictionary length: \", len(features))"
   ]
  },
  {
   "cell_type": "code",
   "execution_count": 260,
   "metadata": {},
   "outputs": [],
   "source": [
    "reshaped = data_x.reshape((-1, 16))"
   ]
  },
  {
   "cell_type": "code",
   "execution_count": 151,
   "metadata": {},
   "outputs": [
    {
     "data": {
      "text/plain": [
       "array([1., 1., 1., 1., 1., 1., 1., 1., 1., 1., 1., 1., 1., 1., 1., 1.],\n",
       "      dtype=float32)"
      ]
     },
     "execution_count": 151,
     "metadata": {},
     "output_type": "execute_result"
    }
   ],
   "source": [
    "np.amax(reshaped, axis=0)"
   ]
  },
  {
   "cell_type": "markdown",
   "metadata": {},
   "source": [
    "The maximum values for each of the properties are 1"
   ]
  },
  {
   "cell_type": "code",
   "execution_count": 152,
   "metadata": {},
   "outputs": [
    {
     "data": {
      "text/plain": [
       "array([0., 0., 0., 0., 0., 0., 0., 0., 0., 0., 0., 0., 0., 0., 0., 0.],\n",
       "      dtype=float32)"
      ]
     },
     "execution_count": 152,
     "metadata": {},
     "output_type": "execute_result"
    }
   ],
   "source": [
    "np.amin(reshaped, axis=0)"
   ]
  },
  {
   "cell_type": "markdown",
   "metadata": {},
   "source": [
    "The minimum values for each of the properties are 0"
   ]
  },
  {
   "cell_type": "code",
   "execution_count": 153,
   "metadata": {},
   "outputs": [
    {
     "data": {
      "text/plain": [
       "array([0.03352465, 0.03352465, 0.03352465, 0.03352465, 0.03352465,\n",
       "       0.03352465, 0.03352465, 0.03352465, 0.00220443, 0.00220443,\n",
       "       0.00220443, 0.00220443, 0.00220443, 0.00220443, 0.00220443,\n",
       "       0.00220443], dtype=float32)"
      ]
     },
     "execution_count": 153,
     "metadata": {},
     "output_type": "execute_result"
    }
   ],
   "source": [
    "np.var(reshaped, axis=0)"
   ]
  },
  {
   "cell_type": "code",
   "execution_count": 185,
   "metadata": {},
   "outputs": [
    {
     "data": {
      "text/plain": [
       "[True,\n",
       " True,\n",
       " True,\n",
       " True,\n",
       " True,\n",
       " True,\n",
       " True,\n",
       " True,\n",
       " True,\n",
       " True,\n",
       " True,\n",
       " True,\n",
       " True,\n",
       " True,\n",
       " True,\n",
       " True]"
      ]
     },
     "execution_count": 185,
     "metadata": {},
     "output_type": "execute_result"
    }
   ],
   "source": [
    "[i and j for i, j in zip(np.any(reshaped>0, axis=0), np.any(reshaped<1, axis=0))]"
   ]
  },
  {
   "cell_type": "markdown",
   "metadata": {},
   "source": [
    "So there are values between 0 and 1."
   ]
  },
  {
   "cell_type": "markdown",
   "metadata": {},
   "source": [
    "Split"
   ]
  },
  {
   "cell_type": "code",
   "execution_count": 176,
   "metadata": {},
   "outputs": [],
   "source": [
    "train_ids, valid_ids, test_ids = split_data(length=data_x.shape[0])"
   ]
  },
  {
   "cell_type": "code",
   "execution_count": 177,
   "metadata": {},
   "outputs": [
    {
     "data": {
      "text/plain": [
       "(2952, 363, 363)"
      ]
     },
     "execution_count": 177,
     "metadata": {},
     "output_type": "execute_result"
    }
   ],
   "source": [
    "len(train_ids), len(valid_ids), len(test_ids)"
   ]
  },
  {
   "cell_type": "code",
   "execution_count": 173,
   "metadata": {},
   "outputs": [],
   "source": [
    "v = np.var(data_y)"
   ]
  },
  {
   "cell_type": "code",
   "execution_count": 174,
   "metadata": {},
   "outputs": [],
   "source": [
    "data_y = data_y/v"
   ]
  },
  {
   "cell_type": "markdown",
   "metadata": {},
   "source": [
    "Padding"
   ]
  },
  {
   "cell_type": "code",
   "execution_count": 13,
   "metadata": {},
   "outputs": [
    {
     "name": "stdout",
     "output_type": "stream",
     "text": [
      "Reshaping x_data and saving to the disk as ' bc_data_x '\n"
     ]
    },
    {
     "data": {
      "application/vnd.jupyter.widget-view+json": {
       "model_id": "fa88e31df3344f85ab0b8e20e6bb677d",
       "version_major": 2,
       "version_minor": 0
      },
      "text/plain": [
       "A Jupyter Widget"
      ]
     },
     "metadata": {},
     "output_type": "display_data"
    },
    {
     "name": "stdout",
     "output_type": "stream",
     "text": [
      "(3635, 50, 50, 50, 16) (3635,)\n"
     ]
    }
   ],
   "source": [
    "data_x_path = 'bc_data_x'\n",
    "data_y_filename = \"data_y.pickle\"\n",
    "\n",
    "# Load the pdb_ids if available\n",
    "if os.path.isfile(data_y_filename):\n",
    "    with open(data_y_filename, 'rb') as f:\n",
    "        print(\"Loading y data from the disk\")\n",
    "        data_y = pickle.load(f)\n",
    "\n",
    "# Load the reshaped features if available\n",
    "if os.path.isdir(data_x_path):\n",
    "    print(\"Loading x data from the disk\")\n",
    "    data_x = bc.open(data_x_path)\n",
    "    \n",
    "else:\n",
    "    print(\"Reshaping x_data and saving to the disk as '\", data_x_path, \"'\")\n",
    "    voxel_size = 50\n",
    "    n_channels = 16\n",
    "    xdata = np.zeros([len(valid_pdb_ids), voxel_size, voxel_size, voxel_size, n_channels], dtype=np.float32)\n",
    "    data_y = np.zeros(len(valid_pdb_ids), dtype=np.float32)\n",
    "    pbar = tqdm_notebook(total=len(valid_pdb_ids))\n",
    "    count = 0\n",
    "    for i, (k, f) in enumerate(features.items()):\n",
    "        if not k in scores.keys():\n",
    "            # We don't have a y-value for this pdb_id\n",
    "            continue\n",
    "        data_y[count] = scores[k]\n",
    "        dim_diff = (xdata.shape[1:] - np.array(f.shape)).astype(int)\n",
    "        pad_dim = np.round(dim_diff / 2).astype(int)\n",
    "        f = np.pad(f, [(pad_dim[0], dim_diff[0]-pad_dim[0]),\n",
    "                       (pad_dim[1], dim_diff[1]-pad_dim[1]),\n",
    "                       (pad_dim[2], dim_diff[2]-pad_dim[2]),\n",
    "                       (0, 0)],\n",
    "                   'constant')\n",
    "        xdata[count] = f\n",
    "        count = count + 1\n",
    "        pbar.update()\n",
    "    \n",
    "    # Create a bc array   \n",
    "    data_x = bc.carray(xdata, rootdir=data_x_path)\n",
    "    del xdata\n",
    "    # Write to the disk\n",
    "    data_x.flush()\n",
    "    # Write the pdb ids\n",
    "    with open(data_y_filename, 'wb') as f:\n",
    "        pickle.dump(data_y, f)\n",
    "        \n",
    "print(data_x.shape, data_y.shape)"
   ]
  },
  {
   "cell_type": "code",
   "execution_count": 17,
   "metadata": {},
   "outputs": [],
   "source": [
    "def generator(batch_size, mode='train'):\n",
    "    global data_x\n",
    "    global data_y\n",
    "    global train_ids\n",
    "    global valid_ids\n",
    "    \n",
    "    while True:\n",
    "        if mode == 'train':\n",
    "            rand_ids = np.random.choice(train_ids, batch_size)\n",
    "            sample_x, sample_y = data_x[rand_ids], data_y[rand_ids]\n",
    "        else:\n",
    "            rand_ids = np.random.choice(valid_ids, batch_size)\n",
    "            sample_x, sample_y = data_x[rand_ids], data_y[rand_ids]\n",
    "        \n",
    "        yield sample_x, sample_y"
   ]
  },
  {
   "cell_type": "markdown",
   "metadata": {},
   "source": [
    "### Train"
   ]
  },
  {
   "cell_type": "code",
   "execution_count": 18,
   "metadata": {},
   "outputs": [],
   "source": [
    "def get_model(summary=False):\n",
    "    \"\"\" Return the Keras model of the network\n",
    "    \"\"\"\n",
    "    model = Sequential()\n",
    "    \n",
    "    # 1st layer group\n",
    "    model.add(Conv3D(filters=32,\n",
    "                     kernel_size=(5, 5, 5),\n",
    "                     strides = (1, 1, 1),\n",
    "                     input_shape=(50, 50, 50, 16),\n",
    "                     padding='valid',\n",
    "                     activation='relu',\n",
    "                     kernel_initializer=he_uniform(seed=9876),\n",
    "                     bias_initializer='zeros'))\n",
    "    \n",
    "    model.add(MaxPooling3D(pool_size=(2, 2, 2),\n",
    "                           padding='valid'))\n",
    "    \n",
    "    # 2nd layer group\n",
    "    model.add(Conv3D(filters=64,\n",
    "                     kernel_size=(3, 3, 3),\n",
    "                     strides = (1, 1, 1),\n",
    "                     activation='relu',\n",
    "                     padding='valid'))\n",
    "    \n",
    "    model.add(MaxPooling3D(pool_size=(2, 2, 2),\n",
    "                           padding='valid'))\n",
    "    \n",
    "    # 3rd layer group\n",
    "    model.add(Conv3D(filters=128,\n",
    "                     kernel_size=(3, 3, 3),\n",
    "                     strides = (1, 1, 1),\n",
    "                     activation='relu',\n",
    "                     padding='valid'))\n",
    "    \n",
    "    model.add(MaxPooling3D(pool_size=(2, 2, 2),\n",
    "                           padding='valid'))\n",
    "    \n",
    "    # 4th layer group\n",
    "#     model.add(Conv3D(filters=128,\n",
    "#                      kernel_size=(3, 3, 3),\n",
    "#                      activation='relu',\n",
    "#                      padding='valid'))\n",
    "    \n",
    "#     model.add(MaxPooling3D(pool_size=(2, 2, 2),\n",
    "#                            #strides=(1, 1, 1),\n",
    "#                            padding='valid'))\n",
    "    \n",
    "    #model.add(AveragePooling3D(pool_size=(2, 2, 2), \n",
    "    #                           padding='valid'))\n",
    "                           \n",
    "    model.add(Flatten())\n",
    "#     model.add(Dense(512, activation='relu'))\n",
    "#     model.add(Dropout(.5))\n",
    "    model.add(Dense(256, activation='relu'))\n",
    "#     model.add(Dropout(.5))\n",
    "    model.add(Dense(1, activation='linear'))\n",
    "    if summary:\n",
    "        print(model.summary())\n",
    "    return model"
   ]
  },
  {
   "cell_type": "code",
   "execution_count": 19,
   "metadata": {},
   "outputs": [
    {
     "name": "stdout",
     "output_type": "stream",
     "text": [
      "_________________________________________________________________\n",
      "Layer (type)                 Output Shape              Param #   \n",
      "=================================================================\n",
      "conv3d_1 (Conv3D)            (None, 46, 46, 46, 32)    64032     \n",
      "_________________________________________________________________\n",
      "max_pooling3d_1 (MaxPooling3 (None, 23, 23, 23, 32)    0         \n",
      "_________________________________________________________________\n",
      "conv3d_2 (Conv3D)            (None, 21, 21, 21, 64)    55360     \n",
      "_________________________________________________________________\n",
      "max_pooling3d_2 (MaxPooling3 (None, 10, 10, 10, 64)    0         \n",
      "_________________________________________________________________\n",
      "conv3d_3 (Conv3D)            (None, 8, 8, 8, 128)      221312    \n",
      "_________________________________________________________________\n",
      "max_pooling3d_3 (MaxPooling3 (None, 4, 4, 4, 128)      0         \n",
      "_________________________________________________________________\n",
      "flatten_1 (Flatten)          (None, 8192)              0         \n",
      "_________________________________________________________________\n",
      "dense_1 (Dense)              (None, 256)               2097408   \n",
      "_________________________________________________________________\n",
      "dense_2 (Dense)              (None, 1)                 257       \n",
      "=================================================================\n",
      "Total params: 2,438,369\n",
      "Trainable params: 2,438,369\n",
      "Non-trainable params: 0\n",
      "_________________________________________________________________\n",
      "None\n"
     ]
    },
    {
     "data": {
      "text/plain": [
       "<keras.models.Sequential at 0x7f4b0211f4e0>"
      ]
     },
     "execution_count": 19,
     "metadata": {},
     "output_type": "execute_result"
    }
   ],
   "source": [
    "get_model(summary=True)"
   ]
  },
  {
   "cell_type": "code",
   "execution_count": 112,
   "metadata": {},
   "outputs": [],
   "source": [
    "# valid_y = valid_y / v"
   ]
  },
  {
   "cell_type": "code",
   "execution_count": 181,
   "metadata": {},
   "outputs": [
    {
     "name": "stdout",
     "output_type": "stream",
     "text": [
      "['loss', 'mean_squared_error']\n"
     ]
    }
   ],
   "source": [
    "# checkpoint\n",
    "print(model.metrics_names)\n",
    "filepath=\"weights-improvement-{epoch:02d}-{mean_squared_error:.2f}.hdf5\"\n",
    "# For multi_gpu_model, save_weights_only should be set to True. Otherwise, saving of the multi_gpu_model will cause an error\n",
    "checkpoint = ModelCheckpoint(filepath, \n",
    "                             monitor='mean_squared_error',\n",
    "                             verbose=1,\n",
    "                             save_best_only=True,\n",
    "                             save_weights_only=True,\n",
    "                             mode='min')\n",
    "callbacks_list = [checkpoint]"
   ]
  },
  {
   "cell_type": "code",
   "execution_count": 131,
   "metadata": {},
   "outputs": [],
   "source": [
    "nb_gpus = 8"
   ]
  },
  {
   "cell_type": "code",
   "execution_count": 182,
   "metadata": {},
   "outputs": [],
   "source": [
    "nb_batch = nb_gpus*8\n",
    "nb_epochs = 100\n",
    "l_rate = 0.00001"
   ]
  },
  {
   "cell_type": "code",
   "execution_count": 183,
   "metadata": {},
   "outputs": [],
   "source": [
    "model = get_model()\n",
    "model = multi_gpu_model(model, gpus=nb_gpus)\n",
    "model.compile(optimizer=optimizers.rmsprop(lr=l_rate),\n",
    "              loss='mean_squared_error',\n",
    "              metrics=[metrics.mse])"
   ]
  },
  {
   "cell_type": "code",
   "execution_count": 168,
   "metadata": {
    "scrolled": false
   },
   "outputs": [
    {
     "name": "stdout",
     "output_type": "stream",
     "text": [
      "Epoch 1/100\n",
      "3635/3635 [==============================] - 47s 13ms/step - loss: 5.1138 - mean_squared_error: 5.1138\n",
      "Epoch 2/100\n",
      "3635/3635 [==============================] - 44s 12ms/step - loss: 3.0986 - mean_squared_error: 3.0986\n",
      "Epoch 3/100\n",
      "3635/3635 [==============================] - 45s 12ms/step - loss: 3.0470 - mean_squared_error: 3.0470\n",
      "Epoch 4/100\n",
      "3635/3635 [==============================] - 44s 12ms/step - loss: 2.9875 - mean_squared_error: 2.9875\n",
      "Epoch 5/100\n",
      "3635/3635 [==============================] - 44s 12ms/step - loss: 2.9303 - mean_squared_error: 2.9303\n",
      "Epoch 6/100\n",
      "3635/3635 [==============================] - 45s 12ms/step - loss: 2.9026 - mean_squared_error: 2.9026\n",
      "Epoch 7/100\n",
      "3635/3635 [==============================] - 44s 12ms/step - loss: 2.8529 - mean_squared_error: 2.8529\n",
      "Epoch 8/100\n",
      "3635/3635 [==============================] - 44s 12ms/step - loss: 2.7997 - mean_squared_error: 2.7997\n",
      "Epoch 9/100\n",
      "3635/3635 [==============================] - 45s 12ms/step - loss: 2.7717 - mean_squared_error: 2.7717\n",
      "Epoch 10/100\n",
      "3635/3635 [==============================] - 44s 12ms/step - loss: 2.7204 - mean_squared_error: 2.7204\n",
      "Epoch 11/100\n",
      "3635/3635 [==============================] - 44s 12ms/step - loss: 2.6821 - mean_squared_error: 2.6821\n",
      "Epoch 12/100\n",
      "3635/3635 [==============================] - 45s 12ms/step - loss: 2.6347 - mean_squared_error: 2.6347\n",
      "Epoch 13/100\n",
      "3635/3635 [==============================] - 45s 12ms/step - loss: 2.6021 - mean_squared_error: 2.6021\n",
      "Epoch 14/100\n",
      "3635/3635 [==============================] - 46s 13ms/step - loss: 2.5551 - mean_squared_error: 2.5551\n",
      "Epoch 15/100\n",
      "3635/3635 [==============================] - 43s 12ms/step - loss: 2.5330 - mean_squared_error: 2.5330\n",
      "Epoch 16/100\n",
      "3635/3635 [==============================] - 46s 13ms/step - loss: 2.5142 - mean_squared_error: 2.5142\n",
      "Epoch 17/100\n",
      "3635/3635 [==============================] - 45s 12ms/step - loss: 2.4519 - mean_squared_error: 2.4519\n",
      "Epoch 18/100\n",
      "3635/3635 [==============================] - 45s 12ms/step - loss: 2.4186 - mean_squared_error: 2.4186\n",
      "Epoch 19/100\n",
      "3635/3635 [==============================] - 45s 12ms/step - loss: 2.3833 - mean_squared_error: 2.3833\n",
      "Epoch 20/100\n",
      "3635/3635 [==============================] - 45s 12ms/step - loss: 2.3594 - mean_squared_error: 2.3594\n",
      "Epoch 21/100\n",
      "3635/3635 [==============================] - 44s 12ms/step - loss: 2.3009 - mean_squared_error: 2.3009\n",
      "Epoch 22/100\n",
      "3635/3635 [==============================] - 45s 12ms/step - loss: 2.2975 - mean_squared_error: 2.2975\n",
      "Epoch 23/100\n",
      "3635/3635 [==============================] - 45s 12ms/step - loss: 2.2891 - mean_squared_error: 2.2891\n",
      "Epoch 24/100\n",
      "3635/3635 [==============================] - 46s 13ms/step - loss: 2.2378 - mean_squared_error: 2.2378\n",
      "Epoch 25/100\n",
      "3635/3635 [==============================] - 46s 13ms/step - loss: 2.2142 - mean_squared_error: 2.2142\n",
      "Epoch 26/100\n",
      "3635/3635 [==============================] - 43s 12ms/step - loss: 2.1639 - mean_squared_error: 2.1639\n",
      "Epoch 27/100\n",
      "3635/3635 [==============================] - 45s 12ms/step - loss: 2.1160 - mean_squared_error: 2.1160\n",
      "Epoch 28/100\n",
      "3635/3635 [==============================] - 45s 12ms/step - loss: 2.1180 - mean_squared_error: 2.1180\n",
      "Epoch 29/100\n",
      "3635/3635 [==============================] - 45s 12ms/step - loss: 2.0594 - mean_squared_error: 2.0594\n",
      "Epoch 30/100\n",
      "3635/3635 [==============================] - 45s 12ms/step - loss: 2.0303 - mean_squared_error: 2.0303\n",
      "Epoch 31/100\n",
      "3635/3635 [==============================] - 44s 12ms/step - loss: 1.9901 - mean_squared_error: 1.9901\n",
      "Epoch 32/100\n",
      "3635/3635 [==============================] - 45s 12ms/step - loss: 1.9789 - mean_squared_error: 1.9789\n",
      "Epoch 33/100\n",
      "3635/3635 [==============================] - 46s 13ms/step - loss: 1.9409 - mean_squared_error: 1.9409\n",
      "Epoch 34/100\n",
      "3635/3635 [==============================] - 45s 12ms/step - loss: 1.8934 - mean_squared_error: 1.8934\n",
      "Epoch 35/100\n",
      "3635/3635 [==============================] - 46s 13ms/step - loss: 1.8681 - mean_squared_error: 1.8681\n",
      "Epoch 36/100\n",
      "3635/3635 [==============================] - 44s 12ms/step - loss: 1.8486 - mean_squared_error: 1.8486\n",
      "Epoch 37/100\n",
      "3635/3635 [==============================] - 45s 12ms/step - loss: 1.8108 - mean_squared_error: 1.8108\n",
      "Epoch 38/100\n",
      "3635/3635 [==============================] - 44s 12ms/step - loss: 1.7607 - mean_squared_error: 1.7607\n",
      "Epoch 39/100\n",
      "3635/3635 [==============================] - 45s 12ms/step - loss: 1.7518 - mean_squared_error: 1.7518\n",
      "Epoch 40/100\n",
      "3635/3635 [==============================] - 46s 13ms/step - loss: 1.7249 - mean_squared_error: 1.7249\n",
      "Epoch 41/100\n",
      "3635/3635 [==============================] - 45s 12ms/step - loss: 1.6606 - mean_squared_error: 1.6606\n",
      "Epoch 42/100\n",
      "3635/3635 [==============================] - 45s 12ms/step - loss: 1.6428 - mean_squared_error: 1.6428\n",
      "Epoch 43/100\n",
      "3635/3635 [==============================] - 44s 12ms/step - loss: 1.6142 - mean_squared_error: 1.6142\n",
      "Epoch 44/100\n",
      "3635/3635 [==============================] - 45s 12ms/step - loss: 1.5483 - mean_squared_error: 1.5483\n",
      "Epoch 45/100\n",
      "3635/3635 [==============================] - 44s 12ms/step - loss: 1.5333 - mean_squared_error: 1.5333\n",
      "Epoch 46/100\n",
      "3635/3635 [==============================] - 45s 12ms/step - loss: 1.5219 - mean_squared_error: 1.5219\n",
      "Epoch 47/100\n",
      "3635/3635 [==============================] - 45s 12ms/step - loss: 1.4684 - mean_squared_error: 1.4684\n",
      "Epoch 48/100\n",
      "3635/3635 [==============================] - 45s 12ms/step - loss: 1.4469 - mean_squared_error: 1.4469\n",
      "Epoch 49/100\n",
      "3635/3635 [==============================] - 44s 12ms/step - loss: 1.3924 - mean_squared_error: 1.3924\n",
      "Epoch 50/100\n",
      "3635/3635 [==============================] - 44s 12ms/step - loss: 1.3620 - mean_squared_error: 1.3620\n",
      "Epoch 51/100\n",
      "3635/3635 [==============================] - 45s 12ms/step - loss: 1.3210 - mean_squared_error: 1.3210\n",
      "Epoch 52/100\n",
      "3635/3635 [==============================] - 44s 12ms/step - loss: 1.2907 - mean_squared_error: 1.2907\n",
      "Epoch 53/100\n",
      "3635/3635 [==============================] - 46s 13ms/step - loss: 1.2529 - mean_squared_error: 1.2529\n",
      "Epoch 54/100\n",
      "3635/3635 [==============================] - 44s 12ms/step - loss: 1.2230 - mean_squared_error: 1.2230\n",
      "Epoch 55/100\n",
      "3635/3635 [==============================] - 46s 13ms/step - loss: 1.2237 - mean_squared_error: 1.2237\n",
      "Epoch 56/100\n",
      "3635/3635 [==============================] - 45s 12ms/step - loss: 1.1777 - mean_squared_error: 1.1777\n",
      "Epoch 57/100\n",
      "3635/3635 [==============================] - 44s 12ms/step - loss: 1.1220 - mean_squared_error: 1.1220\n",
      "Epoch 58/100\n",
      "3635/3635 [==============================] - 45s 12ms/step - loss: 1.1405 - mean_squared_error: 1.1405\n",
      "Epoch 59/100\n",
      "3635/3635 [==============================] - 45s 12ms/step - loss: 1.0775 - mean_squared_error: 1.0775\n",
      "Epoch 60/100\n",
      "3635/3635 [==============================] - 46s 13ms/step - loss: 1.0610 - mean_squared_error: 1.0610\n",
      "Epoch 61/100\n",
      "3635/3635 [==============================] - 44s 12ms/step - loss: 1.0289 - mean_squared_error: 1.0289\n",
      "Epoch 62/100\n",
      "3635/3635 [==============================] - 46s 13ms/step - loss: 0.9979 - mean_squared_error: 0.9979\n",
      "Epoch 63/100\n",
      "3635/3635 [==============================] - 46s 13ms/step - loss: 0.9662 - mean_squared_error: 0.9662\n",
      "Epoch 64/100\n",
      "3635/3635 [==============================] - 46s 13ms/step - loss: 0.9445 - mean_squared_error: 0.9445\n",
      "Epoch 65/100\n",
      "3635/3635 [==============================] - 44s 12ms/step - loss: 0.9401 - mean_squared_error: 0.9401\n",
      "Epoch 66/100\n",
      "3635/3635 [==============================] - 46s 13ms/step - loss: 0.8846 - mean_squared_error: 0.8846\n",
      "Epoch 67/100\n",
      "3635/3635 [==============================] - 44s 12ms/step - loss: 0.8738 - mean_squared_error: 0.8738\n",
      "Epoch 68/100\n",
      "3635/3635 [==============================] - 44s 12ms/step - loss: 0.8394 - mean_squared_error: 0.8394\n",
      "Epoch 69/100\n",
      "3635/3635 [==============================] - 44s 12ms/step - loss: 0.8335 - mean_squared_error: 0.8335\n",
      "Epoch 70/100\n",
      "3635/3635 [==============================] - 45s 12ms/step - loss: 0.7975 - mean_squared_error: 0.7975\n",
      "Epoch 71/100\n",
      "3635/3635 [==============================] - 45s 12ms/step - loss: 0.7849 - mean_squared_error: 0.7849\n",
      "Epoch 72/100\n",
      "3635/3635 [==============================] - 45s 12ms/step - loss: 0.7485 - mean_squared_error: 0.7485\n",
      "Epoch 73/100\n",
      "3635/3635 [==============================] - 44s 12ms/step - loss: 0.7366 - mean_squared_error: 0.7366\n",
      "Epoch 74/100\n",
      "3635/3635 [==============================] - 44s 12ms/step - loss: 0.7173 - mean_squared_error: 0.7173\n",
      "Epoch 75/100\n",
      "3635/3635 [==============================] - 45s 12ms/step - loss: 0.6972 - mean_squared_error: 0.6972\n",
      "Epoch 76/100\n",
      "3635/3635 [==============================] - 45s 12ms/step - loss: 0.6593 - mean_squared_error: 0.6593\n",
      "Epoch 77/100\n",
      "3635/3635 [==============================] - 45s 12ms/step - loss: 0.6617 - mean_squared_error: 0.6617\n",
      "Epoch 78/100\n",
      "3635/3635 [==============================] - 44s 12ms/step - loss: 0.6453 - mean_squared_error: 0.6453\n",
      "Epoch 79/100\n",
      "3635/3635 [==============================] - 44s 12ms/step - loss: 0.6280 - mean_squared_error: 0.6280\n",
      "Epoch 80/100\n",
      "3635/3635 [==============================] - 44s 12ms/step - loss: 0.5828 - mean_squared_error: 0.5828\n",
      "Epoch 81/100\n",
      "3635/3635 [==============================] - 45s 12ms/step - loss: 0.5715 - mean_squared_error: 0.5715\n",
      "Epoch 82/100\n",
      "3635/3635 [==============================] - 45s 12ms/step - loss: 0.5754 - mean_squared_error: 0.5754\n",
      "Epoch 83/100\n",
      "3635/3635 [==============================] - 44s 12ms/step - loss: 0.5405 - mean_squared_error: 0.5405\n",
      "Epoch 84/100\n",
      "3635/3635 [==============================] - 44s 12ms/step - loss: 0.5461 - mean_squared_error: 0.5461\n",
      "Epoch 85/100\n",
      "3635/3635 [==============================] - 45s 12ms/step - loss: 0.4927 - mean_squared_error: 0.4927\n",
      "Epoch 86/100\n",
      "3635/3635 [==============================] - 45s 12ms/step - loss: 0.5059 - mean_squared_error: 0.5059\n",
      "Epoch 87/100\n",
      "3635/3635 [==============================] - 45s 12ms/step - loss: 0.4925 - mean_squared_error: 0.4925\n",
      "Epoch 88/100\n",
      "3635/3635 [==============================] - 45s 12ms/step - loss: 0.4701 - mean_squared_error: 0.4701\n",
      "Epoch 89/100\n",
      "3635/3635 [==============================] - 45s 12ms/step - loss: 0.4660 - mean_squared_error: 0.4660\n",
      "Epoch 90/100\n",
      "3635/3635 [==============================] - 45s 12ms/step - loss: 0.4615 - mean_squared_error: 0.4615\n",
      "Epoch 91/100\n",
      "3635/3635 [==============================] - 45s 13ms/step - loss: 0.4480 - mean_squared_error: 0.4480\n",
      "Epoch 92/100\n",
      "3635/3635 [==============================] - 45s 12ms/step - loss: 0.4240 - mean_squared_error: 0.4240\n",
      "Epoch 93/100\n",
      "3635/3635 [==============================] - 46s 13ms/step - loss: 0.4239 - mean_squared_error: 0.4239\n",
      "Epoch 94/100\n",
      "3635/3635 [==============================] - 45s 12ms/step - loss: 0.3997 - mean_squared_error: 0.3997\n",
      "Epoch 95/100\n",
      "3635/3635 [==============================] - 45s 12ms/step - loss: 0.3819 - mean_squared_error: 0.3819\n",
      "Epoch 96/100\n",
      "3635/3635 [==============================] - 45s 12ms/step - loss: 0.3997 - mean_squared_error: 0.3997\n",
      "Epoch 97/100\n",
      "3635/3635 [==============================] - 45s 12ms/step - loss: 0.3665 - mean_squared_error: 0.3665\n",
      "Epoch 98/100\n",
      "3635/3635 [==============================] - 45s 12ms/step - loss: 0.3806 - mean_squared_error: 0.3806\n",
      "Epoch 99/100\n",
      "3635/3635 [==============================] - 46s 13ms/step - loss: 0.3692 - mean_squared_error: 0.3692\n",
      "Epoch 100/100\n",
      "3635/3635 [==============================] - 45s 12ms/step - loss: 0.3380 - mean_squared_error: 0.3380\n"
     ]
    }
   ],
   "source": [
    "history_sm = model.fit(x=data_x, y=data_y, epochs=nb_epochs, batch_size=nb_batch, verbose=1)"
   ]
  },
  {
   "cell_type": "markdown",
   "metadata": {},
   "source": [
    "#### Sample size = all <rb>\n",
    "    Learning rate = 0.00001\n",
    "    batch size = 32"
   ]
  },
  {
   "cell_type": "markdown",
   "metadata": {},
   "source": [
    "After 100 epochs"
   ]
  },
  {
   "cell_type": "code",
   "execution_count": 199,
   "metadata": {},
   "outputs": [
    {
     "name": "stdout",
     "output_type": "stream",
     "text": [
      "Training r2: 0.9028615587381965\n"
     ]
    }
   ],
   "source": [
    "train_pred = model.predict(bx)\n",
    "train_r2 = r2_score(y_pred=train_pred, y_true=by)\n",
    "print(\"Training r2: {:4}\".format(train_r2))"
   ]
  },
  {
   "cell_type": "code",
   "execution_count": 170,
   "metadata": {},
   "outputs": [
    {
     "data": {
      "image/png": "[encoded data removed]",
      "text/plain": [
       "<Figure size 432x288 with 1 Axes>"
      ]
     },
     "metadata": {},
     "output_type": "display_data"
    }
   ],
   "source": [
    "plt.plot(history_sm.history['mean_squared_error'])\n",
    "plt.xlabel(\"Epochs\")\n",
    "plt.ylabel(\"Loss(MSE)\")\n",
    "# plt.legend([\"Validation\", \"Training\"])\n",
    "plt.show()"
   ]
  },
  {
   "cell_type": "markdown",
   "metadata": {},
   "source": [
    "#### Sample size = 2048 <rb>\n",
    "    Learning rate = 0.00001\n",
    "    batch size = 16"
   ]
  },
  {
   "cell_type": "markdown",
   "metadata": {},
   "source": [
    "After 100 epochs"
   ]
  },
  {
   "cell_type": "code",
   "execution_count": 162,
   "metadata": {},
   "outputs": [
    {
     "name": "stdout",
     "output_type": "stream",
     "text": [
      "Training r2: 0.9760152234465294\n"
     ]
    }
   ],
   "source": [
    "train_pred = model.predict(bx)\n",
    "train_r2 = r2_score(y_pred=train_pred, y_true=by)\n",
    "print(\"Training r2: {:4}\".format(train_r2))"
   ]
  },
  {
   "cell_type": "code",
   "execution_count": 163,
   "metadata": {},
   "outputs": [
    {
     "data": {
      "image/png": "[encoded data removed]",
      "text/plain": [
       "<Figure size 432x288 with 1 Axes>"
      ]
     },
     "metadata": {},
     "output_type": "display_data"
    }
   ],
   "source": [
    "plt.plot(history_sm.history['mean_squared_error'])\n",
    "plt.xlabel(\"Epochs\")\n",
    "plt.ylabel(\"Loss(MSE)\")\n",
    "# plt.legend([\"Validation\", \"Training\"])\n",
    "plt.show()"
   ]
  },
  {
   "cell_type": "code",
   "execution_count": 164,
   "metadata": {},
   "outputs": [
    {
     "data": {
      "text/plain": [
       "0.1737312829183537"
      ]
     },
     "execution_count": 164,
     "metadata": {},
     "output_type": "execute_result"
    }
   ],
   "source": [
    "pred = model.predict(test_x)\n",
    "r2 = r2_score(y_pred=pred, y_true=test_y)\n",
    "r2"
   ]
  },
  {
   "cell_type": "markdown",
   "metadata": {},
   "source": [
    "#### Sample size = 512 <rb>\n",
    "    Learning rate = 0.000001\n",
    "    batch size = 16"
   ]
  },
  {
   "cell_type": "code",
   "execution_count": 136,
   "metadata": {},
   "outputs": [
    {
     "name": "stdout",
     "output_type": "stream",
     "text": [
      "Training r2: 0.47958324761957827\n"
     ]
    }
   ],
   "source": [
    "train_pred = model.predict(bx)\n",
    "train_r2 = r2_score(y_pred=train_pred, y_true=by)\n",
    "print(\"Training r2: {:4}\".format(train_r2))"
   ]
  },
  {
   "cell_type": "code",
   "execution_count": 137,
   "metadata": {},
   "outputs": [
    {
     "data": {
      "image/png": "[encoded data removed]",
      "text/plain": [
       "<Figure size 432x288 with 1 Axes>"
      ]
     },
     "metadata": {},
     "output_type": "display_data"
    }
   ],
   "source": [
    "plt.plot(history_sm.history['mean_squared_error'])\n",
    "plt.xlabel(\"Epochs\")\n",
    "plt.ylabel(\"Loss(MSE)\")\n",
    "# plt.legend([\"Validation\", \"Training\"])\n",
    "plt.show()"
   ]
  },
  {
   "cell_type": "markdown",
   "metadata": {},
   "source": [
    "After another 50 epochs"
   ]
  },
  {
   "cell_type": "code",
   "execution_count": 139,
   "metadata": {},
   "outputs": [
    {
     "name": "stdout",
     "output_type": "stream",
     "text": [
      "Training r2: 0.6758009430184745\n"
     ]
    }
   ],
   "source": [
    "train_pred = model.predict(bx)\n",
    "train_r2 = r2_score(y_pred=train_pred, y_true=by)\n",
    "print(\"Training r2: {:4}\".format(train_r2))"
   ]
  },
  {
   "cell_type": "code",
   "execution_count": 140,
   "metadata": {},
   "outputs": [
    {
     "data": {
      "image/png": "[encoded data removed]",
      "text/plain": [
       "<Figure size 432x288 with 1 Axes>"
      ]
     },
     "metadata": {},
     "output_type": "display_data"
    }
   ],
   "source": [
    "plt.plot(history_sm.history['mean_squared_error'])\n",
    "plt.xlabel(\"Epochs\")\n",
    "plt.ylabel(\"Loss(MSE)\")\n",
    "# plt.legend([\"Validation\", \"Training\"])\n",
    "plt.show()"
   ]
  },
  {
   "cell_type": "markdown",
   "metadata": {},
   "source": [
    "After another 100 epochs"
   ]
  },
  {
   "cell_type": "code",
   "execution_count": 143,
   "metadata": {},
   "outputs": [
    {
     "name": "stdout",
     "output_type": "stream",
     "text": [
      "Training r2: 0.906764049555101\n"
     ]
    }
   ],
   "source": [
    "train_pred = model.predict(bx)\n",
    "train_r2 = r2_score(y_pred=train_pred, y_true=by)\n",
    "print(\"Training r2: {:4}\".format(train_r2))"
   ]
  },
  {
   "cell_type": "code",
   "execution_count": 144,
   "metadata": {},
   "outputs": [
    {
     "data": {
      "image/png": "[encoded data removed]",
      "text/plain": [
       "<Figure size 432x288 with 1 Axes>"
      ]
     },
     "metadata": {},
     "output_type": "display_data"
    }
   ],
   "source": [
    "plt.plot(history_sm.history['mean_squared_error'])\n",
    "plt.xlabel(\"Epochs\")\n",
    "plt.ylabel(\"Loss(MSE)\")\n",
    "# plt.legend([\"Validation\", \"Training\"])\n",
    "plt.show()"
   ]
  },
  {
   "cell_type": "markdown",
   "metadata": {},
   "source": [
    "After another 200 epochs"
   ]
  },
  {
   "cell_type": "code",
   "execution_count": 146,
   "metadata": {},
   "outputs": [
    {
     "name": "stdout",
     "output_type": "stream",
     "text": [
      "Training r2: 0.9908617707690462\n"
     ]
    }
   ],
   "source": [
    "train_pred = model.predict(bx)\n",
    "train_r2 = r2_score(y_pred=train_pred, y_true=by)\n",
    "print(\"Training r2: {:4}\".format(train_r2))"
   ]
  },
  {
   "cell_type": "code",
   "execution_count": 147,
   "metadata": {},
   "outputs": [
    {
     "data": {
      "image/png": "[encoded data removed]",
      "text/plain": [
       "<Figure size 432x288 with 1 Axes>"
      ]
     },
     "metadata": {},
     "output_type": "display_data"
    }
   ],
   "source": [
    "plt.plot(history_sm.history['mean_squared_error'])\n",
    "plt.xlabel(\"Epochs\")\n",
    "plt.ylabel(\"Loss(MSE)\")\n",
    "# plt.legend([\"Validation\", \"Training\"])\n",
    "plt.show()"
   ]
  },
  {
   "cell_type": "code",
   "execution_count": 148,
   "metadata": {},
   "outputs": [
    {
     "data": {
      "text/plain": [
       "0.09775286726442589"
      ]
     },
     "execution_count": 148,
     "metadata": {},
     "output_type": "execute_result"
    }
   ],
   "source": [
    "pred = model.predict(test_x)\n",
    "r2 = r2_score(y_pred=pred, y_true=test_y)\n",
    "r2"
   ]
  },
  {
   "cell_type": "markdown",
   "metadata": {},
   "source": [
    "#### Sample size = 128"
   ]
  },
  {
   "cell_type": "code",
   "execution_count": 117,
   "metadata": {},
   "outputs": [
    {
     "name": "stdout",
     "output_type": "stream",
     "text": [
      "Training r2: 0.9844373576233837\n"
     ]
    }
   ],
   "source": [
    "train_pred = model.predict(bx)\n",
    "train_r2 = r2_score(y_pred=train_pred, y_true=by)\n",
    "print(\"Training r2: {:4}\".format(train_r2))"
   ]
  },
  {
   "cell_type": "code",
   "execution_count": 118,
   "metadata": {},
   "outputs": [
    {
     "data": {
      "image/png": "[encoded data removed]",
      "text/plain": [
       "<Figure size 432x288 with 1 Axes>"
      ]
     },
     "metadata": {},
     "output_type": "display_data"
    }
   ],
   "source": [
    "plt.plot(history_sm.history['mean_squared_error'])\n",
    "plt.xlabel(\"Epochs\")\n",
    "plt.ylabel(\"Loss(MSE)\")\n",
    "# plt.legend([\"Validation\", \"Training\"])\n",
    "plt.show()"
   ]
  },
  {
   "cell_type": "code",
   "execution_count": 126,
   "metadata": {},
   "outputs": [
    {
     "data": {
      "text/plain": [
       "0.23172778936216853"
      ]
     },
     "execution_count": 126,
     "metadata": {},
     "output_type": "execute_result"
    }
   ],
   "source": [
    "pred = model.predict(test_x)\n",
    "r2 = r2_score(y_pred=pred, y_true=test_y)\n",
    "r2"
   ]
  },
  {
   "cell_type": "markdown",
   "metadata": {},
   "source": [
    "#### Sample size = 1024"
   ]
  },
  {
   "cell_type": "code",
   "execution_count": 105,
   "metadata": {},
   "outputs": [
    {
     "name": "stdout",
     "output_type": "stream",
     "text": [
      "Training r2: 0.8500569271044498\n"
     ]
    }
   ],
   "source": [
    "train_pred = model.predict(bx)\n",
    "train_r2 = r2_score(y_pred=train_pred, y_true=by)\n",
    "print(\"Training r2: {:4}\".format(train_r2))"
   ]
  },
  {
   "cell_type": "code",
   "execution_count": 93,
   "metadata": {},
   "outputs": [
    {
     "data": {
      "image/png": "[encoded data removed]",
      "text/plain": [
       "<Figure size 432x288 with 1 Axes>"
      ]
     },
     "metadata": {},
     "output_type": "display_data"
    }
   ],
   "source": [
    "plt.plot(history_sm.history['mean_squared_error'])\n",
    "plt.xlabel(\"Epochs\")\n",
    "plt.ylabel(\"Loss(MSE)\")\n",
    "# plt.legend([\"Validation\", \"Training\"])\n",
    "plt.show()"
   ]
  },
  {
   "cell_type": "code",
   "execution_count": 184,
   "metadata": {},
   "outputs": [
    {
     "name": "stdout",
     "output_type": "stream",
     "text": [
      "Epoch 1/100\n",
      "46/46 [==============================] - 27s 593ms/step - loss: 0.3172 - mean_squared_error: 0.3172\n",
      "\n",
      "Epoch 00001: mean_squared_error improved from inf to 0.31716, saving model to weights-improvement-01-0.32.hdf5\n",
      "Epoch 2/100\n",
      "46/46 [==============================] - 26s 556ms/step - loss: 0.2058 - mean_squared_error: 0.2058\n",
      "\n",
      "Epoch 00002: mean_squared_error improved from 0.31716 to 0.20585, saving model to weights-improvement-02-0.21.hdf5\n",
      "Epoch 3/100\n",
      "46/46 [==============================] - 26s 567ms/step - loss: 0.2111 - mean_squared_error: 0.2111\n",
      "\n",
      "Epoch 00003: mean_squared_error did not improve\n",
      "Epoch 4/100\n",
      "46/46 [==============================] - 26s 561ms/step - loss: 0.1890 - mean_squared_error: 0.1890\n",
      "\n",
      "Epoch 00004: mean_squared_error improved from 0.20585 to 0.18896, saving model to weights-improvement-04-0.19.hdf5\n",
      "Epoch 5/100\n",
      "46/46 [==============================] - 26s 560ms/step - loss: 0.1899 - mean_squared_error: 0.1899\n",
      "\n",
      "Epoch 00005: mean_squared_error did not improve\n",
      "Epoch 6/100\n",
      "46/46 [==============================] - 26s 556ms/step - loss: 0.1788 - mean_squared_error: 0.1788\n",
      "\n",
      "Epoch 00006: mean_squared_error improved from 0.18896 to 0.17875, saving model to weights-improvement-06-0.18.hdf5\n",
      "Epoch 7/100\n",
      "46/46 [==============================] - 26s 570ms/step - loss: 0.1828 - mean_squared_error: 0.1828\n",
      "\n",
      "Epoch 00007: mean_squared_error did not improve\n",
      "Epoch 8/100\n",
      "46/46 [==============================] - 25s 554ms/step - loss: 0.1786 - mean_squared_error: 0.1786\n",
      "\n",
      "Epoch 00008: mean_squared_error improved from 0.17875 to 0.17864, saving model to weights-improvement-08-0.18.hdf5\n",
      "Epoch 9/100\n",
      "46/46 [==============================] - 26s 561ms/step - loss: 0.1685 - mean_squared_error: 0.1685\n",
      "\n",
      "Epoch 00009: mean_squared_error improved from 0.17864 to 0.16847, saving model to weights-improvement-09-0.17.hdf5\n",
      "Epoch 10/100\n",
      "46/46 [==============================] - 26s 569ms/step - loss: 0.1695 - mean_squared_error: 0.1695\n",
      "\n",
      "Epoch 00010: mean_squared_error did not improve\n",
      "Epoch 11/100\n",
      "46/46 [==============================] - 26s 564ms/step - loss: 0.1631 - mean_squared_error: 0.1631\n",
      "\n",
      "Epoch 00011: mean_squared_error improved from 0.16847 to 0.16306, saving model to weights-improvement-11-0.16.hdf5\n",
      "Epoch 12/100\n",
      "46/46 [==============================] - 26s 569ms/step - loss: 0.1616 - mean_squared_error: 0.1616\n",
      "\n",
      "Epoch 00012: mean_squared_error improved from 0.16306 to 0.16158, saving model to weights-improvement-12-0.16.hdf5\n",
      "Epoch 13/100\n",
      "46/46 [==============================] - 26s 569ms/step - loss: 0.1596 - mean_squared_error: 0.1596\n",
      "\n",
      "Epoch 00013: mean_squared_error improved from 0.16158 to 0.15959, saving model to weights-improvement-13-0.16.hdf5\n",
      "Epoch 14/100\n",
      "46/46 [==============================] - 26s 559ms/step - loss: 0.1558 - mean_squared_error: 0.1558\n",
      "\n",
      "Epoch 00014: mean_squared_error improved from 0.15959 to 0.15576, saving model to weights-improvement-14-0.16.hdf5\n",
      "Epoch 15/100\n",
      "46/46 [==============================] - 26s 570ms/step - loss: 0.1602 - mean_squared_error: 0.1602\n",
      "\n",
      "Epoch 00015: mean_squared_error did not improve\n",
      "Epoch 16/100\n",
      "46/46 [==============================] - 26s 561ms/step - loss: 0.1546 - mean_squared_error: 0.1546\n",
      "\n",
      "Epoch 00016: mean_squared_error improved from 0.15576 to 0.15463, saving model to weights-improvement-16-0.15.hdf5\n",
      "Epoch 17/100\n",
      "46/46 [==============================] - 26s 573ms/step - loss: 0.1468 - mean_squared_error: 0.1468\n",
      "\n",
      "Epoch 00017: mean_squared_error improved from 0.15463 to 0.14677, saving model to weights-improvement-17-0.15.hdf5\n",
      "Epoch 18/100\n",
      "46/46 [==============================] - 26s 563ms/step - loss: 0.1411 - mean_squared_error: 0.1411\n",
      "\n",
      "Epoch 00018: mean_squared_error improved from 0.14677 to 0.14107, saving model to weights-improvement-18-0.14.hdf5\n",
      "Epoch 19/100\n",
      "46/46 [==============================] - 25s 550ms/step - loss: 0.1379 - mean_squared_error: 0.1379\n",
      "\n",
      "Epoch 00019: mean_squared_error improved from 0.14107 to 0.13793, saving model to weights-improvement-19-0.14.hdf5\n",
      "Epoch 20/100\n",
      "46/46 [==============================] - 26s 563ms/step - loss: 0.1359 - mean_squared_error: 0.1359\n",
      "\n",
      "Epoch 00020: mean_squared_error improved from 0.13793 to 0.13589, saving model to weights-improvement-20-0.14.hdf5\n",
      "Epoch 21/100\n",
      "46/46 [==============================] - 26s 573ms/step - loss: 0.1373 - mean_squared_error: 0.1373\n",
      "\n",
      "Epoch 00021: mean_squared_error did not improve\n",
      "Epoch 22/100\n",
      "46/46 [==============================] - 26s 564ms/step - loss: 0.1326 - mean_squared_error: 0.1326\n",
      "\n",
      "Epoch 00022: mean_squared_error improved from 0.13589 to 0.13261, saving model to weights-improvement-22-0.13.hdf5\n",
      "Epoch 23/100\n",
      "46/46 [==============================] - 26s 568ms/step - loss: 0.1332 - mean_squared_error: 0.1332\n",
      "\n",
      "Epoch 00023: mean_squared_error did not improve\n",
      "Epoch 24/100\n",
      "46/46 [==============================] - 26s 570ms/step - loss: 0.1297 - mean_squared_error: 0.1297\n",
      "\n",
      "Epoch 00024: mean_squared_error improved from 0.13261 to 0.12969, saving model to weights-improvement-24-0.13.hdf5\n",
      "Epoch 25/100\n",
      "46/46 [==============================] - 26s 560ms/step - loss: 0.1189 - mean_squared_error: 0.1189\n",
      "\n",
      "Epoch 00025: mean_squared_error improved from 0.12969 to 0.11890, saving model to weights-improvement-25-0.12.hdf5\n",
      "Epoch 26/100\n",
      "46/46 [==============================] - 26s 556ms/step - loss: 0.1232 - mean_squared_error: 0.1232\n",
      "\n",
      "Epoch 00026: mean_squared_error did not improve\n",
      "Epoch 27/100\n",
      "46/46 [==============================] - 26s 565ms/step - loss: 0.1159 - mean_squared_error: 0.1159\n",
      "\n",
      "Epoch 00027: mean_squared_error improved from 0.11890 to 0.11594, saving model to weights-improvement-27-0.12.hdf5\n",
      "Epoch 28/100\n",
      "46/46 [==============================] - 26s 567ms/step - loss: 0.1188 - mean_squared_error: 0.1188\n",
      "\n",
      "Epoch 00028: mean_squared_error did not improve\n",
      "Epoch 29/100\n",
      "46/46 [==============================] - 26s 563ms/step - loss: 0.1198 - mean_squared_error: 0.1198\n",
      "\n",
      "Epoch 00029: mean_squared_error did not improve\n",
      "Epoch 30/100\n",
      "46/46 [==============================] - 26s 570ms/step - loss: 0.1090 - mean_squared_error: 0.1090\n",
      "\n",
      "Epoch 00030: mean_squared_error improved from 0.11594 to 0.10905, saving model to weights-improvement-30-0.11.hdf5\n",
      "Epoch 31/100\n",
      "46/46 [==============================] - 26s 562ms/step - loss: 0.1079 - mean_squared_error: 0.1079\n",
      "\n",
      "Epoch 00031: mean_squared_error improved from 0.10905 to 0.10792, saving model to weights-improvement-31-0.11.hdf5\n",
      "Epoch 32/100\n",
      "46/46 [==============================] - 26s 556ms/step - loss: 0.1098 - mean_squared_error: 0.1098\n",
      "\n",
      "Epoch 00032: mean_squared_error did not improve\n",
      "Epoch 33/100\n",
      "46/46 [==============================] - 26s 566ms/step - loss: 0.1040 - mean_squared_error: 0.1040\n",
      "\n",
      "Epoch 00033: mean_squared_error improved from 0.10792 to 0.10401, saving model to weights-improvement-33-0.10.hdf5\n",
      "Epoch 34/100\n",
      "46/46 [==============================] - 26s 564ms/step - loss: 0.0991 - mean_squared_error: 0.0991\n",
      "\n",
      "Epoch 00034: mean_squared_error improved from 0.10401 to 0.09912, saving model to weights-improvement-34-0.10.hdf5\n",
      "Epoch 35/100\n",
      "46/46 [==============================] - 26s 572ms/step - loss: 0.1007 - mean_squared_error: 0.1007\n",
      "\n",
      "Epoch 00035: mean_squared_error did not improve\n",
      "Epoch 36/100\n",
      "46/46 [==============================] - 26s 557ms/step - loss: 0.0967 - mean_squared_error: 0.0967\n",
      "\n",
      "Epoch 00036: mean_squared_error improved from 0.09912 to 0.09668, saving model to weights-improvement-36-0.10.hdf5\n",
      "Epoch 37/100\n",
      "46/46 [==============================] - 26s 564ms/step - loss: 0.0975 - mean_squared_error: 0.0975\n",
      "\n",
      "Epoch 00037: mean_squared_error did not improve\n",
      "Epoch 38/100\n",
      "46/46 [==============================] - 26s 574ms/step - loss: 0.0951 - mean_squared_error: 0.0951\n",
      "\n",
      "Epoch 00038: mean_squared_error improved from 0.09668 to 0.09510, saving model to weights-improvement-38-0.10.hdf5\n",
      "Epoch 39/100\n",
      "46/46 [==============================] - 26s 571ms/step - loss: 0.0926 - mean_squared_error: 0.0926\n",
      "\n",
      "Epoch 00039: mean_squared_error improved from 0.09510 to 0.09256, saving model to weights-improvement-39-0.09.hdf5\n",
      "Epoch 40/100\n",
      "46/46 [==============================] - 26s 566ms/step - loss: 0.0896 - mean_squared_error: 0.0896\n",
      "\n",
      "Epoch 00040: mean_squared_error improved from 0.09256 to 0.08960, saving model to weights-improvement-40-0.09.hdf5\n",
      "Epoch 41/100\n"
     ]
    },
    {
     "name": "stdout",
     "output_type": "stream",
     "text": [
      "46/46 [==============================] - 26s 559ms/step - loss: 0.0922 - mean_squared_error: 0.0922\n",
      "\n",
      "Epoch 00041: mean_squared_error did not improve\n",
      "Epoch 42/100\n",
      "46/46 [==============================] - 26s 570ms/step - loss: 0.0889 - mean_squared_error: 0.0889\n",
      "\n",
      "Epoch 00042: mean_squared_error improved from 0.08960 to 0.08886, saving model to weights-improvement-42-0.09.hdf5\n",
      "Epoch 43/100\n",
      "46/46 [==============================] - 26s 573ms/step - loss: 0.0811 - mean_squared_error: 0.0811\n",
      "\n",
      "Epoch 00043: mean_squared_error improved from 0.08886 to 0.08105, saving model to weights-improvement-43-0.08.hdf5\n",
      "Epoch 44/100\n",
      "46/46 [==============================] - 27s 585ms/step - loss: 0.0797 - mean_squared_error: 0.0797\n",
      "\n",
      "Epoch 00044: mean_squared_error improved from 0.08105 to 0.07965, saving model to weights-improvement-44-0.08.hdf5\n",
      "Epoch 45/100\n",
      "46/46 [==============================] - 26s 575ms/step - loss: 0.0846 - mean_squared_error: 0.0846\n",
      "\n",
      "Epoch 00045: mean_squared_error did not improve\n",
      "Epoch 46/100\n",
      "46/46 [==============================] - 26s 565ms/step - loss: 0.0786 - mean_squared_error: 0.0786\n",
      "\n",
      "Epoch 00046: mean_squared_error improved from 0.07965 to 0.07865, saving model to weights-improvement-46-0.08.hdf5\n",
      "Epoch 47/100\n",
      "46/46 [==============================] - 26s 564ms/step - loss: 0.0760 - mean_squared_error: 0.0760\n",
      "\n",
      "Epoch 00047: mean_squared_error improved from 0.07865 to 0.07603, saving model to weights-improvement-47-0.08.hdf5\n",
      "Epoch 48/100\n",
      "46/46 [==============================] - 26s 560ms/step - loss: 0.0760 - mean_squared_error: 0.0760\n",
      "\n",
      "Epoch 00048: mean_squared_error improved from 0.07603 to 0.07599, saving model to weights-improvement-48-0.08.hdf5\n",
      "Epoch 49/100\n",
      "46/46 [==============================] - 27s 581ms/step - loss: 0.0744 - mean_squared_error: 0.0744\n",
      "\n",
      "Epoch 00049: mean_squared_error improved from 0.07599 to 0.07445, saving model to weights-improvement-49-0.07.hdf5\n",
      "Epoch 50/100\n",
      "46/46 [==============================] - 26s 565ms/step - loss: 0.0768 - mean_squared_error: 0.0768\n",
      "\n",
      "Epoch 00050: mean_squared_error did not improve\n",
      "Epoch 51/100\n",
      "46/46 [==============================] - 26s 557ms/step - loss: 0.0687 - mean_squared_error: 0.0687\n",
      "\n",
      "Epoch 00051: mean_squared_error improved from 0.07445 to 0.06873, saving model to weights-improvement-51-0.07.hdf5\n",
      "Epoch 52/100\n",
      "46/46 [==============================] - 26s 574ms/step - loss: 0.0725 - mean_squared_error: 0.0725\n",
      "\n",
      "Epoch 00052: mean_squared_error did not improve\n",
      "Epoch 53/100\n",
      "46/46 [==============================] - 26s 568ms/step - loss: 0.0659 - mean_squared_error: 0.0659\n",
      "\n",
      "Epoch 00053: mean_squared_error improved from 0.06873 to 0.06587, saving model to weights-improvement-53-0.07.hdf5\n",
      "Epoch 54/100\n",
      "46/46 [==============================] - 26s 572ms/step - loss: 0.0661 - mean_squared_error: 0.0661\n",
      "\n",
      "Epoch 00054: mean_squared_error did not improve\n",
      "Epoch 55/100\n",
      "46/46 [==============================] - 26s 564ms/step - loss: 0.0621 - mean_squared_error: 0.0621\n",
      "\n",
      "Epoch 00055: mean_squared_error improved from 0.06587 to 0.06211, saving model to weights-improvement-55-0.06.hdf5\n",
      "Epoch 56/100\n",
      "46/46 [==============================] - 27s 580ms/step - loss: 0.0641 - mean_squared_error: 0.0641\n",
      "\n",
      "Epoch 00056: mean_squared_error did not improve\n",
      "Epoch 57/100\n",
      "46/46 [==============================] - 27s 586ms/step - loss: 0.0608 - mean_squared_error: 0.0608\n",
      "\n",
      "Epoch 00057: mean_squared_error improved from 0.06211 to 0.06079, saving model to weights-improvement-57-0.06.hdf5\n",
      "Epoch 58/100\n",
      "46/46 [==============================] - 26s 564ms/step - loss: 0.0602 - mean_squared_error: 0.0602\n",
      "\n",
      "Epoch 00058: mean_squared_error improved from 0.06079 to 0.06021, saving model to weights-improvement-58-0.06.hdf5\n",
      "Epoch 59/100\n",
      "46/46 [==============================] - 26s 570ms/step - loss: 0.0579 - mean_squared_error: 0.0579\n",
      "\n",
      "Epoch 00059: mean_squared_error improved from 0.06021 to 0.05791, saving model to weights-improvement-59-0.06.hdf5\n",
      "Epoch 60/100\n",
      "46/46 [==============================] - 26s 560ms/step - loss: 0.0591 - mean_squared_error: 0.0591\n",
      "\n",
      "Epoch 00060: mean_squared_error did not improve\n",
      "Epoch 61/100\n",
      "46/46 [==============================] - 26s 564ms/step - loss: 0.0570 - mean_squared_error: 0.0570\n",
      "\n",
      "Epoch 00061: mean_squared_error improved from 0.05791 to 0.05698, saving model to weights-improvement-61-0.06.hdf5\n",
      "Epoch 62/100\n",
      "46/46 [==============================] - 26s 570ms/step - loss: 0.0540 - mean_squared_error: 0.0540\n",
      "\n",
      "Epoch 00062: mean_squared_error improved from 0.05698 to 0.05403, saving model to weights-improvement-62-0.05.hdf5\n",
      "Epoch 63/100\n",
      "46/46 [==============================] - 25s 554ms/step - loss: 0.0559 - mean_squared_error: 0.0559\n",
      "\n",
      "Epoch 00063: mean_squared_error did not improve\n",
      "Epoch 64/100\n",
      "46/46 [==============================] - 26s 568ms/step - loss: 0.0500 - mean_squared_error: 0.0500\n",
      "\n",
      "Epoch 00064: mean_squared_error improved from 0.05403 to 0.05004, saving model to weights-improvement-64-0.05.hdf5\n",
      "Epoch 65/100\n",
      "46/46 [==============================] - 26s 563ms/step - loss: 0.0534 - mean_squared_error: 0.0534\n",
      "\n",
      "Epoch 00065: mean_squared_error did not improve\n",
      "Epoch 66/100\n",
      "46/46 [==============================] - 26s 562ms/step - loss: 0.0500 - mean_squared_error: 0.0500\n",
      "\n",
      "Epoch 00066: mean_squared_error improved from 0.05004 to 0.05004, saving model to weights-improvement-66-0.05.hdf5\n",
      "Epoch 67/100\n",
      "46/46 [==============================] - 26s 556ms/step - loss: 0.0475 - mean_squared_error: 0.0475\n",
      "\n",
      "Epoch 00067: mean_squared_error improved from 0.05004 to 0.04752, saving model to weights-improvement-67-0.05.hdf5\n",
      "Epoch 68/100\n",
      "46/46 [==============================] - 26s 568ms/step - loss: 0.0501 - mean_squared_error: 0.0501\n",
      "\n",
      "Epoch 00068: mean_squared_error did not improve\n",
      "Epoch 69/100\n",
      "46/46 [==============================] - 25s 550ms/step - loss: 0.0469 - mean_squared_error: 0.0469\n",
      "\n",
      "Epoch 00069: mean_squared_error improved from 0.04752 to 0.04689, saving model to weights-improvement-69-0.05.hdf5\n",
      "Epoch 70/100\n",
      "46/46 [==============================] - 25s 554ms/step - loss: 0.0445 - mean_squared_error: 0.0445\n",
      "\n",
      "Epoch 00070: mean_squared_error improved from 0.04689 to 0.04447, saving model to weights-improvement-70-0.04.hdf5\n",
      "Epoch 71/100\n",
      "46/46 [==============================] - 26s 570ms/step - loss: 0.0417 - mean_squared_error: 0.0417\n",
      "\n",
      "Epoch 00071: mean_squared_error improved from 0.04447 to 0.04168, saving model to weights-improvement-71-0.04.hdf5\n",
      "Epoch 72/100\n",
      "46/46 [==============================] - 26s 567ms/step - loss: 0.0464 - mean_squared_error: 0.0464\n",
      "\n",
      "Epoch 00072: mean_squared_error did not improve\n",
      "Epoch 73/100\n",
      "46/46 [==============================] - 26s 566ms/step - loss: 0.0446 - mean_squared_error: 0.0446\n",
      "\n",
      "Epoch 00073: mean_squared_error did not improve\n",
      "Epoch 74/100\n",
      "46/46 [==============================] - 26s 576ms/step - loss: 0.0416 - mean_squared_error: 0.0416\n",
      "\n",
      "Epoch 00074: mean_squared_error improved from 0.04168 to 0.04155, saving model to weights-improvement-74-0.04.hdf5\n",
      "Epoch 75/100\n",
      "46/46 [==============================] - 26s 566ms/step - loss: 0.0447 - mean_squared_error: 0.0447\n",
      "\n",
      "Epoch 00075: mean_squared_error did not improve\n",
      "Epoch 76/100\n",
      "46/46 [==============================] - 26s 556ms/step - loss: 0.0393 - mean_squared_error: 0.0393\n",
      "\n",
      "Epoch 00076: mean_squared_error improved from 0.04155 to 0.03929, saving model to weights-improvement-76-0.04.hdf5\n",
      "Epoch 77/100\n",
      "46/46 [==============================] - 26s 571ms/step - loss: 0.0382 - mean_squared_error: 0.0382\n",
      "\n",
      "Epoch 00077: mean_squared_error improved from 0.03929 to 0.03816, saving model to weights-improvement-77-0.04.hdf5\n",
      "Epoch 78/100\n",
      "46/46 [==============================] - 26s 568ms/step - loss: 0.0378 - mean_squared_error: 0.0378\n",
      "\n",
      "Epoch 00078: mean_squared_error improved from 0.03816 to 0.03784, saving model to weights-improvement-78-0.04.hdf5\n",
      "Epoch 79/100\n",
      "46/46 [==============================] - 26s 564ms/step - loss: 0.0395 - mean_squared_error: 0.0395\n",
      "\n",
      "Epoch 00079: mean_squared_error did not improve\n",
      "Epoch 80/100\n",
      "46/46 [==============================] - 25s 550ms/step - loss: 0.0363 - mean_squared_error: 0.0363\n",
      "\n",
      "Epoch 00080: mean_squared_error improved from 0.03784 to 0.03627, saving model to weights-improvement-80-0.04.hdf5\n",
      "Epoch 81/100\n"
     ]
    },
    {
     "name": "stdout",
     "output_type": "stream",
     "text": [
      "46/46 [==============================] - 26s 563ms/step - loss: 0.0375 - mean_squared_error: 0.0375\n",
      "\n",
      "Epoch 00081: mean_squared_error did not improve\n",
      "Epoch 82/100\n",
      "46/46 [==============================] - 26s 559ms/step - loss: 0.0332 - mean_squared_error: 0.0332\n",
      "\n",
      "Epoch 00082: mean_squared_error improved from 0.03627 to 0.03320, saving model to weights-improvement-82-0.03.hdf5\n",
      "Epoch 83/100\n",
      "46/46 [==============================] - 25s 548ms/step - loss: 0.0371 - mean_squared_error: 0.0371\n",
      "\n",
      "Epoch 00083: mean_squared_error did not improve\n",
      "Epoch 84/100\n",
      "46/46 [==============================] - 26s 565ms/step - loss: 0.0343 - mean_squared_error: 0.0343\n",
      "\n",
      "Epoch 00084: mean_squared_error did not improve\n",
      "Epoch 85/100\n",
      "46/46 [==============================] - 26s 563ms/step - loss: 0.0334 - mean_squared_error: 0.0334\n",
      "\n",
      "Epoch 00085: mean_squared_error did not improve\n",
      "Epoch 86/100\n",
      "46/46 [==============================] - 26s 561ms/step - loss: 0.0318 - mean_squared_error: 0.0318\n",
      "\n",
      "Epoch 00086: mean_squared_error improved from 0.03320 to 0.03178, saving model to weights-improvement-86-0.03.hdf5\n",
      "Epoch 87/100\n",
      "46/46 [==============================] - 26s 558ms/step - loss: 0.0302 - mean_squared_error: 0.0302\n",
      "\n",
      "Epoch 00087: mean_squared_error improved from 0.03178 to 0.03016, saving model to weights-improvement-87-0.03.hdf5\n",
      "Epoch 88/100\n",
      "46/46 [==============================] - 26s 561ms/step - loss: 0.0321 - mean_squared_error: 0.0321\n",
      "\n",
      "Epoch 00088: mean_squared_error did not improve\n",
      "Epoch 89/100\n",
      "46/46 [==============================] - 26s 565ms/step - loss: 0.0294 - mean_squared_error: 0.0294\n",
      "\n",
      "Epoch 00089: mean_squared_error improved from 0.03016 to 0.02940, saving model to weights-improvement-89-0.03.hdf5\n",
      "Epoch 90/100\n",
      "46/46 [==============================] - 26s 563ms/step - loss: 0.0324 - mean_squared_error: 0.0324\n",
      "\n",
      "Epoch 00090: mean_squared_error did not improve\n",
      "Epoch 91/100\n",
      "46/46 [==============================] - 26s 573ms/step - loss: 0.0288 - mean_squared_error: 0.0288\n",
      "\n",
      "Epoch 00091: mean_squared_error improved from 0.02940 to 0.02882, saving model to weights-improvement-91-0.03.hdf5\n",
      "Epoch 92/100\n",
      "46/46 [==============================] - 26s 564ms/step - loss: 0.0298 - mean_squared_error: 0.0298\n",
      "\n",
      "Epoch 00092: mean_squared_error did not improve\n",
      "Epoch 93/100\n",
      "46/46 [==============================] - 26s 564ms/step - loss: 0.0284 - mean_squared_error: 0.0284\n",
      "\n",
      "Epoch 00093: mean_squared_error improved from 0.02882 to 0.02844, saving model to weights-improvement-93-0.03.hdf5\n",
      "Epoch 94/100\n",
      "46/46 [==============================] - 26s 555ms/step - loss: 0.0285 - mean_squared_error: 0.0285\n",
      "\n",
      "Epoch 00094: mean_squared_error did not improve\n",
      "Epoch 95/100\n",
      "46/46 [==============================] - 26s 563ms/step - loss: 0.0267 - mean_squared_error: 0.0267\n",
      "\n",
      "Epoch 00095: mean_squared_error improved from 0.02844 to 0.02672, saving model to weights-improvement-95-0.03.hdf5\n",
      "Epoch 96/100\n",
      "46/46 [==============================] - 26s 565ms/step - loss: 0.0275 - mean_squared_error: 0.0275\n",
      "\n",
      "Epoch 00096: mean_squared_error did not improve\n",
      "Epoch 97/100\n",
      "46/46 [==============================] - 26s 568ms/step - loss: 0.0253 - mean_squared_error: 0.0253\n",
      "\n",
      "Epoch 00097: mean_squared_error improved from 0.02672 to 0.02534, saving model to weights-improvement-97-0.03.hdf5\n",
      "Epoch 98/100\n",
      "46/46 [==============================] - 26s 567ms/step - loss: 0.0263 - mean_squared_error: 0.0263\n",
      "\n",
      "Epoch 00098: mean_squared_error did not improve\n",
      "Epoch 99/100\n",
      "46/46 [==============================] - 26s 573ms/step - loss: 0.0254 - mean_squared_error: 0.0254\n",
      "\n",
      "Epoch 00099: mean_squared_error did not improve\n",
      "Epoch 100/100\n",
      "46/46 [==============================] - 26s 569ms/step - loss: 0.0259 - mean_squared_error: 0.0259\n",
      "\n",
      "Epoch 00100: mean_squared_error did not improve\n"
     ]
    }
   ],
   "source": [
    "history = model.fit_generator(generator(batch_size=nb_batch), #validation_data=(valid_x, valid_y),\n",
    "                              epochs=nb_epochs,\n",
    "                              steps_per_epoch=len(train_ids)//nb_batch, \n",
    "                              callbacks=callbacks_list, \n",
    "                              verbose=1)"
   ]
  },
  {
   "cell_type": "code",
   "execution_count": 185,
   "metadata": {},
   "outputs": [
    {
     "name": "stdout",
     "output_type": "stream",
     "text": [
      "Training r2: 0.9028615587381965\n"
     ]
    }
   ],
   "source": [
    "train_pred = model.predict(bx)\n",
    "train_r2 = r2_score(y_pred=train_pred, y_true=by)\n",
    "print(\"Training r2: {:4}\".format(train_r2))"
   ]
  },
  {
   "cell_type": "code",
   "execution_count": 186,
   "metadata": {},
   "outputs": [
    {
     "data": {
      "image/png": "[encoded data removed]",
      "text/plain": [
       "<Figure size 432x288 with 1 Axes>"
      ]
     },
     "metadata": {},
     "output_type": "display_data"
    }
   ],
   "source": [
    "plt.plot(history.history['mean_squared_error'])\n",
    "plt.xlabel(\"Epochs\")\n",
    "plt.ylabel(\"Loss(MSE)\")\n",
    "# plt.legend([\"Validation\", \"Training\"])\n",
    "plt.show()"
   ]
  },
  {
   "cell_type": "code",
   "execution_count": 49,
   "metadata": {},
   "outputs": [],
   "source": [
    "# Get the model and load the last saved weights\n",
    "model = get_model()\n",
    "model = multi_gpu_model(model, gpus=nb_gpus)\n",
    "model.compile(optimizer=optimizers.adam(lr=l_rate),\n",
    "              loss='mean_squared_error',\n",
    "              metrics=[metrics.mse])\n",
    "model.load_weights(\"weights-improvement-99-2.70.hdf5\")"
   ]
  },
  {
   "cell_type": "code",
   "execution_count": 79,
   "metadata": {},
   "outputs": [],
   "source": [
    "# model.save_weights(\"model-weights-40-2.28.hdf5\")"
   ]
  },
  {
   "cell_type": "code",
   "execution_count": 80,
   "metadata": {},
   "outputs": [],
   "source": [
    "sample_ids = train_ids[:50]"
   ]
  },
  {
   "cell_type": "code",
   "execution_count": 81,
   "metadata": {},
   "outputs": [],
   "source": [
    "sample_train_x = x_data[sample_ids]"
   ]
  },
  {
   "cell_type": "code",
   "execution_count": 82,
   "metadata": {},
   "outputs": [],
   "source": [
    "sample_train_y = y_data[sample_ids]"
   ]
  },
  {
   "cell_type": "code",
   "execution_count": 83,
   "metadata": {},
   "outputs": [
    {
     "name": "stdout",
     "output_type": "stream",
     "text": [
      "Training accuracy: 0.37042845648379974\n"
     ]
    }
   ],
   "source": [
    "train_pred = model.predict(sample_train_x)\n",
    "train_r2 = r2_score(y_pred=train_pred, y_true=sample_train_y)\n",
    "print(\"Training accuracy: {:4}\".format(train_r2))"
   ]
  },
  {
   "cell_type": "markdown",
   "metadata": {},
   "source": [
    "Test performance"
   ]
  },
  {
   "cell_type": "code",
   "execution_count": 197,
   "metadata": {},
   "outputs": [],
   "source": [
    "test_x, test_y = data_x[test_ids], data_y[test_ids]"
   ]
  },
  {
   "cell_type": "code",
   "execution_count": 198,
   "metadata": {},
   "outputs": [
    {
     "data": {
      "text/plain": [
       "0.15241912108523437"
      ]
     },
     "execution_count": 198,
     "metadata": {},
     "output_type": "execute_result"
    }
   ],
   "source": [
    "pred = model.predict(test_x)\n",
    "r2 = r2_score(y_pred=pred, y_true=test_y)\n",
    "r2"
   ]
  },
  {
   "cell_type": "code",
   "execution_count": null,
   "metadata": {},
   "outputs": [],
   "source": []
  }
 ],
 "metadata": {
  "kernelspec": {
   "display_name": "Python 3",
   "language": "python",
   "name": "python3"
  },
  "language_info": {
   "codemirror_mode": {
    "name": "ipython",
    "version": 3
   },
   "file_extension": ".py",
   "mimetype": "text/x-python",
   "name": "python",
   "nbconvert_exporter": "python",
   "pygments_lexer": "ipython3",
   "version": "3.6.4"
  }
 },
 "nbformat": 4,
 "nbformat_minor": 2
}
