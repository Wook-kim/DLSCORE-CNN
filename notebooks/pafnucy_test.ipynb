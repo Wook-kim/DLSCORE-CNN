{
 "cells": [
  {
   "cell_type": "markdown",
   "metadata": {},
   "source": [
    "## Training"
   ]
  },
  {
   "cell_type": "code",
   "execution_count": 1,
   "metadata": {},
   "outputs": [
    {
     "name": "stderr",
     "output_type": "stream",
     "text": [
      "Using TensorFlow backend.\n"
     ]
    }
   ],
   "source": [
    "from keras.models import Sequential,Model\n",
    "from keras.layers import Dropout, Flatten, Dense, Input, Add, merge, concatenate\n",
    "from keras.layers.convolutional import Conv3D\n",
    "from keras.layers.pooling import MaxPooling3D, GlobalAveragePooling3D, AveragePooling3D\n",
    "from keras import metrics\n",
    "from keras import optimizers\n",
    "from keras.utils import plot_model\n",
    "from keras import backend as K\n",
    "from keras.utils.training_utils import multi_gpu_model\n",
    "from keras.utils.data_utils import Sequence\n",
    "from keras.callbacks import ModelCheckpoint\n",
    "from keras.initializers import he_uniform\n",
    "from keras.initializers import glorot_uniform\n",
    "\n",
    "\n",
    "import os\n",
    "import numpy as np\n",
    "import sys\n",
    "import h5py\n",
    "import matplotlib.pyplot as plt\n",
    "%matplotlib inline\n",
    "\n",
    "sys.path.append(\"models/\")\n",
    "sys.path.append(\"scripts/\")"
   ]
  },
  {
   "cell_type": "code",
   "execution_count": 17,
   "metadata": {},
   "outputs": [],
   "source": [
    "from my_classes import DataGenerator, AugmentedDataGenerator"
   ]
  },
  {
   "cell_type": "code",
   "execution_count": 3,
   "metadata": {},
   "outputs": [
    {
     "name": "stdout",
     "output_type": "stream",
     "text": [
      "(3231, 21, 21, 21, 19) (3231,) (404, 21, 21, 21, 19) (404,) (404, 21, 21, 21, 19) (404,)\n"
     ]
    }
   ],
   "source": [
    "# Load the data\n",
    "h5f = h5py.File('data_pafnucy_features', 'r')\n",
    "train_x, train_y = h5f['train_x'][:], h5f['train_y'][:]\n",
    "test_x, test_y = h5f['test_x'][:], h5f['test_y'][:]\n",
    "valid_x, valid_y = h5f['valid_x'][:], h5f['valid_y'][:]\n",
    "h5f.close()\n",
    "\n",
    "print(train_x.shape, train_y.shape, test_x.shape, test_y.shape, valid_x.shape, valid_y.shape)"
   ]
  },
  {
   "cell_type": "code",
   "execution_count": 5,
   "metadata": {},
   "outputs": [],
   "source": [
    "# from IPython.display import SVG\n",
    "# from keras.utils.vis_utils import plot_model, model_to_dot\n",
    "# model_input = Input(shape=(24, 24, 24, 16))\n",
    "# squeeze_model = Model(inputs=model_input, outputs=Squeeze_model(model_input))\n",
    "# #plot_model(squeeze_model, to_file='model_plot.png', show_shapes=True, show_layer_names=True)\n",
    "# SVG(model_to_dot(squeeze_model, show_layer_names=True, show_shapes=True).create(prog='dot', format='svg'))\n",
    "# # plot_model(get_model4((24, 24, 24, 16)))"
   ]
  },
  {
   "cell_type": "code",
   "execution_count": 6,
   "metadata": {},
   "outputs": [],
   "source": [
    "# Training parameters\n",
    "nb_gpus = 4\n",
    "nb_batch = nb_gpus*4\n",
    "nb_epochs = 200\n",
    "l_rate = 1e-5\n",
    "#decay_rate = l_rate / nb_epochs"
   ]
  },
  {
   "cell_type": "code",
   "execution_count": 18,
   "metadata": {},
   "outputs": [],
   "source": [
    "data_gen = AugmentedDataGenerator(x=train_x, y=train_y, batch_size=nb_batch)\n",
    "val_gen = DataGenerator(x=train_x, y=train_y, batch_size=nb_batch)"
   ]
  },
  {
   "cell_type": "code",
   "execution_count": 19,
   "metadata": {},
   "outputs": [],
   "source": [
    "# data_gen = DataGenerator(x=train_x, y=train_y, batch_size=nb_batch)\n",
    "# val_gen = DataGenerator(x=valid_x, y=valid_y, batch_size=nb_batch)"
   ]
  },
  {
   "cell_type": "code",
   "execution_count": 20,
   "metadata": {},
   "outputs": [],
   "source": [
    "# Build the model and train\n",
    "model_input = Input(shape=(21, 21, 21, 19))\n",
    "pafnucy_model = Model(inputs=model_input, outputs=pafnucy_model(model_input))\n",
    "model = multi_gpu_model(pafnucy_model, gpus=nb_gpus)\n",
    "decay_rate = l_rate / nb_epochs\n",
    "model.compile(optimizer=optimizers.adam(lr=l_rate), #, beta_1=0.99, beta_2=0.999),\n",
    "              loss='mean_absolute_error')\n",
    "              #target_tensors=[staging_area_callback.target_tensor],\n",
    "              #fetches=staging_area_callback.extra_ops)"
   ]
  },
  {
   "cell_type": "code",
   "execution_count": 21,
   "metadata": {},
   "outputs": [],
   "source": [
    "from keras.callbacks import EarlyStopping, ReduceLROnPlateau\n",
    "callbacks_list = [EarlyStopping(monitor='val_loss', patience=10)]#, \n",
    "                  #ReduceLROnPlateau(patience=5, verbose=1)]"
   ]
  },
  {
   "cell_type": "code",
   "execution_count": 22,
   "metadata": {},
   "outputs": [
    {
     "name": "stdout",
     "output_type": "stream",
     "text": [
      "(384, 21, 21, 21, 19) (384,)\n"
     ]
    }
   ],
   "source": [
    "for x, y in data_gen:\n",
    "    print(x.shape, y.shape)\n",
    "    break"
   ]
  },
  {
   "cell_type": "code",
   "execution_count": null,
   "metadata": {},
   "outputs": [
    {
     "name": "stdout",
     "output_type": "stream",
     "text": [
      "Epoch 1/200\n",
      "201/201 [==============================] - 535s 3s/step - loss: 1.5451 - val_loss: 1.2668\n",
      "Epoch 2/200\n",
      "201/201 [==============================] - 527s 3s/step - loss: 1.5426 - val_loss: 1.2382\n",
      "Epoch 3/200\n",
      "201/201 [==============================] - 537s 3s/step - loss: 1.5246 - val_loss: 1.2507\n",
      "Epoch 4/200\n",
      "201/201 [==============================] - 524s 3s/step - loss: 1.4974 - val_loss: 1.2386\n",
      "Epoch 5/200\n",
      "201/201 [==============================] - 525s 3s/step - loss: 1.5279 - val_loss: 1.2784\n",
      "Epoch 6/200\n",
      "201/201 [==============================] - 527s 3s/step - loss: 1.5226 - val_loss: 1.2782\n",
      "Epoch 7/200\n",
      "201/201 [==============================] - 553s 3s/step - loss: 1.5071 - val_loss: 1.2550\n",
      "Epoch 8/200\n",
      "201/201 [==============================] - 534s 3s/step - loss: 1.4988 - val_loss: 1.3003\n",
      "Epoch 9/200\n",
      "102/201 [==============>...............] - ETA: 4:24 - loss: 1.5303"
     ]
    }
   ],
   "source": [
    "history = model.fit_generator(generator=data_gen, validation_data=val_gen,\n",
    "                              use_multiprocessing=False, \n",
    "                              epochs=nb_epochs, \n",
    "                              max_queue_size=10, \n",
    "                              workers=56, \n",
    "                              verbose=1, \n",
    "                              callbacks=callbacks_list)"
   ]
  },
  {
   "cell_type": "code",
   "execution_count": 71,
   "metadata": {},
   "outputs": [],
   "source": [
    "# Save the weights\n",
    "# model.save_weights('weights/weights_original.h5')"
   ]
  },
  {
   "cell_type": "code",
   "execution_count": 72,
   "metadata": {},
   "outputs": [],
   "source": [
    "# model.load_weights(\"weights/weights-original.h5\")"
   ]
  },
  {
   "cell_type": "code",
   "execution_count": 13,
   "metadata": {},
   "outputs": [
    {
     "data": {
      "image/png": "[encoded data removed]",
      "text/plain": [
       "<Figure size 432x288 with 1 Axes>"
      ]
     },
     "metadata": {},
     "output_type": "display_data"
    }
   ],
   "source": [
    "# First 100 epochs\n",
    "plt.figure()\n",
    "plt.plot(history.history['loss'])\n",
    "plt.show()"
   ]
  },
  {
   "cell_type": "code",
   "execution_count": 14,
   "metadata": {},
   "outputs": [],
   "source": [
    "from sklearn.metrics import r2_score"
   ]
  },
  {
   "cell_type": "code",
   "execution_count": 15,
   "metadata": {},
   "outputs": [
    {
     "name": "stdout",
     "output_type": "stream",
     "text": [
      "Train r2:  0.405247568849\n"
     ]
    }
   ],
   "source": [
    "#train_r2 = r2_score(y_true=train_y, y_pred=model.predict(train_x))\n",
    "train_r2 = r2_score(y_true=train_y, y_pred=model.predict(train_x))\n",
    "print(\"Train r2: \", train_r2)"
   ]
  },
  {
   "cell_type": "code",
   "execution_count": 16,
   "metadata": {},
   "outputs": [
    {
     "name": "stdout",
     "output_type": "stream",
     "text": [
      "Train r2:  0.346484938988\n"
     ]
    }
   ],
   "source": [
    "#train_r2 = r2_score(y_true=train_y, y_pred=model.predict(train_x))\n",
    "train_r2 = r2_score(y_true=test_y, y_pred=model.predict(test_x))\n",
    "print(\"Train r2: \", train_r2)"
   ]
  },
  {
   "cell_type": "code",
   "execution_count": 9,
   "metadata": {},
   "outputs": [],
   "source": [
    "# %load models/models.py\n",
    "from keras.models import Sequential,Model\n",
    "from keras.layers import Dropout, Flatten, Dense, Input, Add, merge, concatenate\n",
    "from keras.layers.convolutional import Conv3D\n",
    "from keras.layers.pooling import MaxPooling3D, GlobalAveragePooling3D, AveragePooling3D\n",
    "from keras.initializers import he_uniform\n",
    "from keras.initializers import glorot_uniform, truncated_normal\n",
    "from keras import regularizers\n",
    "\n",
    "def pafnucy_model(input_tensor):\n",
    "    x = Conv3D(filters=64, kernel_regularizer=regularizers.l2(0.001),\n",
    "               kernel_size=(5, 5, 5),\n",
    "               strides = (2, 2, 2),\n",
    "               padding='same',\n",
    "               activation='relu',\n",
    "               kernel_initializer=truncated_normal(mean=0.0, stddev=0.001))(input_tensor)\n",
    "    \n",
    "    maxpool = MaxPooling3D(pool_size=(2, 2, 2))(x)\n",
    "    x = Conv3D(filters=128, kernel_size=(5, 5, 5), strides=(2, 2, 2),  kernel_regularizer=regularizers.l2(0.001), kernel_initializer=truncated_normal(mean=0.0, stddev=0.001), padding='same', activation='relu', name=\"fire6_squeeze\")(maxpool)\n",
    "    maxpool = MaxPooling3D(pool_size=(2, 2, 2))(x)\n",
    "    x = Conv3D(filters=256, kernel_size=(5, 5, 5), strides=(2, 2, 2),  kernel_regularizer=regularizers.l2(0.001), kernel_initializer=truncated_normal(mean=0.0, stddev=0.001), padding='same', activation='relu', name=\"fire7_squeeze\")(maxpool)\n",
    "    #maxpool = MaxPooling3D(pool_size=(2, 2, 2))(x)\n",
    "    flatten = Flatten(name=\"flatten\")(x)\n",
    "    x = Dense(1000, activation='relu', kernel_regularizer=regularizers.l2(0.001), kernel_initializer=truncated_normal(mean=0.0, stddev=0.001))(flatten)\n",
    "    x = Dropout(rate=0.5)(x)\n",
    "    x = Dense(500, activation='relu', kernel_regularizer=regularizers.l2(0.001), kernel_initializer=truncated_normal(mean=0.0, stddev=0.001))(x)\n",
    "    x = Dropout(rate=0.5)(x)\n",
    "    x = Dense(200, activation='relu', kernel_regularizer=regularizers.l2(0.001), kernel_initializer=truncated_normal(mean=0.0, stddev=0.001))(x)\n",
    "    x = Dropout(rate=0.5)(x)\n",
    "    output = Dense(1, activation='linear', kernel_initializer=truncated_normal(mean=0.0, stddev=0.001))(x)\n",
    "    \n",
    "    #model = Model(input_tensor, output)\n",
    "    \n",
    "    return output"
   ]
  },
  {
   "cell_type": "code",
   "execution_count": 8,
   "metadata": {},
   "outputs": [
    {
     "data": {
      "image/svg+xml": [
       "<svg height=\"1134pt\" viewBox=\"0.00 0.00 409.00 1134.00\" width=\"409pt\" xmlns=\"http://www.w3.org/2000/svg\" xmlns:xlink=\"http://www.w3.org/1999/xlink\">\n",
       "<g class=\"graph\" id=\"graph0\" transform=\"scale(1 1) rotate(0) translate(4 1130)\">\n",
       "<title>G</title>\n",
       "<polygon fill=\"#ffffff\" points=\"-4,4 -4,-1130 405,-1130 405,4 -4,4\" stroke=\"transparent\"/>\n",
       "<!-- 139671307628328 -->\n",
       "<g class=\"node\" id=\"node1\">\n",
       "<title>139671307628328</title>\n",
       "<polygon fill=\"none\" points=\"41,-1079.5 41,-1125.5 360,-1125.5 360,-1079.5 41,-1079.5\" stroke=\"#000000\"/>\n",
       "<text fill=\"#000000\" font-family=\"Times,serif\" font-size=\"14.00\" text-anchor=\"middle\" x=\"103.5\" y=\"-1098.8\">input_1: InputLayer</text>\n",
       "<polyline fill=\"none\" points=\"166,-1079.5 166,-1125.5 \" stroke=\"#000000\"/>\n",
       "<text fill=\"#000000\" font-family=\"Times,serif\" font-size=\"14.00\" text-anchor=\"middle\" x=\"193.5\" y=\"-1110.3\">input:</text>\n",
       "<polyline fill=\"none\" points=\"166,-1102.5 221,-1102.5 \" stroke=\"#000000\"/>\n",
       "<text fill=\"#000000\" font-family=\"Times,serif\" font-size=\"14.00\" text-anchor=\"middle\" x=\"193.5\" y=\"-1087.3\">output:</text>\n",
       "<polyline fill=\"none\" points=\"221,-1079.5 221,-1125.5 \" stroke=\"#000000\"/>\n",
       "<text fill=\"#000000\" font-family=\"Times,serif\" font-size=\"14.00\" text-anchor=\"middle\" x=\"290.5\" y=\"-1110.3\">(None, 21, 21, 21, 19)</text>\n",
       "<polyline fill=\"none\" points=\"221,-1102.5 360,-1102.5 \" stroke=\"#000000\"/>\n",
       "<text fill=\"#000000\" font-family=\"Times,serif\" font-size=\"14.00\" text-anchor=\"middle\" x=\"290.5\" y=\"-1087.3\">(None, 21, 21, 21, 19)</text>\n",
       "</g>\n",
       "<!-- 139671307627488 -->\n",
       "<g class=\"node\" id=\"node2\">\n",
       "<title>139671307627488</title>\n",
       "<polygon fill=\"none\" points=\"42,-996.5 42,-1042.5 359,-1042.5 359,-996.5 42,-996.5\" stroke=\"#000000\"/>\n",
       "<text fill=\"#000000\" font-family=\"Times,serif\" font-size=\"14.00\" text-anchor=\"middle\" x=\"103.5\" y=\"-1015.8\">conv3d_1: Conv3D</text>\n",
       "<polyline fill=\"none\" points=\"165,-996.5 165,-1042.5 \" stroke=\"#000000\"/>\n",
       "<text fill=\"#000000\" font-family=\"Times,serif\" font-size=\"14.00\" text-anchor=\"middle\" x=\"192.5\" y=\"-1027.3\">input:</text>\n",
       "<polyline fill=\"none\" points=\"165,-1019.5 220,-1019.5 \" stroke=\"#000000\"/>\n",
       "<text fill=\"#000000\" font-family=\"Times,serif\" font-size=\"14.00\" text-anchor=\"middle\" x=\"192.5\" y=\"-1004.3\">output:</text>\n",
       "<polyline fill=\"none\" points=\"220,-996.5 220,-1042.5 \" stroke=\"#000000\"/>\n",
       "<text fill=\"#000000\" font-family=\"Times,serif\" font-size=\"14.00\" text-anchor=\"middle\" x=\"289.5\" y=\"-1027.3\">(None, 21, 21, 21, 19)</text>\n",
       "<polyline fill=\"none\" points=\"220,-1019.5 359,-1019.5 \" stroke=\"#000000\"/>\n",
       "<text fill=\"#000000\" font-family=\"Times,serif\" font-size=\"14.00\" text-anchor=\"middle\" x=\"289.5\" y=\"-1004.3\">(None, 11, 11, 11, 64)</text>\n",
       "</g>\n",
       "<!-- 139671307628328&#45;&gt;139671307627488 -->\n",
       "<g class=\"edge\" id=\"edge1\">\n",
       "<title>139671307628328-&gt;139671307627488</title>\n",
       "<path d=\"M200.5,-1079.3799C200.5,-1071.1745 200.5,-1061.7679 200.5,-1052.8786\" fill=\"none\" stroke=\"#000000\"/>\n",
       "<polygon fill=\"#000000\" points=\"204.0001,-1052.784 200.5,-1042.784 197.0001,-1052.784 204.0001,-1052.784\" stroke=\"#000000\"/>\n",
       "</g>\n",
       "<!-- 139671308025416 -->\n",
       "<g class=\"node\" id=\"node3\">\n",
       "<title>139671308025416</title>\n",
       "<polygon fill=\"none\" points=\"0,-913.5 0,-959.5 401,-959.5 401,-913.5 0,-913.5\" stroke=\"#000000\"/>\n",
       "<text fill=\"#000000\" font-family=\"Times,serif\" font-size=\"14.00\" text-anchor=\"middle\" x=\"103.5\" y=\"-932.8\">max_pooling3d_1: MaxPooling3D</text>\n",
       "<polyline fill=\"none\" points=\"207,-913.5 207,-959.5 \" stroke=\"#000000\"/>\n",
       "<text fill=\"#000000\" font-family=\"Times,serif\" font-size=\"14.00\" text-anchor=\"middle\" x=\"234.5\" y=\"-944.3\">input:</text>\n",
       "<polyline fill=\"none\" points=\"207,-936.5 262,-936.5 \" stroke=\"#000000\"/>\n",
       "<text fill=\"#000000\" font-family=\"Times,serif\" font-size=\"14.00\" text-anchor=\"middle\" x=\"234.5\" y=\"-921.3\">output:</text>\n",
       "<polyline fill=\"none\" points=\"262,-913.5 262,-959.5 \" stroke=\"#000000\"/>\n",
       "<text fill=\"#000000\" font-family=\"Times,serif\" font-size=\"14.00\" text-anchor=\"middle\" x=\"331.5\" y=\"-944.3\">(None, 11, 11, 11, 64)</text>\n",
       "<polyline fill=\"none\" points=\"262,-936.5 401,-936.5 \" stroke=\"#000000\"/>\n",
       "<text fill=\"#000000\" font-family=\"Times,serif\" font-size=\"14.00\" text-anchor=\"middle\" x=\"331.5\" y=\"-921.3\">(None, 5, 5, 5, 64)</text>\n",
       "</g>\n",
       "<!-- 139671307627488&#45;&gt;139671308025416 -->\n",
       "<g class=\"edge\" id=\"edge2\">\n",
       "<title>139671307627488-&gt;139671308025416</title>\n",
       "<path d=\"M200.5,-996.3799C200.5,-988.1745 200.5,-978.7679 200.5,-969.8786\" fill=\"none\" stroke=\"#000000\"/>\n",
       "<polygon fill=\"#000000\" points=\"204.0001,-969.784 200.5,-959.784 197.0001,-969.784 204.0001,-969.784\" stroke=\"#000000\"/>\n",
       "</g>\n",
       "<!-- 139668464524816 -->\n",
       "<g class=\"node\" id=\"node4\">\n",
       "<title>139668464524816</title>\n",
       "<polygon fill=\"none\" points=\"38,-830.5 38,-876.5 363,-876.5 363,-830.5 38,-830.5\" stroke=\"#000000\"/>\n",
       "<text fill=\"#000000\" font-family=\"Times,serif\" font-size=\"14.00\" text-anchor=\"middle\" x=\"110.5\" y=\"-849.8\">fire6_squeeze: Conv3D</text>\n",
       "<polyline fill=\"none\" points=\"183,-830.5 183,-876.5 \" stroke=\"#000000\"/>\n",
       "<text fill=\"#000000\" font-family=\"Times,serif\" font-size=\"14.00\" text-anchor=\"middle\" x=\"210.5\" y=\"-861.3\">input:</text>\n",
       "<polyline fill=\"none\" points=\"183,-853.5 238,-853.5 \" stroke=\"#000000\"/>\n",
       "<text fill=\"#000000\" font-family=\"Times,serif\" font-size=\"14.00\" text-anchor=\"middle\" x=\"210.5\" y=\"-838.3\">output:</text>\n",
       "<polyline fill=\"none\" points=\"238,-830.5 238,-876.5 \" stroke=\"#000000\"/>\n",
       "<text fill=\"#000000\" font-family=\"Times,serif\" font-size=\"14.00\" text-anchor=\"middle\" x=\"300.5\" y=\"-861.3\">(None, 5, 5, 5, 64)</text>\n",
       "<polyline fill=\"none\" points=\"238,-853.5 363,-853.5 \" stroke=\"#000000\"/>\n",
       "<text fill=\"#000000\" font-family=\"Times,serif\" font-size=\"14.00\" text-anchor=\"middle\" x=\"300.5\" y=\"-838.3\">(None, 3, 3, 3, 128)</text>\n",
       "</g>\n",
       "<!-- 139671308025416&#45;&gt;139668464524816 -->\n",
       "<g class=\"edge\" id=\"edge3\">\n",
       "<title>139671308025416-&gt;139668464524816</title>\n",
       "<path d=\"M200.5,-913.3799C200.5,-905.1745 200.5,-895.7679 200.5,-886.8786\" fill=\"none\" stroke=\"#000000\"/>\n",
       "<polygon fill=\"#000000\" points=\"204.0001,-886.784 200.5,-876.784 197.0001,-886.784 204.0001,-886.784\" stroke=\"#000000\"/>\n",
       "</g>\n",
       "<!-- 139668464522800 -->\n",
       "<g class=\"node\" id=\"node5\">\n",
       "<title>139668464522800</title>\n",
       "<polygon fill=\"none\" points=\"7,-747.5 7,-793.5 394,-793.5 394,-747.5 7,-747.5\" stroke=\"#000000\"/>\n",
       "<text fill=\"#000000\" font-family=\"Times,serif\" font-size=\"14.00\" text-anchor=\"middle\" x=\"110.5\" y=\"-766.8\">max_pooling3d_2: MaxPooling3D</text>\n",
       "<polyline fill=\"none\" points=\"214,-747.5 214,-793.5 \" stroke=\"#000000\"/>\n",
       "<text fill=\"#000000\" font-family=\"Times,serif\" font-size=\"14.00\" text-anchor=\"middle\" x=\"241.5\" y=\"-778.3\">input:</text>\n",
       "<polyline fill=\"none\" points=\"214,-770.5 269,-770.5 \" stroke=\"#000000\"/>\n",
       "<text fill=\"#000000\" font-family=\"Times,serif\" font-size=\"14.00\" text-anchor=\"middle\" x=\"241.5\" y=\"-755.3\">output:</text>\n",
       "<polyline fill=\"none\" points=\"269,-747.5 269,-793.5 \" stroke=\"#000000\"/>\n",
       "<text fill=\"#000000\" font-family=\"Times,serif\" font-size=\"14.00\" text-anchor=\"middle\" x=\"331.5\" y=\"-778.3\">(None, 3, 3, 3, 128)</text>\n",
       "<polyline fill=\"none\" points=\"269,-770.5 394,-770.5 \" stroke=\"#000000\"/>\n",
       "<text fill=\"#000000\" font-family=\"Times,serif\" font-size=\"14.00\" text-anchor=\"middle\" x=\"331.5\" y=\"-755.3\">(None, 1, 1, 1, 128)</text>\n",
       "</g>\n",
       "<!-- 139668464524816&#45;&gt;139668464522800 -->\n",
       "<g class=\"edge\" id=\"edge4\">\n",
       "<title>139668464524816-&gt;139668464522800</title>\n",
       "<path d=\"M200.5,-830.3799C200.5,-822.1745 200.5,-812.7679 200.5,-803.8786\" fill=\"none\" stroke=\"#000000\"/>\n",
       "<polygon fill=\"#000000\" points=\"204.0001,-803.784 200.5,-793.784 197.0001,-803.784 204.0001,-803.784\" stroke=\"#000000\"/>\n",
       "</g>\n",
       "<!-- 139668464684896 -->\n",
       "<g class=\"node\" id=\"node6\">\n",
       "<title>139668464684896</title>\n",
       "<polygon fill=\"none\" points=\"38,-664.5 38,-710.5 363,-710.5 363,-664.5 38,-664.5\" stroke=\"#000000\"/>\n",
       "<text fill=\"#000000\" font-family=\"Times,serif\" font-size=\"14.00\" text-anchor=\"middle\" x=\"110.5\" y=\"-683.8\">fire7_squeeze: Conv3D</text>\n",
       "<polyline fill=\"none\" points=\"183,-664.5 183,-710.5 \" stroke=\"#000000\"/>\n",
       "<text fill=\"#000000\" font-family=\"Times,serif\" font-size=\"14.00\" text-anchor=\"middle\" x=\"210.5\" y=\"-695.3\">input:</text>\n",
       "<polyline fill=\"none\" points=\"183,-687.5 238,-687.5 \" stroke=\"#000000\"/>\n",
       "<text fill=\"#000000\" font-family=\"Times,serif\" font-size=\"14.00\" text-anchor=\"middle\" x=\"210.5\" y=\"-672.3\">output:</text>\n",
       "<polyline fill=\"none\" points=\"238,-664.5 238,-710.5 \" stroke=\"#000000\"/>\n",
       "<text fill=\"#000000\" font-family=\"Times,serif\" font-size=\"14.00\" text-anchor=\"middle\" x=\"300.5\" y=\"-695.3\">(None, 1, 1, 1, 128)</text>\n",
       "<polyline fill=\"none\" points=\"238,-687.5 363,-687.5 \" stroke=\"#000000\"/>\n",
       "<text fill=\"#000000\" font-family=\"Times,serif\" font-size=\"14.00\" text-anchor=\"middle\" x=\"300.5\" y=\"-672.3\">(None, 1, 1, 1, 256)</text>\n",
       "</g>\n",
       "<!-- 139668464522800&#45;&gt;139668464684896 -->\n",
       "<g class=\"edge\" id=\"edge5\">\n",
       "<title>139668464522800-&gt;139668464684896</title>\n",
       "<path d=\"M200.5,-747.3799C200.5,-739.1745 200.5,-729.7679 200.5,-720.8786\" fill=\"none\" stroke=\"#000000\"/>\n",
       "<polygon fill=\"#000000\" points=\"204.0001,-720.784 200.5,-710.784 197.0001,-720.784 204.0001,-720.784\" stroke=\"#000000\"/>\n",
       "</g>\n",
       "<!-- 139668464734104 -->\n",
       "<g class=\"node\" id=\"node7\">\n",
       "<title>139668464734104</title>\n",
       "<polygon fill=\"none\" points=\"62.5,-581.5 62.5,-627.5 338.5,-627.5 338.5,-581.5 62.5,-581.5\" stroke=\"#000000\"/>\n",
       "<text fill=\"#000000\" font-family=\"Times,serif\" font-size=\"14.00\" text-anchor=\"middle\" x=\"110.5\" y=\"-600.8\">flatten: Flatten</text>\n",
       "<polyline fill=\"none\" points=\"158.5,-581.5 158.5,-627.5 \" stroke=\"#000000\"/>\n",
       "<text fill=\"#000000\" font-family=\"Times,serif\" font-size=\"14.00\" text-anchor=\"middle\" x=\"186\" y=\"-612.3\">input:</text>\n",
       "<polyline fill=\"none\" points=\"158.5,-604.5 213.5,-604.5 \" stroke=\"#000000\"/>\n",
       "<text fill=\"#000000\" font-family=\"Times,serif\" font-size=\"14.00\" text-anchor=\"middle\" x=\"186\" y=\"-589.3\">output:</text>\n",
       "<polyline fill=\"none\" points=\"213.5,-581.5 213.5,-627.5 \" stroke=\"#000000\"/>\n",
       "<text fill=\"#000000\" font-family=\"Times,serif\" font-size=\"14.00\" text-anchor=\"middle\" x=\"276\" y=\"-612.3\">(None, 1, 1, 1, 256)</text>\n",
       "<polyline fill=\"none\" points=\"213.5,-604.5 338.5,-604.5 \" stroke=\"#000000\"/>\n",
       "<text fill=\"#000000\" font-family=\"Times,serif\" font-size=\"14.00\" text-anchor=\"middle\" x=\"276\" y=\"-589.3\">(None, 256)</text>\n",
       "</g>\n",
       "<!-- 139668464684896&#45;&gt;139668464734104 -->\n",
       "<g class=\"edge\" id=\"edge6\">\n",
       "<title>139668464684896-&gt;139668464734104</title>\n",
       "<path d=\"M200.5,-664.3799C200.5,-656.1745 200.5,-646.7679 200.5,-637.8786\" fill=\"none\" stroke=\"#000000\"/>\n",
       "<polygon fill=\"#000000\" points=\"204.0001,-637.784 200.5,-627.784 197.0001,-637.784 204.0001,-637.784\" stroke=\"#000000\"/>\n",
       "</g>\n",
       "<!-- 139668464343920 -->\n",
       "<g class=\"node\" id=\"node8\">\n",
       "<title>139668464343920</title>\n",
       "<polygon fill=\"none\" points=\"77.5,-498.5 77.5,-544.5 323.5,-544.5 323.5,-498.5 77.5,-498.5\" stroke=\"#000000\"/>\n",
       "<text fill=\"#000000\" font-family=\"Times,serif\" font-size=\"14.00\" text-anchor=\"middle\" x=\"128.5\" y=\"-517.8\">dense_1: Dense</text>\n",
       "<polyline fill=\"none\" points=\"179.5,-498.5 179.5,-544.5 \" stroke=\"#000000\"/>\n",
       "<text fill=\"#000000\" font-family=\"Times,serif\" font-size=\"14.00\" text-anchor=\"middle\" x=\"207\" y=\"-529.3\">input:</text>\n",
       "<polyline fill=\"none\" points=\"179.5,-521.5 234.5,-521.5 \" stroke=\"#000000\"/>\n",
       "<text fill=\"#000000\" font-family=\"Times,serif\" font-size=\"14.00\" text-anchor=\"middle\" x=\"207\" y=\"-506.3\">output:</text>\n",
       "<polyline fill=\"none\" points=\"234.5,-498.5 234.5,-544.5 \" stroke=\"#000000\"/>\n",
       "<text fill=\"#000000\" font-family=\"Times,serif\" font-size=\"14.00\" text-anchor=\"middle\" x=\"279\" y=\"-529.3\">(None, 256)</text>\n",
       "<polyline fill=\"none\" points=\"234.5,-521.5 323.5,-521.5 \" stroke=\"#000000\"/>\n",
       "<text fill=\"#000000\" font-family=\"Times,serif\" font-size=\"14.00\" text-anchor=\"middle\" x=\"279\" y=\"-506.3\">(None, 1000)</text>\n",
       "</g>\n",
       "<!-- 139668464734104&#45;&gt;139668464343920 -->\n",
       "<g class=\"edge\" id=\"edge7\">\n",
       "<title>139668464734104-&gt;139668464343920</title>\n",
       "<path d=\"M200.5,-581.3799C200.5,-573.1745 200.5,-563.7679 200.5,-554.8786\" fill=\"none\" stroke=\"#000000\"/>\n",
       "<polygon fill=\"#000000\" points=\"204.0001,-554.784 200.5,-544.784 197.0001,-554.784 204.0001,-554.784\" stroke=\"#000000\"/>\n",
       "</g>\n",
       "<!-- 139668464414224 -->\n",
       "<g class=\"node\" id=\"node9\">\n",
       "<title>139668464414224</title>\n",
       "<polygon fill=\"none\" points=\"66,-415.5 66,-461.5 335,-461.5 335,-415.5 66,-415.5\" stroke=\"#000000\"/>\n",
       "<text fill=\"#000000\" font-family=\"Times,serif\" font-size=\"14.00\" text-anchor=\"middle\" x=\"128.5\" y=\"-434.8\">dropout_1: Dropout</text>\n",
       "<polyline fill=\"none\" points=\"191,-415.5 191,-461.5 \" stroke=\"#000000\"/>\n",
       "<text fill=\"#000000\" font-family=\"Times,serif\" font-size=\"14.00\" text-anchor=\"middle\" x=\"218.5\" y=\"-446.3\">input:</text>\n",
       "<polyline fill=\"none\" points=\"191,-438.5 246,-438.5 \" stroke=\"#000000\"/>\n",
       "<text fill=\"#000000\" font-family=\"Times,serif\" font-size=\"14.00\" text-anchor=\"middle\" x=\"218.5\" y=\"-423.3\">output:</text>\n",
       "<polyline fill=\"none\" points=\"246,-415.5 246,-461.5 \" stroke=\"#000000\"/>\n",
       "<text fill=\"#000000\" font-family=\"Times,serif\" font-size=\"14.00\" text-anchor=\"middle\" x=\"290.5\" y=\"-446.3\">(None, 1000)</text>\n",
       "<polyline fill=\"none\" points=\"246,-438.5 335,-438.5 \" stroke=\"#000000\"/>\n",
       "<text fill=\"#000000\" font-family=\"Times,serif\" font-size=\"14.00\" text-anchor=\"middle\" x=\"290.5\" y=\"-423.3\">(None, 1000)</text>\n",
       "</g>\n",
       "<!-- 139668464343920&#45;&gt;139668464414224 -->\n",
       "<g class=\"edge\" id=\"edge8\">\n",
       "<title>139668464343920-&gt;139668464414224</title>\n",
       "<path d=\"M200.5,-498.3799C200.5,-490.1745 200.5,-480.7679 200.5,-471.8786\" fill=\"none\" stroke=\"#000000\"/>\n",
       "<polygon fill=\"#000000\" points=\"204.0001,-471.784 200.5,-461.784 197.0001,-471.784 204.0001,-471.784\" stroke=\"#000000\"/>\n",
       "</g>\n",
       "<!-- 139668464414056 -->\n",
       "<g class=\"node\" id=\"node10\">\n",
       "<title>139668464414056</title>\n",
       "<polygon fill=\"none\" points=\"77.5,-332.5 77.5,-378.5 323.5,-378.5 323.5,-332.5 77.5,-332.5\" stroke=\"#000000\"/>\n",
       "<text fill=\"#000000\" font-family=\"Times,serif\" font-size=\"14.00\" text-anchor=\"middle\" x=\"128.5\" y=\"-351.8\">dense_2: Dense</text>\n",
       "<polyline fill=\"none\" points=\"179.5,-332.5 179.5,-378.5 \" stroke=\"#000000\"/>\n",
       "<text fill=\"#000000\" font-family=\"Times,serif\" font-size=\"14.00\" text-anchor=\"middle\" x=\"207\" y=\"-363.3\">input:</text>\n",
       "<polyline fill=\"none\" points=\"179.5,-355.5 234.5,-355.5 \" stroke=\"#000000\"/>\n",
       "<text fill=\"#000000\" font-family=\"Times,serif\" font-size=\"14.00\" text-anchor=\"middle\" x=\"207\" y=\"-340.3\">output:</text>\n",
       "<polyline fill=\"none\" points=\"234.5,-332.5 234.5,-378.5 \" stroke=\"#000000\"/>\n",
       "<text fill=\"#000000\" font-family=\"Times,serif\" font-size=\"14.00\" text-anchor=\"middle\" x=\"279\" y=\"-363.3\">(None, 1000)</text>\n",
       "<polyline fill=\"none\" points=\"234.5,-355.5 323.5,-355.5 \" stroke=\"#000000\"/>\n",
       "<text fill=\"#000000\" font-family=\"Times,serif\" font-size=\"14.00\" text-anchor=\"middle\" x=\"279\" y=\"-340.3\">(None, 500)</text>\n",
       "</g>\n",
       "<!-- 139668464414224&#45;&gt;139668464414056 -->\n",
       "<g class=\"edge\" id=\"edge9\">\n",
       "<title>139668464414224-&gt;139668464414056</title>\n",
       "<path d=\"M200.5,-415.3799C200.5,-407.1745 200.5,-397.7679 200.5,-388.8786\" fill=\"none\" stroke=\"#000000\"/>\n",
       "<polygon fill=\"#000000\" points=\"204.0001,-388.784 200.5,-378.784 197.0001,-388.784 204.0001,-388.784\" stroke=\"#000000\"/>\n",
       "</g>\n",
       "<!-- 139673541798040 -->\n",
       "<g class=\"node\" id=\"node11\">\n",
       "<title>139673541798040</title>\n",
       "<polygon fill=\"none\" points=\"69,-249.5 69,-295.5 332,-295.5 332,-249.5 69,-249.5\" stroke=\"#000000\"/>\n",
       "<text fill=\"#000000\" font-family=\"Times,serif\" font-size=\"14.00\" text-anchor=\"middle\" x=\"131.5\" y=\"-268.8\">dropout_2: Dropout</text>\n",
       "<polyline fill=\"none\" points=\"194,-249.5 194,-295.5 \" stroke=\"#000000\"/>\n",
       "<text fill=\"#000000\" font-family=\"Times,serif\" font-size=\"14.00\" text-anchor=\"middle\" x=\"221.5\" y=\"-280.3\">input:</text>\n",
       "<polyline fill=\"none\" points=\"194,-272.5 249,-272.5 \" stroke=\"#000000\"/>\n",
       "<text fill=\"#000000\" font-family=\"Times,serif\" font-size=\"14.00\" text-anchor=\"middle\" x=\"221.5\" y=\"-257.3\">output:</text>\n",
       "<polyline fill=\"none\" points=\"249,-249.5 249,-295.5 \" stroke=\"#000000\"/>\n",
       "<text fill=\"#000000\" font-family=\"Times,serif\" font-size=\"14.00\" text-anchor=\"middle\" x=\"290.5\" y=\"-280.3\">(None, 500)</text>\n",
       "<polyline fill=\"none\" points=\"249,-272.5 332,-272.5 \" stroke=\"#000000\"/>\n",
       "<text fill=\"#000000\" font-family=\"Times,serif\" font-size=\"14.00\" text-anchor=\"middle\" x=\"290.5\" y=\"-257.3\">(None, 500)</text>\n",
       "</g>\n",
       "<!-- 139668464414056&#45;&gt;139673541798040 -->\n",
       "<g class=\"edge\" id=\"edge10\">\n",
       "<title>139668464414056-&gt;139673541798040</title>\n",
       "<path d=\"M200.5,-332.3799C200.5,-324.1745 200.5,-314.7679 200.5,-305.8786\" fill=\"none\" stroke=\"#000000\"/>\n",
       "<polygon fill=\"#000000\" points=\"204.0001,-305.784 200.5,-295.784 197.0001,-305.784 204.0001,-305.784\" stroke=\"#000000\"/>\n",
       "</g>\n",
       "<!-- 139673604973792 -->\n",
       "<g class=\"node\" id=\"node12\">\n",
       "<title>139673604973792</title>\n",
       "<polygon fill=\"none\" points=\"80.5,-166.5 80.5,-212.5 320.5,-212.5 320.5,-166.5 80.5,-166.5\" stroke=\"#000000\"/>\n",
       "<text fill=\"#000000\" font-family=\"Times,serif\" font-size=\"14.00\" text-anchor=\"middle\" x=\"131.5\" y=\"-185.8\">dense_3: Dense</text>\n",
       "<polyline fill=\"none\" points=\"182.5,-166.5 182.5,-212.5 \" stroke=\"#000000\"/>\n",
       "<text fill=\"#000000\" font-family=\"Times,serif\" font-size=\"14.00\" text-anchor=\"middle\" x=\"210\" y=\"-197.3\">input:</text>\n",
       "<polyline fill=\"none\" points=\"182.5,-189.5 237.5,-189.5 \" stroke=\"#000000\"/>\n",
       "<text fill=\"#000000\" font-family=\"Times,serif\" font-size=\"14.00\" text-anchor=\"middle\" x=\"210\" y=\"-174.3\">output:</text>\n",
       "<polyline fill=\"none\" points=\"237.5,-166.5 237.5,-212.5 \" stroke=\"#000000\"/>\n",
       "<text fill=\"#000000\" font-family=\"Times,serif\" font-size=\"14.00\" text-anchor=\"middle\" x=\"279\" y=\"-197.3\">(None, 500)</text>\n",
       "<polyline fill=\"none\" points=\"237.5,-189.5 320.5,-189.5 \" stroke=\"#000000\"/>\n",
       "<text fill=\"#000000\" font-family=\"Times,serif\" font-size=\"14.00\" text-anchor=\"middle\" x=\"279\" y=\"-174.3\">(None, 200)</text>\n",
       "</g>\n",
       "<!-- 139673541798040&#45;&gt;139673604973792 -->\n",
       "<g class=\"edge\" id=\"edge11\">\n",
       "<title>139673541798040-&gt;139673604973792</title>\n",
       "<path d=\"M200.5,-249.3799C200.5,-241.1745 200.5,-231.7679 200.5,-222.8786\" fill=\"none\" stroke=\"#000000\"/>\n",
       "<polygon fill=\"#000000\" points=\"204.0001,-222.784 200.5,-212.784 197.0001,-222.784 204.0001,-222.784\" stroke=\"#000000\"/>\n",
       "</g>\n",
       "<!-- 139668463828104 -->\n",
       "<g class=\"node\" id=\"node13\">\n",
       "<title>139668463828104</title>\n",
       "<polygon fill=\"none\" points=\"69,-83.5 69,-129.5 332,-129.5 332,-83.5 69,-83.5\" stroke=\"#000000\"/>\n",
       "<text fill=\"#000000\" font-family=\"Times,serif\" font-size=\"14.00\" text-anchor=\"middle\" x=\"131.5\" y=\"-102.8\">dropout_3: Dropout</text>\n",
       "<polyline fill=\"none\" points=\"194,-83.5 194,-129.5 \" stroke=\"#000000\"/>\n",
       "<text fill=\"#000000\" font-family=\"Times,serif\" font-size=\"14.00\" text-anchor=\"middle\" x=\"221.5\" y=\"-114.3\">input:</text>\n",
       "<polyline fill=\"none\" points=\"194,-106.5 249,-106.5 \" stroke=\"#000000\"/>\n",
       "<text fill=\"#000000\" font-family=\"Times,serif\" font-size=\"14.00\" text-anchor=\"middle\" x=\"221.5\" y=\"-91.3\">output:</text>\n",
       "<polyline fill=\"none\" points=\"249,-83.5 249,-129.5 \" stroke=\"#000000\"/>\n",
       "<text fill=\"#000000\" font-family=\"Times,serif\" font-size=\"14.00\" text-anchor=\"middle\" x=\"290.5\" y=\"-114.3\">(None, 200)</text>\n",
       "<polyline fill=\"none\" points=\"249,-106.5 332,-106.5 \" stroke=\"#000000\"/>\n",
       "<text fill=\"#000000\" font-family=\"Times,serif\" font-size=\"14.00\" text-anchor=\"middle\" x=\"290.5\" y=\"-91.3\">(None, 200)</text>\n",
       "</g>\n",
       "<!-- 139673604973792&#45;&gt;139668463828104 -->\n",
       "<g class=\"edge\" id=\"edge12\">\n",
       "<title>139673604973792-&gt;139668463828104</title>\n",
       "<path d=\"M200.5,-166.3799C200.5,-158.1745 200.5,-148.7679 200.5,-139.8786\" fill=\"none\" stroke=\"#000000\"/>\n",
       "<polygon fill=\"#000000\" points=\"204.0001,-139.784 200.5,-129.784 197.0001,-139.784 204.0001,-139.784\" stroke=\"#000000\"/>\n",
       "</g>\n",
       "<!-- 139668463907560 -->\n",
       "<g class=\"node\" id=\"node14\">\n",
       "<title>139668463907560</title>\n",
       "<polygon fill=\"none\" points=\"80.5,-.5 80.5,-46.5 320.5,-46.5 320.5,-.5 80.5,-.5\" stroke=\"#000000\"/>\n",
       "<text fill=\"#000000\" font-family=\"Times,serif\" font-size=\"14.00\" text-anchor=\"middle\" x=\"131.5\" y=\"-19.8\">dense_4: Dense</text>\n",
       "<polyline fill=\"none\" points=\"182.5,-.5 182.5,-46.5 \" stroke=\"#000000\"/>\n",
       "<text fill=\"#000000\" font-family=\"Times,serif\" font-size=\"14.00\" text-anchor=\"middle\" x=\"210\" y=\"-31.3\">input:</text>\n",
       "<polyline fill=\"none\" points=\"182.5,-23.5 237.5,-23.5 \" stroke=\"#000000\"/>\n",
       "<text fill=\"#000000\" font-family=\"Times,serif\" font-size=\"14.00\" text-anchor=\"middle\" x=\"210\" y=\"-8.3\">output:</text>\n",
       "<polyline fill=\"none\" points=\"237.5,-.5 237.5,-46.5 \" stroke=\"#000000\"/>\n",
       "<text fill=\"#000000\" font-family=\"Times,serif\" font-size=\"14.00\" text-anchor=\"middle\" x=\"279\" y=\"-31.3\">(None, 200)</text>\n",
       "<polyline fill=\"none\" points=\"237.5,-23.5 320.5,-23.5 \" stroke=\"#000000\"/>\n",
       "<text fill=\"#000000\" font-family=\"Times,serif\" font-size=\"14.00\" text-anchor=\"middle\" x=\"279\" y=\"-8.3\">(None, 1)</text>\n",
       "</g>\n",
       "<!-- 139668463828104&#45;&gt;139668463907560 -->\n",
       "<g class=\"edge\" id=\"edge13\">\n",
       "<title>139668463828104-&gt;139668463907560</title>\n",
       "<path d=\"M200.5,-83.3799C200.5,-75.1745 200.5,-65.7679 200.5,-56.8786\" fill=\"none\" stroke=\"#000000\"/>\n",
       "<polygon fill=\"#000000\" points=\"204.0001,-56.784 200.5,-46.784 197.0001,-56.784 204.0001,-56.784\" stroke=\"#000000\"/>\n",
       "</g>\n",
       "</g>\n",
       "</svg>"
      ],
      "text/plain": [
       "<IPython.core.display.SVG object>"
      ]
     },
     "execution_count": 8,
     "metadata": {},
     "output_type": "execute_result"
    }
   ],
   "source": [
    "from IPython.display import SVG\n",
    "from keras.utils.vis_utils import plot_model, model_to_dot\n",
    "model_input = Input(shape=(21, 21, 21, 19))\n",
    "pafnucy_model = Model(inputs=model_input, outputs=pafnucy_model(model_input))\n",
    "#plot_model(squeeze_model, to_file='model_plot.png', show_shapes=True, show_layer_names=True)\n",
    "SVG(model_to_dot(pafnucy_model, show_layer_names=True, show_shapes=True).create(prog='dot', format='svg'))\n",
    "# plot_model(get_model4((24, 24, 24, 16)))"
   ]
  },
  {
   "cell_type": "code",
   "execution_count": null,
   "metadata": {},
   "outputs": [],
   "source": []
  }
 ],
 "metadata": {
  "kernelspec": {
   "display_name": "Python 3",
   "language": "python",
   "name": "python3"
  },
  "language_info": {
   "codemirror_mode": {
    "name": "ipython",
    "version": 3
   },
   "file_extension": ".py",
   "mimetype": "text/x-python",
   "name": "python",
   "nbconvert_exporter": "python",
   "pygments_lexer": "ipython3",
   "version": "3.5.5"
  }
 },
 "nbformat": 4,
 "nbformat_minor": 2
}
