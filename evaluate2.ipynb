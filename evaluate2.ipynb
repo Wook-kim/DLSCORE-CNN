{
 "cells": [
  {
   "cell_type": "code",
   "execution_count": 15,
   "metadata": {},
   "outputs": [],
   "source": [
    "import pickle\n",
    "import csv\n",
    "import numpy as np\n",
    "from keras.models import Sequential, Model\n",
    "from keras.layers import Dropout, Flatten, Dense, Input\n",
    "from keras.layers.convolutional import Conv3D\n",
    "from keras.layers.pooling import MaxPooling3D, GlobalAveragePooling3D, AveragePooling3D\n",
    "from keras.utils.training_utils import multi_gpu_model\n",
    "from keras.models import model_from_json\n",
    "from keras import metrics\n",
    "from keras.optimizers import SGD\n",
    "from keras import backend as K\n",
    "import json\n",
    "import os\n",
    "import bcolz as bc\n",
    "from tqdm import *\n",
    "import matplotlib.pyplot as plt\n",
    "from sklearn.metrics import r2_score"
   ]
  },
  {
   "cell_type": "code",
   "execution_count": 3,
   "metadata": {},
   "outputs": [],
   "source": [
    "%matplotlib inline"
   ]
  },
  {
   "cell_type": "code",
   "execution_count": 4,
   "metadata": {},
   "outputs": [],
   "source": [
    "# Generator method\n",
    "def generator(x, y, batch_size):\n",
    "    while(True):\n",
    "        rand_keys = np.random.choice(x.shape[0], batch_size)\n",
    "        yield x[rand_keys], y[rand_keys]"
   ]
  },
  {
   "cell_type": "code",
   "execution_count": 5,
   "metadata": {},
   "outputs": [
    {
     "name": "stdout",
     "output_type": "stream",
     "text": [
      "(1338, 170, 284, 247, 8) (1338,)\n"
     ]
    }
   ],
   "source": [
    "# Read data files\n",
    "data_path = 'data/x_train_std/'\n",
    "x_train = bc.open(data_path)\n",
    "with open('data/y_train_std.pickle', 'rb') as f:\n",
    "    y_train = pickle.load(f)\n",
    "y_train = np.array(y_train, dtype=np.float32)\n",
    "print(x_train.shape, y_train.shape)"
   ]
  },
  {
   "cell_type": "code",
   "execution_count": 6,
   "metadata": {},
   "outputs": [],
   "source": [
    "# bc_features = bc.open('data/bc_features/')\n",
    "# bc_features.shape"
   ]
  },
  {
   "cell_type": "code",
   "execution_count": 7,
   "metadata": {},
   "outputs": [],
   "source": [
    "# with open('data/pdb2idx.pickle', 'rb') as f:\n",
    "#     pdb2idx = pickle.load(f)\n",
    "# len(pdb2idx)"
   ]
  },
  {
   "cell_type": "code",
   "execution_count": 8,
   "metadata": {},
   "outputs": [],
   "source": [
    "# with open('data/idx2pdb.pickle', 'rb') as f:\n",
    "#     idx2pdb = pickle.load(f)\n",
    "# len(idx2pdb)"
   ]
  },
  {
   "cell_type": "code",
   "execution_count": 9,
   "metadata": {},
   "outputs": [],
   "source": [
    "# non_trained_ids = [_id for _id in pdb2idx.values() if _id not in idx2pdb.keys()]\n",
    "# len(non_trained_ids)"
   ]
  },
  {
   "cell_type": "code",
   "execution_count": 10,
   "metadata": {},
   "outputs": [],
   "source": [
    "# len(trained_pdbs)"
   ]
  },
  {
   "cell_type": "code",
   "execution_count": 11,
   "metadata": {},
   "outputs": [],
   "source": [
    "# Load the model\n",
    "with open('new/test_cnn_model.json', 'r') as f:\n",
    "    loaded_model = f.read()\n",
    "model = model_from_json(loaded_model)\n",
    "# model = multi_gpu_model(model, gpus=4)"
   ]
  },
  {
   "cell_type": "code",
   "execution_count": 12,
   "metadata": {},
   "outputs": [
    {
     "name": "stdout",
     "output_type": "stream",
     "text": [
      "_________________________________________________________________\n",
      "Layer (type)                 Output Shape              Param #   \n",
      "=================================================================\n",
      "conv3d_5 (Conv3D)            (None, 83, 140, 122, 64)  64064     \n",
      "_________________________________________________________________\n",
      "max_pooling3d_5 (MaxPooling3 (None, 41, 70, 61, 64)    0         \n",
      "_________________________________________________________________\n",
      "conv3d_6 (Conv3D)            (None, 39, 68, 59, 128)   221312    \n",
      "_________________________________________________________________\n",
      "max_pooling3d_6 (MaxPooling3 (None, 19, 34, 29, 128)   0         \n",
      "_________________________________________________________________\n",
      "conv3d_7 (Conv3D)            (None, 17, 32, 27, 256)   884992    \n",
      "_________________________________________________________________\n",
      "max_pooling3d_7 (MaxPooling3 (None, 8, 16, 13, 256)    0         \n",
      "_________________________________________________________________\n",
      "conv3d_8 (Conv3D)            (None, 6, 14, 11, 512)    3539456   \n",
      "_________________________________________________________________\n",
      "max_pooling3d_8 (MaxPooling3 (None, 3, 7, 5, 512)      0         \n",
      "_________________________________________________________________\n",
      "flatten_2 (Flatten)          (None, 53760)             0         \n",
      "_________________________________________________________________\n",
      "dense_5 (Dense)              (None, 256)               13762816  \n",
      "_________________________________________________________________\n",
      "dropout_4 (Dropout)          (None, 256)               0         \n",
      "_________________________________________________________________\n",
      "dense_6 (Dense)              (None, 128)               32896     \n",
      "_________________________________________________________________\n",
      "dropout_5 (Dropout)          (None, 128)               0         \n",
      "_________________________________________________________________\n",
      "dense_7 (Dense)              (None, 32)                4128      \n",
      "_________________________________________________________________\n",
      "dropout_6 (Dropout)          (None, 32)                0         \n",
      "_________________________________________________________________\n",
      "dense_8 (Dense)              (None, 1)                 33        \n",
      "=================================================================\n",
      "Total params: 18,509,697\n",
      "Trainable params: 18,509,697\n",
      "Non-trainable params: 0\n",
      "_________________________________________________________________\n"
     ]
    }
   ],
   "source": [
    "model.summary()"
   ]
  },
  {
   "cell_type": "code",
   "execution_count": 13,
   "metadata": {},
   "outputs": [],
   "source": [
    "model = multi_gpu_model(model, gpus=2)"
   ]
  },
  {
   "cell_type": "code",
   "execution_count": 16,
   "metadata": {},
   "outputs": [],
   "source": [
    "model.compile(optimizer=SGD(lr = 0.001),\n",
    "              loss='mean_squared_error',\n",
    "              metrics=[metrics.mse])"
   ]
  },
  {
   "cell_type": "code",
   "execution_count": 17,
   "metadata": {},
   "outputs": [],
   "source": [
    "# Load the weights\n",
    "model.load_weights('new/test_cnn_model_weights.h5')"
   ]
  },
  {
   "cell_type": "markdown",
   "metadata": {},
   "source": [
    "### Evaluate the model"
   ]
  },
  {
   "cell_type": "code",
   "execution_count": 18,
   "metadata": {},
   "outputs": [
    {
     "name": "stdout",
     "output_type": "stream",
     "text": [
      "Actual values:  [3.1  6.74 7.44 6.88 6.15]\n",
      "Predicted data:  [6.254906  6.1303887 6.2578764 6.2205167 6.233172 ]\n"
     ]
    }
   ],
   "source": [
    "# Get some test data from training data and predict\n",
    "batch_size = 5\n",
    "x_test, y_test = next(generator(x_train, y_train, batch_size))\n",
    "y_pred = model.predict(x_test)\n",
    "print('Actual values: ', y_test)\n",
    "print('Predicted data: ', y_pred.flatten())"
   ]
  },
  {
   "cell_type": "code",
   "execution_count": 19,
   "metadata": {},
   "outputs": [
    {
     "name": "stdout",
     "output_type": "stream",
     "text": [
      "The mean of y_train  6.47488\n"
     ]
    }
   ],
   "source": [
    "print(\"The mean of y_train \", np.mean(y_train))"
   ]
  },
  {
   "cell_type": "code",
   "execution_count": 20,
   "metadata": {},
   "outputs": [],
   "source": [
    "y_exp = []\n",
    "y_predict = []"
   ]
  },
  {
   "cell_type": "code",
   "execution_count": 21,
   "metadata": {},
   "outputs": [],
   "source": [
    "for _ in range(10):\n",
    "    bx, y_ = next(generator(x_train, y_train, batch_size))\n",
    "    y_p = model.predict(bx)\n",
    "    y_predict = y_predict + y_p.tolist()\n",
    "    y_exp = y_exp + y_.tolist()"
   ]
  },
  {
   "cell_type": "code",
   "execution_count": 22,
   "metadata": {},
   "outputs": [
    {
     "data": {
      "text/plain": [
       "0.0778020690339033"
      ]
     },
     "execution_count": 22,
     "metadata": {},
     "output_type": "execute_result"
    }
   ],
   "source": [
    "r2 = r2_score(y_pred=y_predict, y_true=y_exp)\n",
    "r2"
   ]
  },
  {
   "cell_type": "code",
   "execution_count": 23,
   "metadata": {},
   "outputs": [
    {
     "data": {
      "image/png": "[encoded data removed]",
      "text/plain": [
       "<matplotlib.figure.Figure at 0x7f3efc3e2eb8>"
      ]
     },
     "metadata": {},
     "output_type": "display_data"
    }
   ],
   "source": [
    "f = plt.figure()\n",
    "plt.xlabel('Experimental Values')\n",
    "plt.ylabel('Predicted Values')\n",
    "plt.scatter(y_exp, y_predict, marker='o', edgecolors='b')\n",
    "# plt.legend(['Binding Affinity'])\n",
    "plt.show()"
   ]
  },
  {
   "cell_type": "code",
   "execution_count": 20,
   "metadata": {},
   "outputs": [
    {
     "data": {
      "image/png": "[encoded data removed]",
      "text/plain": [
       "<matplotlib.figure.Figure at 0x7f1798a12cf8>"
      ]
     },
     "metadata": {},
     "output_type": "display_data"
    }
   ],
   "source": [
    "f = plt.figure()\n",
    "plt.xlabel('Experimental Values')\n",
    "plt.ylabel('Predicted Values')\n",
    "plt.scatter(y_exp, y_predict, marker='o', edgecolors='b')\n",
    "# plt.legend(['Binding Affinity'])\n",
    "plt.show()"
   ]
  },
  {
   "cell_type": "code",
   "execution_count": 21,
   "metadata": {},
   "outputs": [],
   "source": [
    "f.savefig('comparison.png')"
   ]
  },
  {
   "cell_type": "markdown",
   "metadata": {},
   "source": [
    "### Training history"
   ]
  },
  {
   "cell_type": "code",
   "execution_count": 24,
   "metadata": {},
   "outputs": [],
   "source": [
    "import matplotlib.pyplot as plt\n",
    "%matplotlib inline"
   ]
  },
  {
   "cell_type": "code",
   "execution_count": 25,
   "metadata": {},
   "outputs": [],
   "source": [
    "with open('new/test_history.pickle', 'rb') as f:\n",
    "    history = pickle.load(f)"
   ]
  },
  {
   "cell_type": "code",
   "execution_count": 26,
   "metadata": {},
   "outputs": [
    {
     "data": {
      "image/png": "[encoded data removed]",
      "text/plain": [
       "<matplotlib.figure.Figure at 0x7f3efc394cf8>"
      ]
     },
     "metadata": {},
     "output_type": "display_data"
    }
   ],
   "source": [
    "f2 = plt.figure()\n",
    "plt.xlabel('Epochs')\n",
    "plt.ylabel('Training MSE')\n",
    "plt.plot(history['loss'], label='Training MSE')\n",
    "plt.legend()\n",
    "plt.show()"
   ]
  },
  {
   "cell_type": "code",
   "execution_count": 25,
   "metadata": {},
   "outputs": [],
   "source": [
    "f2.savefig('training.png')"
   ]
  }
 ],
 "metadata": {
  "kernelspec": {
   "display_name": "Python 3",
   "language": "python",
   "name": "python3"
  },
  "language_info": {
   "codemirror_mode": {
    "name": "ipython",
    "version": 3
   },
   "file_extension": ".py",
   "mimetype": "text/x-python",
   "name": "python",
   "nbconvert_exporter": "python",
   "pygments_lexer": "ipython3",
   "version": "3.6.4"
  }
 },
 "nbformat": 4,
 "nbformat_minor": 2
}
