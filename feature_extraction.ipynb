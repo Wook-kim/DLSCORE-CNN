{
 "cells": [
  {
   "cell_type": "code",
   "execution_count": 71,
   "metadata": {},
   "outputs": [],
   "source": [
    "import numpy as np\n",
    "import csv\n",
    "import glob\n",
    "import htmd.ui as ht\n",
    "import htmd.molecule.voxeldescriptors as vd\n",
    "import htmd.molecule.vmdparser as vp\n",
    "from tqdm import *\n",
    "import pickle\n",
    "import bcolz as bc"
   ]
  },
  {
   "cell_type": "code",
   "execution_count": 2,
   "metadata": {},
   "outputs": [],
   "source": [
    "import warnings\n",
    "warnings.filterwarnings('ignore')"
   ]
  },
  {
   "cell_type": "code",
   "execution_count": 3,
   "metadata": {},
   "outputs": [],
   "source": [
    "# Read the data file and get all the pdb ids\n",
    "def read_score():\n",
    "    pdb_ids = []\n",
    "    scores = {}\n",
    "    with open('pdbbind_refined_set.csv', 'r') as csvfile:\n",
    "        reader = csv.reader(csvfile)\n",
    "        next(reader, None) # Skip the header\n",
    "        for row in reader:\n",
    "            pdb_ids.append(row[1])\n",
    "            scores[row[1]]= float(row[5])\n",
    "\n",
    "    return pdb_ids, scores"
   ]
  },
  {
   "cell_type": "code",
   "execution_count": 60,
   "metadata": {},
   "outputs": [],
   "source": [
    "def _findDonors(mol, bonds):\n",
    "    donors = np.zeros(mol.numAtoms, dtype=bool)\n",
    "    hydrogens = np.where((mol.element == 'HD') | (mol.element == 'HS'))[0]\n",
    "    for h in hydrogens:\n",
    "        partners = bonds[bonds[:, 0] == h, 1]\n",
    "        partners = np.hstack((partners, bonds[bonds[:, 1] == h, 0]))\n",
    "        for p in partners:\n",
    "            if mol.name[p][0] == 'N' or mol.name[p][0] == 'O':\n",
    "                donors[p] = True\n",
    "    return donors"
   ]
  },
  {
   "cell_type": "code",
   "execution_count": 5,
   "metadata": {},
   "outputs": [],
   "source": [
    "def get_channels(mol):\n",
    "    from collections import OrderedDict\n",
    "    props = OrderedDict()\n",
    "    _order = ('hydrophobic', 'aromatic', 'hbond_acceptor', 'hbond_donor', 'positive_ionizable',\n",
    "          'negative_ionizable', 'metal', 'occupancies')\n",
    "    elements = np.array([el.upper() for el in mol.element])\n",
    "\n",
    "    props['hydrophobic'] = (elements == 'C') | (elements == 'A')\n",
    "    props['aromatic'] = elements == 'A'\n",
    "    props['hbond_acceptor'] = (elements == 'NA') | (elements == 'NS') | (elements == 'OA') | (elements == 'OS') | (\n",
    "    elements == 'SA')\n",
    "    props['hbond_donor'] = _findDonors(mol, mol._getBonds())\n",
    "    props['positive_ionizable'] = mol.charge > 0\n",
    "    props['negative_ionizable'] = mol.charge < 0\n",
    "    props['metal'] = (elements == 'MG') | (elements == 'ZN') | (elements == 'MN') | \\\n",
    "                     (elements == 'CA') | (elements == 'FE')\n",
    "    props['occupancies'] = (elements != 'H') & (elements != 'HS') & (elements != 'HD')\n",
    "\n",
    "    channels = np.zeros((len(elements), len(props)), dtype=bool)\n",
    "    for i, p in enumerate(_order):\n",
    "        channels[:, i] = props[p]\n",
    "    return channels"
   ]
  },
  {
   "cell_type": "code",
   "execution_count": 6,
   "metadata": {},
   "outputs": [],
   "source": [
    "def get_all_channels(mol):\n",
    "    from collections import OrderedDict\n",
    "    props = OrderedDict()\n",
    "    _order = ('p_hydrophobic', 'p_aromatic', 'p_hbond_acceptor', 'p_hbond_donor',\n",
    "              'p_positive_ionizable', 'p_negative_ionizable', 'p_metal', 'p_occupancies',\n",
    "              'l_hydrophobic', 'l_aromatic', 'l_hbond_acceptor', 'l_hbond_donor',\n",
    "              'l_positive_ionizable', 'l_negative_ionizable', 'l_metal', 'l_occupancies')\n",
    "    elements = np.array([el.upper() for el in mol.element])\n",
    "\n",
    "    # Proteins\n",
    "    _map = (elements == 'C') | (elements == 'A')\n",
    "    props['p_hydrophobic'] = np.array([i and j for (i, j) in zip(_map, mol.atomselect('protein'))])\n",
    "    \n",
    "    _map = elements == 'A'\n",
    "    props['p_aromatic'] = np.array([i and j for (i, j) in zip(_map, mol.atomselect('protein'))])\n",
    "    \n",
    "    _map = (elements == 'NA') | (elements == 'NS') | (elements == 'OA') | (elements == 'OS') | (\n",
    "    elements == 'SA')    \n",
    "    props['p_hbond_acceptor'] = np.array([i and j for (i, j) in zip(_map, mol.atomselect('protein'))])\n",
    "    \n",
    "    _map = _findDonors(mol, mol._getBonds())\n",
    "    props['p_hbond_donor'] = np.array([i and j for (i, j) in zip(_map, mol.atomselect('protein'))])\n",
    "    \n",
    "    _map = mol.charge > 0\n",
    "    props['p_positive_ionizable'] = np.array([i and j for (i, j) in zip(_map, mol.atomselect('protein'))])\n",
    "    \n",
    "    _map = mol.charge < 0\n",
    "    props['p_negative_ionizable'] = np.array([i and j for (i, j) in zip(_map, mol.atomselect('protein'))])\n",
    "    \n",
    "    _map = (elements == 'MG') | (elements == 'ZN') | (elements == 'MN') | \\\n",
    "                     (elements == 'CA') | (elements == 'FE')\n",
    "    props['p_metal'] = np.array([i and j for (i, j) in zip(_map, mol.atomselect('protein'))])\n",
    "    \n",
    "    _map = (elements != 'H') & (elements != 'HS') & (elements != 'HD')\n",
    "    props['p_occupancies'] = np.array([i and j for (i, j) in zip(_map, mol.atomselect('protein'))])\n",
    "    \n",
    "    # Ligands\n",
    "    _map = (elements == 'C') | (elements == 'A')\n",
    "    props['l_hydrophobic'] = np.array([i and j for (i, j) in zip(_map, mol.atomselect('not protein'))])\n",
    "    \n",
    "    _map = elements == 'A'\n",
    "    props['l_aromatic'] = np.array([i and j for (i, j) in zip(_map, mol.atomselect('not protein'))])\n",
    "    \n",
    "    _map = (elements == 'NA') | (elements == 'NS') | (elements == 'OA') | (elements == 'OS') | (\n",
    "    elements == 'SA')    \n",
    "    props['l_hbond_acceptor'] = np.array([i and j for (i, j) in zip(_map, mol.atomselect('not protein'))])\n",
    "    \n",
    "    _map = _findDonors(mol, mol._getBonds())\n",
    "    props['l_hbond_donor'] = np.array([i and j for (i, j) in zip(_map, mol.atomselect('not protein'))])\n",
    "    \n",
    "    _map = mol.charge > 0\n",
    "    props['l_positive_ionizable'] = np.array([i and j for (i, j) in zip(_map, mol.atomselect('not protein'))])\n",
    "    \n",
    "    _map = mol.charge < 0\n",
    "    props['l_negative_ionizable'] = np.array([i and j for (i, j) in zip(_map, mol.atomselect('not protein'))])\n",
    "    \n",
    "    _map = (elements == 'MG') | (elements == 'ZN') | (elements == 'MN') | \\\n",
    "                     (elements == 'CA') | (elements == 'FE')\n",
    "    props['l_metal'] = np.array([i and j for (i, j) in zip(_map, mol.atomselect('not protein'))])\n",
    "    \n",
    "    _map = (elements != 'H') & (elements != 'HS') & (elements != 'HD')\n",
    "    props['l_occupancies'] = np.array([i and j for (i, j) in zip(_map, mol.atomselect('not protein'))])\n",
    "    \n",
    "\n",
    "    channels = np.zeros((len(elements), len(props)), dtype=bool)\n",
    "    for i, p in enumerate(_order):\n",
    "        channels[:, i] = props[p]\n",
    "    return channels"
   ]
  },
  {
   "cell_type": "code",
   "execution_count": 61,
   "metadata": {},
   "outputs": [],
   "source": [
    "def _reshape(x):\n",
    "    new_shape = [50, 50, 50, 16]\n",
    "    dim_diff = np.array([i-j for i, j in zip(new_shape, x.shape)])\n",
    "    pad_dim = np.round(dim_diff / 2).astype(int)\n",
    "    x = np.pad(x, [(pad_dim[0], dim_diff[0]-pad_dim[0]),\n",
    "                   (pad_dim[1], dim_diff[1]-pad_dim[1]),\n",
    "                   (pad_dim[2], dim_diff[2]-pad_dim[2]),\n",
    "                   (0, 0)],\n",
    "               'constant')\n",
    "    return x #[13:37, 13:37, 13:37, :]"
   ]
  },
  {
   "cell_type": "code",
   "execution_count": 8,
   "metadata": {},
   "outputs": [
    {
     "data": {
      "text/plain": [
       "(4154, 4154)"
      ]
     },
     "execution_count": 8,
     "metadata": {},
     "output_type": "execute_result"
    }
   ],
   "source": [
    "# Read experimental values for each pdb ids\n",
    "pdb_ids, scores = read_score()\n",
    "len(pdb_ids), len(scores)"
   ]
  },
  {
   "cell_type": "code",
   "execution_count": 75,
   "metadata": {},
   "outputs": [],
   "source": [
    "limit = 2000\n",
    "data_x = np.zeros([limit, 50, 50, 50, 16])\n",
    "data_y = np.zeros(limit)\n",
    "# Get the pocket files\n",
    "data_dir = \"../../pdbbind_data/\"\n",
    "files = glob.glob(data_dir + \"*/*/*_pocket.pdb\", recursive=True)\n",
    "count = 0\n",
    "\n",
    "pbar = tqdm_notebook(total = limit)\n",
    "for file in files:\n",
    "    mol = ht.Molecule(file)\n",
    "    _id = mol.viewname[:4]\n",
    "    if _id not in pdb_ids:\n",
    "        continue\n",
    "    c = np.mean(mol.coords, axis=0)\n",
    "    mol.moveBy(-c)\n",
    "    # Renumber residues\n",
    "    mol.renumberResidues()\n",
    "    try:\n",
    "        # Get the voxeldescriptors\n",
    "        f, centers, natoms = vd.getVoxelDescriptors(mol, channels=get_all_channels(mol))#, method='CUDA')\n",
    "        f = f.reshape(natoms[0], natoms[1], natoms[2], -1)\n",
    "        data_x[count] = _reshape(f)\n",
    "        data_y[count] = scores[_id]\n",
    "        \n",
    "        count = count + 1\n",
    "        pbar.update()\n",
    "        if count == limit:\n",
    "            break\n",
    "    except:\n",
    "        continue"
   ]
  },
  {
   "cell_type": "code",
   "execution_count": 63,
   "metadata": {},
   "outputs": [
    {
     "data": {
      "text/plain": [
       "((2000, 50, 50, 50, 16), (2000,))"
      ]
     },
     "execution_count": 63,
     "metadata": {},
     "output_type": "execute_result"
    }
   ],
   "source": [
    "data_x.shape, data_y.shape"
   ]
  },
  {
   "cell_type": "code",
   "execution_count": 64,
   "metadata": {},
   "outputs": [
    {
     "data": {
      "text/plain": [
       "(250000000, 16)"
      ]
     },
     "execution_count": 64,
     "metadata": {},
     "output_type": "execute_result"
    }
   ],
   "source": [
    "feat = data_x.reshape((-1, 16))\n",
    "feat.shape"
   ]
  },
  {
   "cell_type": "code",
   "execution_count": 65,
   "metadata": {},
   "outputs": [
    {
     "data": {
      "text/plain": [
       "array([1., 0., 0., 0., 0., 0., 0., 1., 0., 0., 1., 0., 0., 0., 1., 1.])"
      ]
     },
     "execution_count": 65,
     "metadata": {},
     "output_type": "execute_result"
    }
   ],
   "source": [
    "np.amax(feat, axis=0)"
   ]
  },
  {
   "cell_type": "code",
   "execution_count": 66,
   "metadata": {},
   "outputs": [
    {
     "data": {
      "text/plain": [
       "array([0., 0., 0., 0., 0., 0., 0., 0., 0., 0., 0., 0., 0., 0., 0., 0.])"
      ]
     },
     "execution_count": 66,
     "metadata": {},
     "output_type": "execute_result"
    }
   ],
   "source": [
    "np.amin(feat, axis=0)"
   ]
  },
  {
   "cell_type": "code",
   "execution_count": 67,
   "metadata": {},
   "outputs": [
    {
     "data": {
      "text/plain": [
       "array([2.61169047e-02, 0.00000000e+00, 0.00000000e+00, 0.00000000e+00,\n",
       "       0.00000000e+00, 0.00000000e+00, 0.00000000e+00, 3.23940693e-02,\n",
       "       0.00000000e+00, 0.00000000e+00, 8.21072448e-07, 0.00000000e+00,\n",
       "       0.00000000e+00, 0.00000000e+00, 2.40449957e-05, 2.14429839e-03])"
      ]
     },
     "execution_count": 67,
     "metadata": {},
     "output_type": "execute_result"
    }
   ],
   "source": [
    "np.var(feat, axis=0)"
   ]
  },
  {
   "cell_type": "code",
   "execution_count": 68,
   "metadata": {},
   "outputs": [
    {
     "data": {
      "text/plain": [
       "4.053929466889376"
      ]
     },
     "execution_count": 68,
     "metadata": {},
     "output_type": "execute_result"
    }
   ],
   "source": [
    "np.var(data_y)"
   ]
  },
  {
   "cell_type": "code",
   "execution_count": 69,
   "metadata": {},
   "outputs": [],
   "source": [
    "with open('data_x_2000.pickle', 'wb') as f:\n",
    "    pickle.dump(data_x, f, pickle.HIGHEST_PROTOCOL)\n",
    "with open('data_y_2000.pickle', 'wb') as f:\n",
    "    pickle.dump(data_y, f, pickle.HIGHEST_PROTOCOL)"
   ]
  },
  {
   "cell_type": "code",
   "execution_count": 73,
   "metadata": {},
   "outputs": [],
   "source": [
    "# Create bcolz array\n",
    "bc_x = bc.carray(data_x, rootdir='bc_x_2000')"
   ]
  },
  {
   "cell_type": "code",
   "execution_count": 74,
   "metadata": {},
   "outputs": [],
   "source": [
    "# Write to the disk\n",
    "bc_x.flush()"
   ]
  }
 ],
 "metadata": {
  "kernelspec": {
   "display_name": "Python 3",
   "language": "python",
   "name": "python3"
  },
  "language_info": {
   "codemirror_mode": {
    "name": "ipython",
    "version": 3
   },
   "file_extension": ".py",
   "mimetype": "text/x-python",
   "name": "python",
   "nbconvert_exporter": "python",
   "pygments_lexer": "ipython3",
   "version": "3.6.4"
  }
 },
 "nbformat": 4,
 "nbformat_minor": 2
}
